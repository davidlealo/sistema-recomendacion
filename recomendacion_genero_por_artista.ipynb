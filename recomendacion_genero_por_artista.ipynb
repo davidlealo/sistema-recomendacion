{
  "nbformat": 4,
  "nbformat_minor": 0,
  "metadata": {
    "colab": {
      "provenance": [],
      "authorship_tag": "ABX9TyNkzIIjKyOFASg4tVkUDWFc",
      "include_colab_link": true
    },
    "kernelspec": {
      "name": "python3",
      "display_name": "Python 3"
    },
    "language_info": {
      "name": "python"
    }
  },
  "cells": [
    {
      "cell_type": "markdown",
      "metadata": {
        "id": "view-in-github",
        "colab_type": "text"
      },
      "source": [
        "<a href=\"https://colab.research.google.com/github/davidlealo/sistema-recomendacion/blob/main/recomendacion_genero_por_artista.ipynb\" target=\"_parent\"><img src=\"https://colab.research.google.com/assets/colab-badge.svg\" alt=\"Open In Colab\"/></a>"
      ]
    },
    {
      "cell_type": "markdown",
      "source": [
        "#Recomendación de género a través de artistas\n",
        "\n",
        "Sistema que busca identificar un género o grupo de estilos musicales para un usuario a través de una aplicación aque correrá en Google Colab o soluciones similares"
      ],
      "metadata": {
        "id": "qvqh_m8K3lFi"
      }
    },
    {
      "cell_type": "markdown",
      "source": [
        "### Instalar librerias"
      ],
      "metadata": {
        "id": "86_2fA_c5B_t"
      }
    },
    {
      "cell_type": "code",
      "source": [
        "!pip install scikit-surprise"
      ],
      "metadata": {
        "colab": {
          "base_uri": "https://localhost:8080/"
        },
        "collapsed": true,
        "id": "K9RMfEqY5EoF",
        "outputId": "e7572b60-9d04-48c8-8c3b-43e85c8d8fba"
      },
      "execution_count": 2,
      "outputs": [
        {
          "output_type": "stream",
          "name": "stdout",
          "text": [
            "Collecting scikit-surprise\n",
            "  Downloading scikit_surprise-1.1.4.tar.gz (154 kB)\n",
            "\u001b[2K     \u001b[90m━━━━━━━━━━━━━━━━━━━━━━━━━━━━━━━━━━━━━━━━\u001b[0m \u001b[32m154.4/154.4 kB\u001b[0m \u001b[31m1.0 MB/s\u001b[0m eta \u001b[36m0:00:00\u001b[0m\n",
            "\u001b[?25h  Installing build dependencies ... \u001b[?25l\u001b[?25hdone\n",
            "  Getting requirements to build wheel ... \u001b[?25l\u001b[?25hdone\n",
            "  Preparing metadata (pyproject.toml) ... \u001b[?25l\u001b[?25hdone\n",
            "Requirement already satisfied: joblib>=1.2.0 in /usr/local/lib/python3.10/dist-packages (from scikit-surprise) (1.4.2)\n",
            "Requirement already satisfied: numpy>=1.19.5 in /usr/local/lib/python3.10/dist-packages (from scikit-surprise) (1.26.4)\n",
            "Requirement already satisfied: scipy>=1.6.0 in /usr/local/lib/python3.10/dist-packages (from scikit-surprise) (1.13.1)\n",
            "Building wheels for collected packages: scikit-surprise\n",
            "  Building wheel for scikit-surprise (pyproject.toml) ... \u001b[?25l\u001b[?25hdone\n",
            "  Created wheel for scikit-surprise: filename=scikit_surprise-1.1.4-cp310-cp310-linux_x86_64.whl size=2357276 sha256=84528274db37ffbdfa47e92c89782cc1374a4afa720c5bcc0693d6c0a69bf1a5\n",
            "  Stored in directory: /root/.cache/pip/wheels/4b/3f/df/6acbf0a40397d9bf3ff97f582cc22fb9ce66adde75bc71fd54\n",
            "Successfully built scikit-surprise\n",
            "Installing collected packages: scikit-surprise\n",
            "Successfully installed scikit-surprise-1.1.4\n"
          ]
        }
      ]
    },
    {
      "cell_type": "markdown",
      "source": [
        "### Recuperar datos"
      ],
      "metadata": {
        "id": "OhnyR3vB4xfa"
      }
    },
    {
      "cell_type": "code",
      "execution_count": 3,
      "metadata": {
        "colab": {
          "base_uri": "https://localhost:8080/"
        },
        "id": "bTVGIkE83da5",
        "outputId": "5797abb5-ff6e-42e3-c0bb-9665313af0f2"
      },
      "outputs": [
        {
          "output_type": "stream",
          "name": "stdout",
          "text": [
            "Descargando dataset...\n",
            "Descarga completa.\n",
            "Descomprimiendo dataset...\n",
            "Descompresión completa.\n"
          ]
        }
      ],
      "source": [
        "import os\n",
        "import zipfile\n",
        "import requests\n",
        "import pandas as pd\n",
        "from surprise import Dataset, Reader\n",
        "\n",
        "# URL del dataset\n",
        "url = \"https://files.grouplens.org/datasets/hetrec2011/hetrec2011-lastfm-2k.zip\"\n",
        "zip_file = \"hetrec2011-lastfm-2k.zip\"\n",
        "extract_dir = \"hetrec2011-lastfm-2k\"\n",
        "\n",
        "# Descargar el dataset\n",
        "if not os.path.exists(zip_file):\n",
        "    print(\"Descargando dataset...\")\n",
        "    response = requests.get(url)\n",
        "    with open(zip_file, 'wb') as f:\n",
        "        f.write(response.content)\n",
        "    print(\"Descarga completa.\")\n",
        "\n",
        "# Descomprimir el dataset\n",
        "if not os.path.exists(extract_dir):\n",
        "    print(\"Descomprimiendo dataset...\")\n",
        "    with zipfile.ZipFile(zip_file, 'r') as zip_ref:\n",
        "        zip_ref.extractall(extract_dir)\n",
        "    print(\"Descompresión completa.\")"
      ]
    },
    {
      "cell_type": "markdown",
      "source": [
        "### Cargar cada archivo en un dataframe"
      ],
      "metadata": {
        "id": "mQt_hxxy6Orf"
      }
    },
    {
      "cell_type": "code",
      "source": [
        "# user_artists.dat - Relación entre usuarios y artistas\n",
        "user_artists_path = os.path.join(extract_dir, 'user_artists.dat')\n",
        "df_user_artists = pd.read_csv(user_artists_path, sep='\\t')\n",
        "print(\"Datos de user_artists:\")\n",
        "print(df_user_artists.head())\n",
        "\n",
        "# artists.dat - Información sobre los artistas\n",
        "artists_path = os.path.join(extract_dir, 'artists.dat')\n",
        "df_artists = pd.read_csv(artists_path, sep='\\t')\n",
        "print(\"Datos de artists:\")\n",
        "print(df_artists.head())\n",
        "\n",
        "# tags.dat - Información sobre las etiquetas\n",
        "# Cargar el archivo tags.dat usando una codificación alternativa\n",
        "tags_path = os.path.join(extract_dir, 'tags.dat')\n",
        "try:\n",
        "    df_tags = pd.read_csv(tags_path, sep='\\t', encoding='latin1')  # Cambiar la codificación a latin1\n",
        "    print(\"Datos de tags:\")\n",
        "    print(df_tags.head())\n",
        "except UnicodeDecodeError as e:\n",
        "    print(f\"Error de decodificación: {e}\")\n",
        "\n",
        "\n",
        "# user_friends.dat - Relación de amistad entre usuarios\n",
        "user_friends_path = os.path.join(extract_dir, 'user_friends.dat')\n",
        "df_user_friends = pd.read_csv(user_friends_path, sep='\\t')\n",
        "print(\"Datos de user_friends:\")\n",
        "print(df_user_friends.head())\n",
        "\n",
        "# user_taggedartists-timestamps.dat - Etiquetas de los usuarios a los artistas con marcas de tiempo\n",
        "user_taggedartists_timestamps_path = os.path.join(extract_dir, 'user_taggedartists-timestamps.dat')\n",
        "df_user_taggedartists_timestamps = pd.read_csv(user_taggedartists_timestamps_path, sep='\\t')\n",
        "print(\"Datos de user_taggedartists_timestamps:\")\n",
        "print(df_user_taggedartists_timestamps.head())\n",
        "\n",
        "# user_taggedartists.dat - Etiquetas de los usuarios a los artistas\n",
        "user_taggedartists_path = os.path.join(extract_dir, 'user_taggedartists.dat')\n",
        "df_user_taggedartists = pd.read_csv(user_taggedartists_path, sep='\\t')\n",
        "print(\"Datos de user_taggedartists:\")\n",
        "print(df_user_taggedartists.head())\n",
        "\n",
        "# Preparar los datos para Surprise (usaremos user_artists.dat para recomendaciones)\n",
        "\n",
        "reader = Reader(rating_scale=(df_user_artists['weight'].min(), df_user_artists['weight'].max()))\n",
        "data = Dataset.load_from_df(df_user_artists[['userID', 'artistID', 'weight']], reader)"
      ],
      "metadata": {
        "colab": {
          "base_uri": "https://localhost:8080/"
        },
        "id": "9pIPCf3W6HkB",
        "outputId": "bb62a1c8-554d-425c-c931-06714637cb77"
      },
      "execution_count": 4,
      "outputs": [
        {
          "output_type": "stream",
          "name": "stdout",
          "text": [
            "Datos de user_artists:\n",
            "   userID  artistID  weight\n",
            "0       2        51   13883\n",
            "1       2        52   11690\n",
            "2       2        53   11351\n",
            "3       2        54   10300\n",
            "4       2        55    8983\n",
            "Datos de artists:\n",
            "   id               name                                         url  \\\n",
            "0   1       MALICE MIZER       http://www.last.fm/music/MALICE+MIZER   \n",
            "1   2    Diary of Dreams    http://www.last.fm/music/Diary+of+Dreams   \n",
            "2   3  Carpathian Forest  http://www.last.fm/music/Carpathian+Forest   \n",
            "3   4       Moi dix Mois       http://www.last.fm/music/Moi+dix+Mois   \n",
            "4   5        Bella Morte        http://www.last.fm/music/Bella+Morte   \n",
            "\n",
            "                                          pictureURL  \n",
            "0    http://userserve-ak.last.fm/serve/252/10808.jpg  \n",
            "1  http://userserve-ak.last.fm/serve/252/3052066.jpg  \n",
            "2  http://userserve-ak.last.fm/serve/252/40222717...  \n",
            "3  http://userserve-ak.last.fm/serve/252/54697835...  \n",
            "4  http://userserve-ak.last.fm/serve/252/14789013...  \n",
            "Datos de tags:\n",
            "   tagID           tagValue\n",
            "0      1              metal\n",
            "1      2  alternative metal\n",
            "2      3          goth rock\n",
            "3      4        black metal\n",
            "4      5        death metal\n",
            "Datos de user_friends:\n",
            "   userID  friendID\n",
            "0       2       275\n",
            "1       2       428\n",
            "2       2       515\n",
            "3       2       761\n",
            "4       2       831\n",
            "Datos de user_taggedartists_timestamps:\n",
            "   userID  artistID  tagID      timestamp\n",
            "0       2        52     13  1238536800000\n",
            "1       2        52     15  1238536800000\n",
            "2       2        52     18  1238536800000\n",
            "3       2        52     21  1238536800000\n",
            "4       2        52     41  1238536800000\n",
            "Datos de user_taggedartists:\n",
            "   userID  artistID  tagID  day  month  year\n",
            "0       2        52     13    1      4  2009\n",
            "1       2        52     15    1      4  2009\n",
            "2       2        52     18    1      4  2009\n",
            "3       2        52     21    1      4  2009\n",
            "4       2        52     41    1      4  2009\n"
          ]
        }
      ]
    },
    {
      "cell_type": "code",
      "source": [
        "from surprise import SVD, KNNBasic\n",
        "from surprise.model_selection import train_test_split, cross_validate\n",
        "\n",
        "# Crear un set de entrenamiento y prueba\n",
        "trainset, testset = train_test_split(data, test_size=0.25)\n",
        "\n",
        "# Usar SVD para el modelo de recomendación\n",
        "algo = SVD()\n",
        "\n",
        "# Entrenar el modelo\n",
        "algo.fit(trainset)\n",
        "\n",
        "# Evaluar el modelo\n",
        "predictions = algo.test(testset)"
      ],
      "metadata": {
        "id": "gckTg0x56kCh"
      },
      "execution_count": 5,
      "outputs": []
    },
    {
      "cell_type": "markdown",
      "source": [
        "### Entrenamiento y evaluación utilizando Surprise"
      ],
      "metadata": {
        "id": "F9JS0g1d66dw"
      }
    },
    {
      "cell_type": "code",
      "source": [
        "from surprise import Dataset, Reader, SVD, KNNBasic\n",
        "from surprise.model_selection import train_test_split, cross_validate\n",
        "\n",
        "# Preparación de los datos para Surprise\n",
        "reader = Reader(rating_scale=(df_user_artists['weight'].min(), df_user_artists['weight'].max()))\n",
        "data = Dataset.load_from_df(df_user_artists[['userID', 'artistID', 'weight']], reader)\n",
        "\n",
        "# Dividir el conjunto de datos en entrenamiento y prueba\n",
        "trainset, testset = train_test_split(data, test_size=0.25)\n",
        "\n",
        "# Usar el algoritmo SVD para crear el modelo de recomendación\n",
        "modelo_svd = SVD()\n",
        "\n",
        "# Entrenar el modelo SVD\n",
        "modelo_svd.fit(trainset)\n",
        "\n",
        "# Evaluar el modelo SVD\n",
        "predictions_svd = modelo_svd.test(testset)\n",
        "\n",
        "# Mostrar algunas predicciones SVD\n",
        "print(\"\\nAlgunas predicciones SVD:\")\n",
        "for prediction in predictions_svd[:5]:\n",
        "    print(prediction)\n",
        "\n",
        "# Usar el algoritmo KNNBasic para crear el modelo de recomendación\n",
        "modelo_knn = KNNBasic()\n",
        "\n",
        "# Entrenar el modelo KNNBasic\n",
        "modelo_knn.fit(trainset)\n",
        "\n",
        "# Evaluar el modelo KNNBasic\n",
        "predictions_knn = modelo_knn.test(testset)\n",
        "\n",
        "# Mostrar algunas predicciones KNNBasic\n",
        "print(\"\\nAlgunas predicciones KNNBasic:\")\n",
        "for prediction in predictions_knn[:5]:\n",
        "    print(prediction)\n",
        "\n",
        "# Evaluar el rendimiento de ambos modelos usando validación cruzada\n",
        "print(\"\\nEvaluación usando validación cruzada:\")\n",
        "cross_validate(modelo_svd, data, measures=['RMSE', 'MAE'], cv=5, verbose=True)\n",
        "cross_validate(modelo_knn, data, measures=['RMSE', 'MAE'], cv=5, verbose=True)"
      ],
      "metadata": {
        "colab": {
          "base_uri": "https://localhost:8080/"
        },
        "collapsed": true,
        "id": "dcSrb06K68MY",
        "outputId": "455c5800-35f4-46a5-fc7f-3ec1e943c754"
      },
      "execution_count": 6,
      "outputs": [
        {
          "output_type": "stream",
          "name": "stdout",
          "text": [
            "\n",
            "Algunas predicciones SVD:\n",
            "user: 1614       item: 3200       r_ui = 851.00   est = 352698.00   {'was_impossible': False}\n",
            "user: 334        item: 3467       r_ui = 656.00   est = 352698.00   {'was_impossible': False}\n",
            "user: 842        item: 1613       r_ui = 211.00   est = 352698.00   {'was_impossible': False}\n",
            "user: 1952       item: 417        r_ui = 198.00   est = 352698.00   {'was_impossible': False}\n",
            "user: 1108       item: 12360      r_ui = 106.00   est = 352698.00   {'was_impossible': False}\n",
            "Computing the msd similarity matrix...\n",
            "Done computing similarity matrix.\n",
            "\n",
            "Algunas predicciones KNNBasic:\n",
            "user: 1614       item: 3200       r_ui = 851.00   est = 242.82   {'actual_k': 40, 'was_impossible': False}\n",
            "user: 334        item: 3467       r_ui = 656.00   est = 176.29   {'actual_k': 3, 'was_impossible': False}\n",
            "user: 842        item: 1613       r_ui = 211.00   est = 694.71   {'actual_k': 20, 'was_impossible': False}\n",
            "user: 1952       item: 417        r_ui = 198.00   est = 732.45   {'was_impossible': True, 'reason': 'User and/or item is unknown.'}\n",
            "user: 1108       item: 12360      r_ui = 106.00   est = 732.45   {'was_impossible': True, 'reason': 'User and/or item is unknown.'}\n",
            "\n",
            "Evaluación usando validación cruzada:\n",
            "Evaluating RMSE, MAE of algorithm SVD on 5 split(s).\n",
            "\n",
            "                  Fold 1  Fold 2  Fold 3  Fold 4  Fold 5  Mean    Std     \n",
            "RMSE (testset)    351997.8541351943.6234351948.5730351970.3360351946.5912351961.395520.5358 \n",
            "MAE (testset)     351961.4214351921.5120351910.6116351943.2077351913.8797351930.126519.3364 \n",
            "Fit time          2.47    1.70    1.66    1.60    1.77    1.84    0.32    \n",
            "Test time         0.41    0.12    0.53    0.12    0.11    0.26    0.17    \n",
            "Computing the msd similarity matrix...\n",
            "Done computing similarity matrix.\n",
            "Computing the msd similarity matrix...\n",
            "Done computing similarity matrix.\n",
            "Computing the msd similarity matrix...\n",
            "Done computing similarity matrix.\n",
            "Computing the msd similarity matrix...\n",
            "Done computing similarity matrix.\n",
            "Computing the msd similarity matrix...\n",
            "Done computing similarity matrix.\n",
            "Evaluating RMSE, MAE of algorithm KNNBasic on 5 split(s).\n",
            "\n",
            "                  Fold 1  Fold 2  Fold 3  Fold 4  Fold 5  Mean    Std     \n",
            "RMSE (testset)    3052.50264382.33284535.08055370.91254546.94884377.5554747.8040\n",
            "MAE (testset)     728.3815780.0995774.4076812.4440809.1597780.898530.3138 \n",
            "Fit time          0.38    0.43    0.46    0.46    0.44    0.43    0.03    \n",
            "Test time         2.84    1.92    1.95    1.99    2.68    2.27    0.40    \n"
          ]
        },
        {
          "output_type": "execute_result",
          "data": {
            "text/plain": [
              "{'test_rmse': array([3052.50264999, 4382.33275007, 4535.08046407, 5370.9125418 ,\n",
              "        4546.94875751]),\n",
              " 'test_mae': array([728.38149886, 780.09948299, 774.40759619, 812.4440421 ,\n",
              "        809.15973089]),\n",
              " 'fit_time': (0.3776543140411377,\n",
              "  0.4290144443511963,\n",
              "  0.4625542163848877,\n",
              "  0.46065807342529297,\n",
              "  0.4421422481536865),\n",
              " 'test_time': (2.8351075649261475,\n",
              "  1.9222657680511475,\n",
              "  1.9478178024291992,\n",
              "  1.9879100322723389,\n",
              "  2.6771671772003174)}"
            ]
          },
          "metadata": {},
          "execution_count": 6
        }
      ]
    },
    {
      "cell_type": "markdown",
      "source": [
        "### Predicciones"
      ],
      "metadata": {
        "id": "lOW1unUOEUVL"
      }
    },
    {
      "cell_type": "code",
      "source": [
        "# Realizar una predicción para un usuario específico y un artista específico usando el modelo SVD\n",
        "user_id = 2  # ID del usuario\n",
        "artist_id = 51  # ID del artista\n",
        "\n",
        "# Hacer la predicción con el modelo SVD\n",
        "pred_svd = modelo_svd.predict(user_id, artist_id)\n",
        "print(f\"Predicción SVD para el usuario {user_id} y el artista {artist_id}: {pred_svd.est}\")\n",
        "\n",
        "# Hacer la predicción con el modelo KNNBasic\n",
        "pred_knn = modelo_knn.predict(user_id, artist_id)\n",
        "print(f\"Predicción KNNBasic para el usuario {user_id} y el artista {artist_id}: {pred_knn.est}\")"
      ],
      "metadata": {
        "colab": {
          "base_uri": "https://localhost:8080/"
        },
        "id": "Hy0M08ipEVsO",
        "outputId": "bb9e65d5-765a-4414-f043-ba8f99222265"
      },
      "execution_count": 7,
      "outputs": [
        {
          "output_type": "stream",
          "name": "stdout",
          "text": [
            "Predicción SVD para el usuario 2 y el artista 51: 352698\n",
            "Predicción KNNBasic para el usuario 2 y el artista 51: 4070.209266409252\n"
          ]
        }
      ]
    },
    {
      "cell_type": "markdown",
      "source": [
        "### Recomendaciones para usuarios y artistas definidos por el programa de prueba"
      ],
      "metadata": {
        "id": "92_jQEePFnWW"
      }
    },
    {
      "cell_type": "code",
      "source": [
        "# Obtener todos los artistID únicos desde el DataFrame de artistas\n",
        "all_artist_ids = df_artists['id'].unique()\n",
        "\n",
        "# Obtener el ID del usuario para el cual deseas hacer la recomendación (puedes cambiar el ID)\n",
        "user_id = 2  # Cambia esto por el ID del usuario que te interesa\n",
        "\n",
        "# Predecir para todos los artistas que el usuario no ha escuchado\n",
        "predictions = []\n",
        "for artist_id in all_artist_ids:\n",
        "    if artist_id not in df_user_artists[df_user_artists['userID'] == user_id]['artistID'].values:\n",
        "        # Hacer la predicción con el modelo\n",
        "        pred = modelo_svd.predict(user_id, artist_id)\n",
        "        predictions.append((artist_id, pred.est))\n",
        "\n",
        "# Ordenar las predicciones de mayor a menor\n",
        "predictions.sort(key=lambda x: x[1], reverse=True)\n",
        "\n",
        "# Mostrar las 5 mejores recomendaciones de artistas junto con su nombre y estilos de música\n",
        "print(\"\\nTop 5 recomendaciones de artistas para el usuario:\")\n",
        "for artist_id, rating in predictions[:5]:\n",
        "    # Obtener el nombre del artista\n",
        "    artist_name = df_artists[df_artists['id'] == artist_id]['name'].values[0]\n",
        "    # Obtener los estilos de música del artista\n",
        "    #artist_tags = artist_styles.get(artist_id, \"No disponible\")\n",
        "\n",
        "    #print(f\"Artista: {artist_name}, Predicción de rating: {rating}, Estilos: {artist_tags}\")\n"
      ],
      "metadata": {
        "colab": {
          "base_uri": "https://localhost:8080/"
        },
        "id": "KrTonKkLE8gA",
        "outputId": "9617bc95-2abb-4680-fc30-b52475ab1662"
      },
      "execution_count": 9,
      "outputs": [
        {
          "output_type": "stream",
          "name": "stdout",
          "text": [
            "\n",
            "Top 5 recomendaciones de artistas para el usuario:\n"
          ]
        }
      ]
    },
    {
      "cell_type": "markdown",
      "source": [
        "## Aplicación"
      ],
      "metadata": {
        "id": "a1IuCmNQFtZv"
      }
    },
    {
      "cell_type": "markdown",
      "source": [
        "### Versión 1"
      ],
      "metadata": {
        "id": "WGAsa_n8dKOd"
      }
    },
    {
      "cell_type": "code",
      "source": [
        "import random\n",
        "from IPython.display import Javascript, display\n",
        "from google.colab.output import eval_js\n",
        "import pandas as pd\n",
        "import numpy as np\n",
        "from surprise import Dataset, Reader, SVD\n",
        "\n",
        "# Normalizar 'weight' a una escala de 1 a 5\n",
        "min_weight = df_user_artists['weight'].min()\n",
        "max_weight = df_user_artists['weight'].max()\n",
        "\n",
        "df_user_artists['rating'] = 1 + 4 * (df_user_artists['weight'] - min_weight) / (max_weight - min_weight)\n",
        "\n",
        "# Convertir el DataFrame en el formato esperado por Surprise\n",
        "reader = Reader(rating_scale=(1, 5))\n",
        "data = Dataset.load_from_df(df_user_artists[['userID', 'artistID', 'rating']], reader)\n",
        "\n",
        "# Entrenar el modelo con Surprise\n",
        "trainset = data.build_full_trainset()\n",
        "modelo_svd = SVD()\n",
        "modelo_svd.fit(trainset)\n",
        "\n",
        "# Función para obtener recomendaciones basadas en predicciones\n",
        "def get_top_artists_for_user(user_id, last_liked_artist_id=None, n=5):\n",
        "    # Obtener todos los artistas que el usuario no ha escuchado\n",
        "    unheard_artists = set(df_artists['id']) - set(df_user_artists[df_user_artists['userID'] == user_id]['artistID'])\n",
        "\n",
        "    # Predecir ratings para estos artistas usando el modelo de Surprise\n",
        "    predictions = [(artist_id, modelo_svd.predict(user_id, artist_id).est) for artist_id in unheard_artists]\n",
        "\n",
        "    # Si hay un artista que le gustó, filtrar por similitud\n",
        "    if last_liked_artist_id is not None:\n",
        "        # Filtrar los artistas que tengan un score más cercano al último artista que le gustó\n",
        "        similar_artists = [(artist_id, score) for artist_id, score in predictions if abs(score - modelo_svd.predict(user_id, last_liked_artist_id).est) < 0.1]\n",
        "        predictions = similar_artists if similar_artists else predictions  # Si no hay similares, usar todos\n",
        "\n",
        "    # Ordenar por rating predicho y devolver los top n\n",
        "    return sorted(predictions, key=lambda x: x[1], reverse=True)[:n]\n",
        "\n",
        "# Inicializar lista de artistas recomendados para un usuario aleatorio\n",
        "def inicializar_recomendaciones():\n",
        "    global user_id, recommended_artists, current_index, last_liked_artist_id\n",
        "    user_id = random.choice(df_user_artists['userID'].unique())  # Seleccionar un usuario al azar\n",
        "    recommended_artists = get_top_artists_for_user(user_id)\n",
        "    current_index = 0\n",
        "    last_liked_artist_id = None  # Reiniciar el último artista que le gustó\n",
        "\n",
        "inicializar_recomendaciones()  # Generar la primera recomendación\n",
        "\n",
        "liked_artists = []  # Lista para almacenar artistas que le gustan\n",
        "like_count = 0  # Contador de \"me gusta\"\n",
        "\n",
        "def create_buttons(artist_name):\n",
        "    artist_name_escaped = artist_name.replace(\"'\", \"\\\\'\").replace('\"', '\\\\\"')  # Escapar caracteres\n",
        "    display(Javascript(f'''\n",
        "        var div = document.createElement('div');\n",
        "        var btn1 = document.createElement('button');\n",
        "        btn1.innerHTML = 'Me gusta: {artist_name_escaped}';\n",
        "        btn1.onclick = function() {{\n",
        "          google.colab.kernel.invokeFunction('notebook.callback', ['Me gusta', '{artist_name_escaped}'], {{}});\n",
        "        }};\n",
        "\n",
        "        var btn2 = document.createElement('button');\n",
        "        btn2.innerHTML = 'No me gusta: {artist_name_escaped}';\n",
        "        btn2.onclick = function() {{\n",
        "          google.colab.kernel.invokeFunction('notebook.callback', ['No me gusta', '{artist_name_escaped}'], {{}});\n",
        "        }};\n",
        "\n",
        "        div.appendChild(btn1);\n",
        "        div.appendChild(btn2);\n",
        "        document.body.appendChild(div);\n",
        "    '''))\n",
        "\n",
        "def handle_choice(choice, artist_name):\n",
        "    global user_id, recommended_artists, current_index, last_liked_artist_id, liked_artists, like_count\n",
        "\n",
        "    print(f'Has elegido: {choice} para {artist_name}')\n",
        "\n",
        "    if choice == 'Me gusta':\n",
        "        last_liked_artist_id = df_artists[df_artists['name'] == artist_name]['id'].values[0]  # Guardar el último artista que le gustó\n",
        "        liked_artists.append(artist_name)  # Agregar el artista a la lista de artistas que le gustan\n",
        "        like_count += 1  # Incrementar el contador de \"me gusta\"\n",
        "\n",
        "        # Verificar si ha alcanzado 6 \"me gusta\"\n",
        "        if like_count >= 6:\n",
        "            print(\"Te gustan los siguientes artistas:\")\n",
        "            for artist in liked_artists:\n",
        "                print(artist)\n",
        "            return  # Termina el programa\n",
        "\n",
        "        current_index += 1\n",
        "        if current_index < len(recommended_artists):\n",
        "            next_artist_id, next_score = recommended_artists[current_index]\n",
        "            next_artist_name = df_artists[df_artists['id'] == next_artist_id]['name'].values[0]\n",
        "            print(f\"Artista recomendado: {next_artist_name}, score: {next_score}\")\n",
        "            create_buttons(next_artist_name)\n",
        "        else:\n",
        "            print(\"No hay más artistas en la lista de recomendaciones. Seleccionando un nuevo usuario.\")\n",
        "            inicializar_recomendaciones()\n",
        "            next_artist_id, next_score = recommended_artists[current_index]\n",
        "            next_artist_name = df_artists[df_artists['id'] == next_artist_id]['name'].values[0]\n",
        "            print(f\"Nuevo usuario seleccionado. Artista recomendado: {next_artist_name}, score: {next_score}\")\n",
        "            create_buttons(next_artist_name)\n",
        "    else:\n",
        "        # Seleccionar un nuevo artista si elige 'No me gusta'\n",
        "        unheard_artists = set(df_artists['id']) - set(df_user_artists[df_user_artists['userID'] == user_id]['artistID'])\n",
        "        next_artist_id = random.choice(list(unheard_artists))\n",
        "        next_artist_name = df_artists[df_artists['id'] == next_artist_id]['name'].values[0]\n",
        "        next_score = modelo_svd.predict(user_id, next_artist_id).est\n",
        "        print(f\"Nuevo artista recomendado: {next_artist_name}, score: {next_score}\")\n",
        "        create_buttons(next_artist_name)\n",
        "\n",
        "# Registrar la función en Google Colab\n",
        "from google.colab import output\n",
        "output.register_callback('notebook.callback', handle_choice)\n",
        "\n",
        "# Mostrar el primer artista recomendado\n",
        "first_artist_id, first_score = recommended_artists[current_index]\n",
        "first_artist_name = df_artists[df_artists['id'] == first_artist_id]['name'].values[0]\n",
        "print(f\"Artista recomendado: {first_artist_name}, score: {first_score}\")\n",
        "create_buttons(first_artist_name)\n"
      ],
      "metadata": {
        "colab": {
          "base_uri": "https://localhost:8080/",
          "height": 1000
        },
        "id": "AA9t7XDRarwx",
        "outputId": "1e6f1be2-277a-4c31-e609-9fcdf7083f58"
      },
      "execution_count": 10,
      "outputs": [
        {
          "output_type": "stream",
          "name": "stdout",
          "text": [
            "Artista recomendado: S.I.R. Remixes, score: 1.372215193832603\n"
          ]
        },
        {
          "output_type": "display_data",
          "data": {
            "text/plain": [
              "<IPython.core.display.Javascript object>"
            ],
            "application/javascript": [
              "\n",
              "        var div = document.createElement('div');\n",
              "        var btn1 = document.createElement('button');\n",
              "        btn1.innerHTML = 'Me gusta: S.I.R. Remixes';\n",
              "        btn1.onclick = function() {\n",
              "          google.colab.kernel.invokeFunction('notebook.callback', ['Me gusta', 'S.I.R. Remixes'], {});\n",
              "        };\n",
              "\n",
              "        var btn2 = document.createElement('button');\n",
              "        btn2.innerHTML = 'No me gusta: S.I.R. Remixes';\n",
              "        btn2.onclick = function() {\n",
              "          google.colab.kernel.invokeFunction('notebook.callback', ['No me gusta', 'S.I.R. Remixes'], {});\n",
              "        };\n",
              "\n",
              "        div.appendChild(btn1);\n",
              "        div.appendChild(btn2);\n",
              "        document.body.appendChild(div);\n",
              "    "
            ]
          },
          "metadata": {}
        },
        {
          "output_type": "stream",
          "name": "stdout",
          "text": [
            "Has elegido: No me gusta para S.I.R. Remixes\n",
            "Nuevo artista recomendado: Riceboy Sleeps, score: 1.0177130009518889\n"
          ]
        },
        {
          "output_type": "display_data",
          "data": {
            "text/plain": [
              "<IPython.core.display.Javascript object>"
            ],
            "application/javascript": [
              "\n",
              "        var div = document.createElement('div');\n",
              "        var btn1 = document.createElement('button');\n",
              "        btn1.innerHTML = 'Me gusta: Riceboy Sleeps';\n",
              "        btn1.onclick = function() {\n",
              "          google.colab.kernel.invokeFunction('notebook.callback', ['Me gusta', 'Riceboy Sleeps'], {});\n",
              "        };\n",
              "\n",
              "        var btn2 = document.createElement('button');\n",
              "        btn2.innerHTML = 'No me gusta: Riceboy Sleeps';\n",
              "        btn2.onclick = function() {\n",
              "          google.colab.kernel.invokeFunction('notebook.callback', ['No me gusta', 'Riceboy Sleeps'], {});\n",
              "        };\n",
              "\n",
              "        div.appendChild(btn1);\n",
              "        div.appendChild(btn2);\n",
              "        document.body.appendChild(div);\n",
              "    "
            ]
          },
          "metadata": {}
        },
        {
          "output_type": "stream",
          "name": "stdout",
          "text": [
            "Has elegido: No me gusta para Riceboy Sleeps\n",
            "Nuevo artista recomendado: Afro Celt Sound System, score: 1\n"
          ]
        },
        {
          "output_type": "display_data",
          "data": {
            "text/plain": [
              "<IPython.core.display.Javascript object>"
            ],
            "application/javascript": [
              "\n",
              "        var div = document.createElement('div');\n",
              "        var btn1 = document.createElement('button');\n",
              "        btn1.innerHTML = 'Me gusta: Afro Celt Sound System';\n",
              "        btn1.onclick = function() {\n",
              "          google.colab.kernel.invokeFunction('notebook.callback', ['Me gusta', 'Afro Celt Sound System'], {});\n",
              "        };\n",
              "\n",
              "        var btn2 = document.createElement('button');\n",
              "        btn2.innerHTML = 'No me gusta: Afro Celt Sound System';\n",
              "        btn2.onclick = function() {\n",
              "          google.colab.kernel.invokeFunction('notebook.callback', ['No me gusta', 'Afro Celt Sound System'], {});\n",
              "        };\n",
              "\n",
              "        div.appendChild(btn1);\n",
              "        div.appendChild(btn2);\n",
              "        document.body.appendChild(div);\n",
              "    "
            ]
          },
          "metadata": {}
        },
        {
          "output_type": "stream",
          "name": "stdout",
          "text": [
            "Has elegido: No me gusta para Afro Celt Sound System\n",
            "Nuevo artista recomendado: Barilari, score: 1\n"
          ]
        },
        {
          "output_type": "display_data",
          "data": {
            "text/plain": [
              "<IPython.core.display.Javascript object>"
            ],
            "application/javascript": [
              "\n",
              "        var div = document.createElement('div');\n",
              "        var btn1 = document.createElement('button');\n",
              "        btn1.innerHTML = 'Me gusta: Barilari';\n",
              "        btn1.onclick = function() {\n",
              "          google.colab.kernel.invokeFunction('notebook.callback', ['Me gusta', 'Barilari'], {});\n",
              "        };\n",
              "\n",
              "        var btn2 = document.createElement('button');\n",
              "        btn2.innerHTML = 'No me gusta: Barilari';\n",
              "        btn2.onclick = function() {\n",
              "          google.colab.kernel.invokeFunction('notebook.callback', ['No me gusta', 'Barilari'], {});\n",
              "        };\n",
              "\n",
              "        div.appendChild(btn1);\n",
              "        div.appendChild(btn2);\n",
              "        document.body.appendChild(div);\n",
              "    "
            ]
          },
          "metadata": {}
        },
        {
          "output_type": "stream",
          "name": "stdout",
          "text": [
            "Has elegido: No me gusta para Barilari\n",
            "Nuevo artista recomendado: Espíritu, score: 1.0784590618118353\n"
          ]
        },
        {
          "output_type": "display_data",
          "data": {
            "text/plain": [
              "<IPython.core.display.Javascript object>"
            ],
            "application/javascript": [
              "\n",
              "        var div = document.createElement('div');\n",
              "        var btn1 = document.createElement('button');\n",
              "        btn1.innerHTML = 'Me gusta: Espíritu';\n",
              "        btn1.onclick = function() {\n",
              "          google.colab.kernel.invokeFunction('notebook.callback', ['Me gusta', 'Espíritu'], {});\n",
              "        };\n",
              "\n",
              "        var btn2 = document.createElement('button');\n",
              "        btn2.innerHTML = 'No me gusta: Espíritu';\n",
              "        btn2.onclick = function() {\n",
              "          google.colab.kernel.invokeFunction('notebook.callback', ['No me gusta', 'Espíritu'], {});\n",
              "        };\n",
              "\n",
              "        div.appendChild(btn1);\n",
              "        div.appendChild(btn2);\n",
              "        document.body.appendChild(div);\n",
              "    "
            ]
          },
          "metadata": {}
        },
        {
          "output_type": "stream",
          "name": "stdout",
          "text": [
            "Has elegido: No me gusta para Espíritu\n",
            "Nuevo artista recomendado: Daddy Yankee, score: 1.0046636421626365\n"
          ]
        },
        {
          "output_type": "display_data",
          "data": {
            "text/plain": [
              "<IPython.core.display.Javascript object>"
            ],
            "application/javascript": [
              "\n",
              "        var div = document.createElement('div');\n",
              "        var btn1 = document.createElement('button');\n",
              "        btn1.innerHTML = 'Me gusta: Daddy Yankee';\n",
              "        btn1.onclick = function() {\n",
              "          google.colab.kernel.invokeFunction('notebook.callback', ['Me gusta', 'Daddy Yankee'], {});\n",
              "        };\n",
              "\n",
              "        var btn2 = document.createElement('button');\n",
              "        btn2.innerHTML = 'No me gusta: Daddy Yankee';\n",
              "        btn2.onclick = function() {\n",
              "          google.colab.kernel.invokeFunction('notebook.callback', ['No me gusta', 'Daddy Yankee'], {});\n",
              "        };\n",
              "\n",
              "        div.appendChild(btn1);\n",
              "        div.appendChild(btn2);\n",
              "        document.body.appendChild(div);\n",
              "    "
            ]
          },
          "metadata": {}
        },
        {
          "output_type": "stream",
          "name": "stdout",
          "text": [
            "Has elegido: Me gusta para Daddy Yankee\n",
            "Artista recomendado: Unleashed, score: 1.3591860430075082\n"
          ]
        },
        {
          "output_type": "display_data",
          "data": {
            "text/plain": [
              "<IPython.core.display.Javascript object>"
            ],
            "application/javascript": [
              "\n",
              "        var div = document.createElement('div');\n",
              "        var btn1 = document.createElement('button');\n",
              "        btn1.innerHTML = 'Me gusta: Unleashed';\n",
              "        btn1.onclick = function() {\n",
              "          google.colab.kernel.invokeFunction('notebook.callback', ['Me gusta', 'Unleashed'], {});\n",
              "        };\n",
              "\n",
              "        var btn2 = document.createElement('button');\n",
              "        btn2.innerHTML = 'No me gusta: Unleashed';\n",
              "        btn2.onclick = function() {\n",
              "          google.colab.kernel.invokeFunction('notebook.callback', ['No me gusta', 'Unleashed'], {});\n",
              "        };\n",
              "\n",
              "        div.appendChild(btn1);\n",
              "        div.appendChild(btn2);\n",
              "        document.body.appendChild(div);\n",
              "    "
            ]
          },
          "metadata": {}
        },
        {
          "output_type": "stream",
          "name": "stdout",
          "text": [
            "Has elegido: No me gusta para Unleashed\n",
            "Nuevo artista recomendado: Lycia, score: 1\n"
          ]
        },
        {
          "output_type": "display_data",
          "data": {
            "text/plain": [
              "<IPython.core.display.Javascript object>"
            ],
            "application/javascript": [
              "\n",
              "        var div = document.createElement('div');\n",
              "        var btn1 = document.createElement('button');\n",
              "        btn1.innerHTML = 'Me gusta: Lycia';\n",
              "        btn1.onclick = function() {\n",
              "          google.colab.kernel.invokeFunction('notebook.callback', ['Me gusta', 'Lycia'], {});\n",
              "        };\n",
              "\n",
              "        var btn2 = document.createElement('button');\n",
              "        btn2.innerHTML = 'No me gusta: Lycia';\n",
              "        btn2.onclick = function() {\n",
              "          google.colab.kernel.invokeFunction('notebook.callback', ['No me gusta', 'Lycia'], {});\n",
              "        };\n",
              "\n",
              "        div.appendChild(btn1);\n",
              "        div.appendChild(btn2);\n",
              "        document.body.appendChild(div);\n",
              "    "
            ]
          },
          "metadata": {}
        },
        {
          "output_type": "stream",
          "name": "stdout",
          "text": [
            "Has elegido: No me gusta para Lycia\n",
            "Nuevo artista recomendado: Dianna Agron, score: 1.1104133226134276\n"
          ]
        },
        {
          "output_type": "display_data",
          "data": {
            "text/plain": [
              "<IPython.core.display.Javascript object>"
            ],
            "application/javascript": [
              "\n",
              "        var div = document.createElement('div');\n",
              "        var btn1 = document.createElement('button');\n",
              "        btn1.innerHTML = 'Me gusta: Dianna Agron';\n",
              "        btn1.onclick = function() {\n",
              "          google.colab.kernel.invokeFunction('notebook.callback', ['Me gusta', 'Dianna Agron'], {});\n",
              "        };\n",
              "\n",
              "        var btn2 = document.createElement('button');\n",
              "        btn2.innerHTML = 'No me gusta: Dianna Agron';\n",
              "        btn2.onclick = function() {\n",
              "          google.colab.kernel.invokeFunction('notebook.callback', ['No me gusta', 'Dianna Agron'], {});\n",
              "        };\n",
              "\n",
              "        div.appendChild(btn1);\n",
              "        div.appendChild(btn2);\n",
              "        document.body.appendChild(div);\n",
              "    "
            ]
          },
          "metadata": {}
        },
        {
          "output_type": "stream",
          "name": "stdout",
          "text": [
            "Has elegido: No me gusta para Dianna Agron\n",
            "Nuevo artista recomendado: Uchpa, score: 1.0154186446424405\n"
          ]
        },
        {
          "output_type": "display_data",
          "data": {
            "text/plain": [
              "<IPython.core.display.Javascript object>"
            ],
            "application/javascript": [
              "\n",
              "        var div = document.createElement('div');\n",
              "        var btn1 = document.createElement('button');\n",
              "        btn1.innerHTML = 'Me gusta: Uchpa';\n",
              "        btn1.onclick = function() {\n",
              "          google.colab.kernel.invokeFunction('notebook.callback', ['Me gusta', 'Uchpa'], {});\n",
              "        };\n",
              "\n",
              "        var btn2 = document.createElement('button');\n",
              "        btn2.innerHTML = 'No me gusta: Uchpa';\n",
              "        btn2.onclick = function() {\n",
              "          google.colab.kernel.invokeFunction('notebook.callback', ['No me gusta', 'Uchpa'], {});\n",
              "        };\n",
              "\n",
              "        div.appendChild(btn1);\n",
              "        div.appendChild(btn2);\n",
              "        document.body.appendChild(div);\n",
              "    "
            ]
          },
          "metadata": {}
        },
        {
          "output_type": "stream",
          "name": "stdout",
          "text": [
            "Has elegido: No me gusta para Uchpa\n",
            "Nuevo artista recomendado: William Basinski, score: 1.0366336320497853\n"
          ]
        },
        {
          "output_type": "display_data",
          "data": {
            "text/plain": [
              "<IPython.core.display.Javascript object>"
            ],
            "application/javascript": [
              "\n",
              "        var div = document.createElement('div');\n",
              "        var btn1 = document.createElement('button');\n",
              "        btn1.innerHTML = 'Me gusta: William Basinski';\n",
              "        btn1.onclick = function() {\n",
              "          google.colab.kernel.invokeFunction('notebook.callback', ['Me gusta', 'William Basinski'], {});\n",
              "        };\n",
              "\n",
              "        var btn2 = document.createElement('button');\n",
              "        btn2.innerHTML = 'No me gusta: William Basinski';\n",
              "        btn2.onclick = function() {\n",
              "          google.colab.kernel.invokeFunction('notebook.callback', ['No me gusta', 'William Basinski'], {});\n",
              "        };\n",
              "\n",
              "        div.appendChild(btn1);\n",
              "        div.appendChild(btn2);\n",
              "        document.body.appendChild(div);\n",
              "    "
            ]
          },
          "metadata": {}
        },
        {
          "output_type": "stream",
          "name": "stdout",
          "text": [
            "Has elegido: No me gusta para William Basinski\n",
            "Nuevo artista recomendado: Rick Aziago, score: 1.005207514233679\n"
          ]
        },
        {
          "output_type": "display_data",
          "data": {
            "text/plain": [
              "<IPython.core.display.Javascript object>"
            ],
            "application/javascript": [
              "\n",
              "        var div = document.createElement('div');\n",
              "        var btn1 = document.createElement('button');\n",
              "        btn1.innerHTML = 'Me gusta: Rick Aziago';\n",
              "        btn1.onclick = function() {\n",
              "          google.colab.kernel.invokeFunction('notebook.callback', ['Me gusta', 'Rick Aziago'], {});\n",
              "        };\n",
              "\n",
              "        var btn2 = document.createElement('button');\n",
              "        btn2.innerHTML = 'No me gusta: Rick Aziago';\n",
              "        btn2.onclick = function() {\n",
              "          google.colab.kernel.invokeFunction('notebook.callback', ['No me gusta', 'Rick Aziago'], {});\n",
              "        };\n",
              "\n",
              "        div.appendChild(btn1);\n",
              "        div.appendChild(btn2);\n",
              "        document.body.appendChild(div);\n",
              "    "
            ]
          },
          "metadata": {}
        },
        {
          "output_type": "stream",
          "name": "stdout",
          "text": [
            "Has elegido: No me gusta para Rick Aziago\n",
            "Nuevo artista recomendado: Woe Is Me, score: 1.154151993412755\n"
          ]
        },
        {
          "output_type": "display_data",
          "data": {
            "text/plain": [
              "<IPython.core.display.Javascript object>"
            ],
            "application/javascript": [
              "\n",
              "        var div = document.createElement('div');\n",
              "        var btn1 = document.createElement('button');\n",
              "        btn1.innerHTML = 'Me gusta: Woe Is Me';\n",
              "        btn1.onclick = function() {\n",
              "          google.colab.kernel.invokeFunction('notebook.callback', ['Me gusta', 'Woe Is Me'], {});\n",
              "        };\n",
              "\n",
              "        var btn2 = document.createElement('button');\n",
              "        btn2.innerHTML = 'No me gusta: Woe Is Me';\n",
              "        btn2.onclick = function() {\n",
              "          google.colab.kernel.invokeFunction('notebook.callback', ['No me gusta', 'Woe Is Me'], {});\n",
              "        };\n",
              "\n",
              "        div.appendChild(btn1);\n",
              "        div.appendChild(btn2);\n",
              "        document.body.appendChild(div);\n",
              "    "
            ]
          },
          "metadata": {}
        },
        {
          "output_type": "stream",
          "name": "stdout",
          "text": [
            "Has elegido: No me gusta para Woe Is Me\n",
            "Nuevo artista recomendado: O Bando do Velho Jack, score: 1.0351960948693548\n"
          ]
        },
        {
          "output_type": "display_data",
          "data": {
            "text/plain": [
              "<IPython.core.display.Javascript object>"
            ],
            "application/javascript": [
              "\n",
              "        var div = document.createElement('div');\n",
              "        var btn1 = document.createElement('button');\n",
              "        btn1.innerHTML = 'Me gusta: O Bando do Velho Jack';\n",
              "        btn1.onclick = function() {\n",
              "          google.colab.kernel.invokeFunction('notebook.callback', ['Me gusta', 'O Bando do Velho Jack'], {});\n",
              "        };\n",
              "\n",
              "        var btn2 = document.createElement('button');\n",
              "        btn2.innerHTML = 'No me gusta: O Bando do Velho Jack';\n",
              "        btn2.onclick = function() {\n",
              "          google.colab.kernel.invokeFunction('notebook.callback', ['No me gusta', 'O Bando do Velho Jack'], {});\n",
              "        };\n",
              "\n",
              "        div.appendChild(btn1);\n",
              "        div.appendChild(btn2);\n",
              "        document.body.appendChild(div);\n",
              "    "
            ]
          },
          "metadata": {}
        },
        {
          "output_type": "stream",
          "name": "stdout",
          "text": [
            "Has elegido: No me gusta para O Bando do Velho Jack\n",
            "Nuevo artista recomendado: Cellmod, score: 1.0006555089456\n"
          ]
        },
        {
          "output_type": "display_data",
          "data": {
            "text/plain": [
              "<IPython.core.display.Javascript object>"
            ],
            "application/javascript": [
              "\n",
              "        var div = document.createElement('div');\n",
              "        var btn1 = document.createElement('button');\n",
              "        btn1.innerHTML = 'Me gusta: Cellmod';\n",
              "        btn1.onclick = function() {\n",
              "          google.colab.kernel.invokeFunction('notebook.callback', ['Me gusta', 'Cellmod'], {});\n",
              "        };\n",
              "\n",
              "        var btn2 = document.createElement('button');\n",
              "        btn2.innerHTML = 'No me gusta: Cellmod';\n",
              "        btn2.onclick = function() {\n",
              "          google.colab.kernel.invokeFunction('notebook.callback', ['No me gusta', 'Cellmod'], {});\n",
              "        };\n",
              "\n",
              "        div.appendChild(btn1);\n",
              "        div.appendChild(btn2);\n",
              "        document.body.appendChild(div);\n",
              "    "
            ]
          },
          "metadata": {}
        },
        {
          "output_type": "stream",
          "name": "stdout",
          "text": [
            "Has elegido: No me gusta para Cellmod\n",
            "Nuevo artista recomendado: Afrojack ft. Eva Simons, score: 1.196088208405622\n"
          ]
        },
        {
          "output_type": "display_data",
          "data": {
            "text/plain": [
              "<IPython.core.display.Javascript object>"
            ],
            "application/javascript": [
              "\n",
              "        var div = document.createElement('div');\n",
              "        var btn1 = document.createElement('button');\n",
              "        btn1.innerHTML = 'Me gusta: Afrojack ft. Eva Simons';\n",
              "        btn1.onclick = function() {\n",
              "          google.colab.kernel.invokeFunction('notebook.callback', ['Me gusta', 'Afrojack ft. Eva Simons'], {});\n",
              "        };\n",
              "\n",
              "        var btn2 = document.createElement('button');\n",
              "        btn2.innerHTML = 'No me gusta: Afrojack ft. Eva Simons';\n",
              "        btn2.onclick = function() {\n",
              "          google.colab.kernel.invokeFunction('notebook.callback', ['No me gusta', 'Afrojack ft. Eva Simons'], {});\n",
              "        };\n",
              "\n",
              "        div.appendChild(btn1);\n",
              "        div.appendChild(btn2);\n",
              "        document.body.appendChild(div);\n",
              "    "
            ]
          },
          "metadata": {}
        },
        {
          "output_type": "stream",
          "name": "stdout",
          "text": [
            "Has elegido: No me gusta para Afrojack ft. Eva Simons\n",
            "Nuevo artista recomendado: TEX RODGERS, score: 1\n"
          ]
        },
        {
          "output_type": "display_data",
          "data": {
            "text/plain": [
              "<IPython.core.display.Javascript object>"
            ],
            "application/javascript": [
              "\n",
              "        var div = document.createElement('div');\n",
              "        var btn1 = document.createElement('button');\n",
              "        btn1.innerHTML = 'Me gusta: TEX RODGERS';\n",
              "        btn1.onclick = function() {\n",
              "          google.colab.kernel.invokeFunction('notebook.callback', ['Me gusta', 'TEX RODGERS'], {});\n",
              "        };\n",
              "\n",
              "        var btn2 = document.createElement('button');\n",
              "        btn2.innerHTML = 'No me gusta: TEX RODGERS';\n",
              "        btn2.onclick = function() {\n",
              "          google.colab.kernel.invokeFunction('notebook.callback', ['No me gusta', 'TEX RODGERS'], {});\n",
              "        };\n",
              "\n",
              "        div.appendChild(btn1);\n",
              "        div.appendChild(btn2);\n",
              "        document.body.appendChild(div);\n",
              "    "
            ]
          },
          "metadata": {}
        },
        {
          "output_type": "stream",
          "name": "stdout",
          "text": [
            "Has elegido: Me gusta para TEX RODGERS\n",
            "Artista recomendado: Jonny Lang, score: 1.3471393844916342\n"
          ]
        },
        {
          "output_type": "display_data",
          "data": {
            "text/plain": [
              "<IPython.core.display.Javascript object>"
            ],
            "application/javascript": [
              "\n",
              "        var div = document.createElement('div');\n",
              "        var btn1 = document.createElement('button');\n",
              "        btn1.innerHTML = 'Me gusta: Jonny Lang';\n",
              "        btn1.onclick = function() {\n",
              "          google.colab.kernel.invokeFunction('notebook.callback', ['Me gusta', 'Jonny Lang'], {});\n",
              "        };\n",
              "\n",
              "        var btn2 = document.createElement('button');\n",
              "        btn2.innerHTML = 'No me gusta: Jonny Lang';\n",
              "        btn2.onclick = function() {\n",
              "          google.colab.kernel.invokeFunction('notebook.callback', ['No me gusta', 'Jonny Lang'], {});\n",
              "        };\n",
              "\n",
              "        div.appendChild(btn1);\n",
              "        div.appendChild(btn2);\n",
              "        document.body.appendChild(div);\n",
              "    "
            ]
          },
          "metadata": {}
        },
        {
          "output_type": "stream",
          "name": "stdout",
          "text": [
            "Has elegido: Me gusta para Jonny Lang\n",
            "Artista recomendado: Hightide Hotel, score: 1.3373371403442327\n"
          ]
        },
        {
          "output_type": "display_data",
          "data": {
            "text/plain": [
              "<IPython.core.display.Javascript object>"
            ],
            "application/javascript": [
              "\n",
              "        var div = document.createElement('div');\n",
              "        var btn1 = document.createElement('button');\n",
              "        btn1.innerHTML = 'Me gusta: Hightide Hotel';\n",
              "        btn1.onclick = function() {\n",
              "          google.colab.kernel.invokeFunction('notebook.callback', ['Me gusta', 'Hightide Hotel'], {});\n",
              "        };\n",
              "\n",
              "        var btn2 = document.createElement('button');\n",
              "        btn2.innerHTML = 'No me gusta: Hightide Hotel';\n",
              "        btn2.onclick = function() {\n",
              "          google.colab.kernel.invokeFunction('notebook.callback', ['No me gusta', 'Hightide Hotel'], {});\n",
              "        };\n",
              "\n",
              "        div.appendChild(btn1);\n",
              "        div.appendChild(btn2);\n",
              "        document.body.appendChild(div);\n",
              "    "
            ]
          },
          "metadata": {}
        },
        {
          "output_type": "stream",
          "name": "stdout",
          "text": [
            "Has elegido: Me gusta para Hightide Hotel\n",
            "Artista recomendado: Metamatics, score: 1.331050585743906\n"
          ]
        },
        {
          "output_type": "display_data",
          "data": {
            "text/plain": [
              "<IPython.core.display.Javascript object>"
            ],
            "application/javascript": [
              "\n",
              "        var div = document.createElement('div');\n",
              "        var btn1 = document.createElement('button');\n",
              "        btn1.innerHTML = 'Me gusta: Metamatics';\n",
              "        btn1.onclick = function() {\n",
              "          google.colab.kernel.invokeFunction('notebook.callback', ['Me gusta', 'Metamatics'], {});\n",
              "        };\n",
              "\n",
              "        var btn2 = document.createElement('button');\n",
              "        btn2.innerHTML = 'No me gusta: Metamatics';\n",
              "        btn2.onclick = function() {\n",
              "          google.colab.kernel.invokeFunction('notebook.callback', ['No me gusta', 'Metamatics'], {});\n",
              "        };\n",
              "\n",
              "        div.appendChild(btn1);\n",
              "        div.appendChild(btn2);\n",
              "        document.body.appendChild(div);\n",
              "    "
            ]
          },
          "metadata": {}
        },
        {
          "output_type": "stream",
          "name": "stdout",
          "text": [
            "Has elegido: Me gusta para Metamatics\n",
            "No hay más artistas en la lista de recomendaciones. Seleccionando un nuevo usuario.\n",
            "Nuevo usuario seleccionado. Artista recomendado: Maeror Tri, score: 1.3040587034116795\n"
          ]
        },
        {
          "output_type": "display_data",
          "data": {
            "text/plain": [
              "<IPython.core.display.Javascript object>"
            ],
            "application/javascript": [
              "\n",
              "        var div = document.createElement('div');\n",
              "        var btn1 = document.createElement('button');\n",
              "        btn1.innerHTML = 'Me gusta: Maeror Tri';\n",
              "        btn1.onclick = function() {\n",
              "          google.colab.kernel.invokeFunction('notebook.callback', ['Me gusta', 'Maeror Tri'], {});\n",
              "        };\n",
              "\n",
              "        var btn2 = document.createElement('button');\n",
              "        btn2.innerHTML = 'No me gusta: Maeror Tri';\n",
              "        btn2.onclick = function() {\n",
              "          google.colab.kernel.invokeFunction('notebook.callback', ['No me gusta', 'Maeror Tri'], {});\n",
              "        };\n",
              "\n",
              "        div.appendChild(btn1);\n",
              "        div.appendChild(btn2);\n",
              "        document.body.appendChild(div);\n",
              "    "
            ]
          },
          "metadata": {}
        },
        {
          "output_type": "stream",
          "name": "stdout",
          "text": [
            "Has elegido: Me gusta para Maeror Tri\n",
            "Te gustan los siguientes artistas:\n",
            "Daddy Yankee\n",
            "TEX RODGERS\n",
            "Jonny Lang\n",
            "Hightide Hotel\n",
            "Metamatics\n",
            "Maeror Tri\n",
            "Has elegido: Me gusta para Maeror Tri\n",
            "Te gustan los siguientes artistas:\n",
            "Daddy Yankee\n",
            "TEX RODGERS\n",
            "Jonny Lang\n",
            "Hightide Hotel\n",
            "Metamatics\n",
            "Maeror Tri\n",
            "Maeror Tri\n"
          ]
        }
      ]
    },
    {
      "cell_type": "markdown",
      "source": [
        "### Versión 2"
      ],
      "metadata": {
        "id": "71FP4A64dNff"
      }
    },
    {
      "cell_type": "code",
      "source": [
        "import random\n",
        "from IPython.display import Javascript, display, HTML\n",
        "from google.colab.output import eval_js\n",
        "import pandas as pd\n",
        "import numpy as np\n",
        "from surprise import Dataset, Reader, SVD\n",
        "\n",
        "# Normalizar 'weight' a una escala de 1 a 5\n",
        "min_weight = df_user_artists['weight'].min()\n",
        "max_weight = df_user_artists['weight'].max()\n",
        "\n",
        "df_user_artists['rating'] = 1 + 4 * (df_user_artists['weight'] - min_weight) / (max_weight - min_weight)\n",
        "\n",
        "# Convertir el DataFrame en el formato esperado por Surprise\n",
        "reader = Reader(rating_scale=(1, 5))\n",
        "data = Dataset.load_from_df(df_user_artists[['userID', 'artistID', 'rating']], reader)\n",
        "\n",
        "# Entrenar el modelo con Surprise\n",
        "trainset = data.build_full_trainset()\n",
        "modelo_svd = SVD()\n",
        "modelo_svd.fit(trainset)\n",
        "\n",
        "# Función para obtener recomendaciones basadas en predicciones\n",
        "def get_top_artists_for_user(user_id, last_liked_artist_id=None, n=5):\n",
        "    # Obtener todos los artistas que el usuario no ha escuchado\n",
        "    unheard_artists = set(df_artists['id']) - set(df_user_artists[df_user_artists['userID'] == user_id]['artistID'])\n",
        "\n",
        "    # Predecir ratings para estos artistas usando el modelo de Surprise\n",
        "    predictions = [(artist_id, modelo_svd.predict(user_id, artist_id).est) for artist_id in unheard_artists]\n",
        "\n",
        "    # Si hay un artista que le gustó, filtrar por similitud\n",
        "    if last_liked_artist_id is not None:\n",
        "        # Filtrar los artistas que tengan un score más cercano al último artista que le gustó\n",
        "        similar_artists = [(artist_id, score) for artist_id, score in predictions if abs(score - modelo_svd.predict(user_id, last_liked_artist_id).est) < 0.1]\n",
        "        predictions = similar_artists if similar_artists else predictions  # Si no hay similares, usar todos\n",
        "\n",
        "    # Ordenar por rating predicho y devolver los top n\n",
        "    return sorted(predictions, key=lambda x: x[1], reverse=True)[:n]\n",
        "\n",
        "# Inicializar lista de artistas recomendados para un usuario aleatorio\n",
        "def inicializar_recomendaciones():\n",
        "    global user_id, recommended_artists, current_index, last_liked_artist_id\n",
        "    user_id = random.choice(df_user_artists['userID'].unique())  # Seleccionar un usuario al azar\n",
        "    recommended_artists = get_top_artists_for_user(user_id)\n",
        "    current_index = 0\n",
        "    last_liked_artist_id = None  # Reiniciar el último artista que le gustó\n",
        "\n",
        "inicializar_recomendaciones()  # Generar la primera recomendación\n",
        "\n",
        "liked_artists = []  # Lista para almacenar artistas que le gustan\n",
        "like_count = 0  # Contador de \"me gusta\"\n",
        "\n",
        "def create_buttons(artist_name):\n",
        "    artist_name_escaped = artist_name.replace(\"'\", \"\\\\'\").replace('\"', '\\\\\"')  # Escapar caracteres\n",
        "    display(Javascript(f'''\n",
        "        var div = document.createElement('div');\n",
        "        var btn1 = document.createElement('button');\n",
        "        btn1.innerHTML = 'Me gusta: {artist_name_escaped}';\n",
        "        btn1.onclick = function() {{\n",
        "          google.colab.kernel.invokeFunction('notebook.callback', ['Me gusta', '{artist_name_escaped}'], {{}});\n",
        "        }};\n",
        "\n",
        "        var btn2 = document.createElement('button');\n",
        "        btn2.innerHTML = 'No me gusta: {artist_name_escaped}';\n",
        "        btn2.onclick = function() {{\n",
        "          google.colab.kernel.invokeFunction('notebook.callback', ['No me gusta', '{artist_name_escaped}'], {{}});\n",
        "        }};\n",
        "\n",
        "        div.appendChild(btn1);\n",
        "        div.appendChild(btn2);\n",
        "        document.body.appendChild(div);\n",
        "    '''))\n",
        "\n",
        "def handle_choice(choice, artist_name):\n",
        "    global user_id, recommended_artists, current_index, last_liked_artist_id, liked_artists, like_count\n",
        "\n",
        "    print(f'Has elegido: {choice} para {artist_name}')\n",
        "\n",
        "    if choice == 'Me gusta':\n",
        "        last_liked_artist_id = df_artists[df_artists['name'] == artist_name]['id'].values[0]  # Guardar el último artista que le gustó\n",
        "        liked_artists.append(artist_name)  # Agregar el artista a la lista de artistas que le gustan\n",
        "        like_count += 1  # Incrementar el contador de \"me gusta\"\n",
        "\n",
        "        # Verificar si ha alcanzado 6 \"me gusta\"\n",
        "        if like_count >= 6:\n",
        "            # Mostrar mensaje final en rojo\n",
        "            final_message = \"<h2 style='color: red;'>Te gustan los siguientes artistas:</h2><ul>\"\n",
        "            final_message += ''.join(f\"<li style='color: red;'>{artist}</li>\" for artist in liked_artists)\n",
        "            final_message += \"</ul>\"\n",
        "            display(HTML(final_message))\n",
        "            return  # Termina el programa\n",
        "\n",
        "        current_index += 1\n",
        "        if current_index < len(recommended_artists):\n",
        "            next_artist_id, next_score = recommended_artists[current_index]\n",
        "            next_artist_name = df_artists[df_artists['id'] == next_artist_id]['name'].values[0]\n",
        "            print(f\"Artista recomendado: {next_artist_name}, score: {next_score}\")\n",
        "            create_buttons(next_artist_name)\n",
        "        else:\n",
        "            print(\"No hay más artistas en la lista de recomendaciones. Seleccionando un nuevo usuario.\")\n",
        "            inicializar_recomendaciones()\n",
        "            next_artist_id, next_score = recommended_artists[current_index]\n",
        "            next_artist_name = df_artists[df_artists['id'] == next_artist_id]['name'].values[0]\n",
        "            print(f\"Nuevo usuario seleccionado. Artista recomendado: {next_artist_name}, score: {next_score}\")\n",
        "            create_buttons(next_artist_name)\n",
        "    else:\n",
        "        # Seleccionar un nuevo artista si elige 'No me gusta'\n",
        "        unheard_artists = set(df_artists['id']) - set(df_user_artists[df_user_artists['userID'] == user_id]['artistID'])\n",
        "        next_artist_id = random.choice(list(unheard_artists))\n",
        "        next_artist_name = df_artists[df_artists['id'] == next_artist_id]['name'].values[0]\n",
        "        next_score = modelo_svd.predict(user_id, next_artist_id).est\n",
        "        print(f\"Nuevo artista recomendado: {next_artist_name}, score: {next_score}\")\n",
        "        create_buttons(next_artist_name)\n",
        "\n",
        "# Registrar la función en Google Colab\n",
        "from google.colab import output\n",
        "output.register_callback('notebook.callback', handle_choice)\n",
        "\n",
        "# Mostrar el primer artista recomendado\n",
        "first_artist_id, first_score = recommended_artists[current_index]\n",
        "first_artist_name = df_artists[df_artists['id'] == first_artist_id]['name'].values[0]\n",
        "print(f\"Artista recomendado: {first_artist_name}, score: {first_score}\")\n",
        "create_buttons(first_artist_name)\n"
      ],
      "metadata": {
        "colab": {
          "base_uri": "https://localhost:8080/",
          "height": 1000
        },
        "id": "jNWwMD-Kc9i5",
        "outputId": "28205af1-7493-4f23-ae34-3579a68d9c02"
      },
      "execution_count": 11,
      "outputs": [
        {
          "output_type": "stream",
          "name": "stdout",
          "text": [
            "Artista recomendado: Мара, score: 1.39184579181805\n"
          ]
        },
        {
          "output_type": "display_data",
          "data": {
            "text/plain": [
              "<IPython.core.display.Javascript object>"
            ],
            "application/javascript": [
              "\n",
              "        var div = document.createElement('div');\n",
              "        var btn1 = document.createElement('button');\n",
              "        btn1.innerHTML = 'Me gusta: Мара';\n",
              "        btn1.onclick = function() {\n",
              "          google.colab.kernel.invokeFunction('notebook.callback', ['Me gusta', 'Мара'], {});\n",
              "        };\n",
              "\n",
              "        var btn2 = document.createElement('button');\n",
              "        btn2.innerHTML = 'No me gusta: Мара';\n",
              "        btn2.onclick = function() {\n",
              "          google.colab.kernel.invokeFunction('notebook.callback', ['No me gusta', 'Мара'], {});\n",
              "        };\n",
              "\n",
              "        div.appendChild(btn1);\n",
              "        div.appendChild(btn2);\n",
              "        document.body.appendChild(div);\n",
              "    "
            ]
          },
          "metadata": {}
        },
        {
          "output_type": "stream",
          "name": "stdout",
          "text": [
            "Has elegido: No me gusta para Мара\n",
            "Nuevo artista recomendado: Spok Frevo Orquestra, score: 1\n"
          ]
        },
        {
          "output_type": "display_data",
          "data": {
            "text/plain": [
              "<IPython.core.display.Javascript object>"
            ],
            "application/javascript": [
              "\n",
              "        var div = document.createElement('div');\n",
              "        var btn1 = document.createElement('button');\n",
              "        btn1.innerHTML = 'Me gusta: Spok Frevo Orquestra';\n",
              "        btn1.onclick = function() {\n",
              "          google.colab.kernel.invokeFunction('notebook.callback', ['Me gusta', 'Spok Frevo Orquestra'], {});\n",
              "        };\n",
              "\n",
              "        var btn2 = document.createElement('button');\n",
              "        btn2.innerHTML = 'No me gusta: Spok Frevo Orquestra';\n",
              "        btn2.onclick = function() {\n",
              "          google.colab.kernel.invokeFunction('notebook.callback', ['No me gusta', 'Spok Frevo Orquestra'], {});\n",
              "        };\n",
              "\n",
              "        div.appendChild(btn1);\n",
              "        div.appendChild(btn2);\n",
              "        document.body.appendChild(div);\n",
              "    "
            ]
          },
          "metadata": {}
        },
        {
          "output_type": "stream",
          "name": "stdout",
          "text": [
            "Has elegido: No me gusta para Spok Frevo Orquestra\n",
            "Nuevo artista recomendado: A.D.D., score: 1.0033822506644716\n"
          ]
        },
        {
          "output_type": "display_data",
          "data": {
            "text/plain": [
              "<IPython.core.display.Javascript object>"
            ],
            "application/javascript": [
              "\n",
              "        var div = document.createElement('div');\n",
              "        var btn1 = document.createElement('button');\n",
              "        btn1.innerHTML = 'Me gusta: A.D.D.';\n",
              "        btn1.onclick = function() {\n",
              "          google.colab.kernel.invokeFunction('notebook.callback', ['Me gusta', 'A.D.D.'], {});\n",
              "        };\n",
              "\n",
              "        var btn2 = document.createElement('button');\n",
              "        btn2.innerHTML = 'No me gusta: A.D.D.';\n",
              "        btn2.onclick = function() {\n",
              "          google.colab.kernel.invokeFunction('notebook.callback', ['No me gusta', 'A.D.D.'], {});\n",
              "        };\n",
              "\n",
              "        div.appendChild(btn1);\n",
              "        div.appendChild(btn2);\n",
              "        document.body.appendChild(div);\n",
              "    "
            ]
          },
          "metadata": {}
        },
        {
          "output_type": "stream",
          "name": "stdout",
          "text": [
            "Has elegido: No me gusta para A.D.D.\n",
            "Nuevo artista recomendado: Jane Birkin, score: 1\n"
          ]
        },
        {
          "output_type": "display_data",
          "data": {
            "text/plain": [
              "<IPython.core.display.Javascript object>"
            ],
            "application/javascript": [
              "\n",
              "        var div = document.createElement('div');\n",
              "        var btn1 = document.createElement('button');\n",
              "        btn1.innerHTML = 'Me gusta: Jane Birkin';\n",
              "        btn1.onclick = function() {\n",
              "          google.colab.kernel.invokeFunction('notebook.callback', ['Me gusta', 'Jane Birkin'], {});\n",
              "        };\n",
              "\n",
              "        var btn2 = document.createElement('button');\n",
              "        btn2.innerHTML = 'No me gusta: Jane Birkin';\n",
              "        btn2.onclick = function() {\n",
              "          google.colab.kernel.invokeFunction('notebook.callback', ['No me gusta', 'Jane Birkin'], {});\n",
              "        };\n",
              "\n",
              "        div.appendChild(btn1);\n",
              "        div.appendChild(btn2);\n",
              "        document.body.appendChild(div);\n",
              "    "
            ]
          },
          "metadata": {}
        },
        {
          "output_type": "stream",
          "name": "stdout",
          "text": [
            "Has elegido: No me gusta para Jane Birkin\n",
            "Nuevo artista recomendado: The Foreshadowing, score: 1.1140145242999016\n"
          ]
        },
        {
          "output_type": "display_data",
          "data": {
            "text/plain": [
              "<IPython.core.display.Javascript object>"
            ],
            "application/javascript": [
              "\n",
              "        var div = document.createElement('div');\n",
              "        var btn1 = document.createElement('button');\n",
              "        btn1.innerHTML = 'Me gusta: The Foreshadowing';\n",
              "        btn1.onclick = function() {\n",
              "          google.colab.kernel.invokeFunction('notebook.callback', ['Me gusta', 'The Foreshadowing'], {});\n",
              "        };\n",
              "\n",
              "        var btn2 = document.createElement('button');\n",
              "        btn2.innerHTML = 'No me gusta: The Foreshadowing';\n",
              "        btn2.onclick = function() {\n",
              "          google.colab.kernel.invokeFunction('notebook.callback', ['No me gusta', 'The Foreshadowing'], {});\n",
              "        };\n",
              "\n",
              "        div.appendChild(btn1);\n",
              "        div.appendChild(btn2);\n",
              "        document.body.appendChild(div);\n",
              "    "
            ]
          },
          "metadata": {}
        },
        {
          "output_type": "stream",
          "name": "stdout",
          "text": [
            "Has elegido: No me gusta para The Foreshadowing\n",
            "Nuevo artista recomendado: Vision Divine, score: 1\n"
          ]
        },
        {
          "output_type": "display_data",
          "data": {
            "text/plain": [
              "<IPython.core.display.Javascript object>"
            ],
            "application/javascript": [
              "\n",
              "        var div = document.createElement('div');\n",
              "        var btn1 = document.createElement('button');\n",
              "        btn1.innerHTML = 'Me gusta: Vision Divine';\n",
              "        btn1.onclick = function() {\n",
              "          google.colab.kernel.invokeFunction('notebook.callback', ['Me gusta', 'Vision Divine'], {});\n",
              "        };\n",
              "\n",
              "        var btn2 = document.createElement('button');\n",
              "        btn2.innerHTML = 'No me gusta: Vision Divine';\n",
              "        btn2.onclick = function() {\n",
              "          google.colab.kernel.invokeFunction('notebook.callback', ['No me gusta', 'Vision Divine'], {});\n",
              "        };\n",
              "\n",
              "        div.appendChild(btn1);\n",
              "        div.appendChild(btn2);\n",
              "        document.body.appendChild(div);\n",
              "    "
            ]
          },
          "metadata": {}
        },
        {
          "output_type": "stream",
          "name": "stdout",
          "text": [
            "Has elegido: No me gusta para Vision Divine\n",
            "Nuevo artista recomendado: Vinicius de Moraes, score: 1.0183941945850707\n"
          ]
        },
        {
          "output_type": "display_data",
          "data": {
            "text/plain": [
              "<IPython.core.display.Javascript object>"
            ],
            "application/javascript": [
              "\n",
              "        var div = document.createElement('div');\n",
              "        var btn1 = document.createElement('button');\n",
              "        btn1.innerHTML = 'Me gusta: Vinicius de Moraes';\n",
              "        btn1.onclick = function() {\n",
              "          google.colab.kernel.invokeFunction('notebook.callback', ['Me gusta', 'Vinicius de Moraes'], {});\n",
              "        };\n",
              "\n",
              "        var btn2 = document.createElement('button');\n",
              "        btn2.innerHTML = 'No me gusta: Vinicius de Moraes';\n",
              "        btn2.onclick = function() {\n",
              "          google.colab.kernel.invokeFunction('notebook.callback', ['No me gusta', 'Vinicius de Moraes'], {});\n",
              "        };\n",
              "\n",
              "        div.appendChild(btn1);\n",
              "        div.appendChild(btn2);\n",
              "        document.body.appendChild(div);\n",
              "    "
            ]
          },
          "metadata": {}
        },
        {
          "output_type": "stream",
          "name": "stdout",
          "text": [
            "Has elegido: No me gusta para Vinicius de Moraes\n",
            "Nuevo artista recomendado: Arthur H, score: 1\n"
          ]
        },
        {
          "output_type": "display_data",
          "data": {
            "text/plain": [
              "<IPython.core.display.Javascript object>"
            ],
            "application/javascript": [
              "\n",
              "        var div = document.createElement('div');\n",
              "        var btn1 = document.createElement('button');\n",
              "        btn1.innerHTML = 'Me gusta: Arthur H';\n",
              "        btn1.onclick = function() {\n",
              "          google.colab.kernel.invokeFunction('notebook.callback', ['Me gusta', 'Arthur H'], {});\n",
              "        };\n",
              "\n",
              "        var btn2 = document.createElement('button');\n",
              "        btn2.innerHTML = 'No me gusta: Arthur H';\n",
              "        btn2.onclick = function() {\n",
              "          google.colab.kernel.invokeFunction('notebook.callback', ['No me gusta', 'Arthur H'], {});\n",
              "        };\n",
              "\n",
              "        div.appendChild(btn1);\n",
              "        div.appendChild(btn2);\n",
              "        document.body.appendChild(div);\n",
              "    "
            ]
          },
          "metadata": {}
        },
        {
          "output_type": "stream",
          "name": "stdout",
          "text": [
            "Has elegido: No me gusta para Arthur H\n",
            "Nuevo artista recomendado: Calexico, score: 1\n"
          ]
        },
        {
          "output_type": "display_data",
          "data": {
            "text/plain": [
              "<IPython.core.display.Javascript object>"
            ],
            "application/javascript": [
              "\n",
              "        var div = document.createElement('div');\n",
              "        var btn1 = document.createElement('button');\n",
              "        btn1.innerHTML = 'Me gusta: Calexico';\n",
              "        btn1.onclick = function() {\n",
              "          google.colab.kernel.invokeFunction('notebook.callback', ['Me gusta', 'Calexico'], {});\n",
              "        };\n",
              "\n",
              "        var btn2 = document.createElement('button');\n",
              "        btn2.innerHTML = 'No me gusta: Calexico';\n",
              "        btn2.onclick = function() {\n",
              "          google.colab.kernel.invokeFunction('notebook.callback', ['No me gusta', 'Calexico'], {});\n",
              "        };\n",
              "\n",
              "        div.appendChild(btn1);\n",
              "        div.appendChild(btn2);\n",
              "        document.body.appendChild(div);\n",
              "    "
            ]
          },
          "metadata": {}
        },
        {
          "output_type": "stream",
          "name": "stdout",
          "text": [
            "Has elegido: No me gusta para Calexico\n",
            "Nuevo artista recomendado: Amy Millan, score: 1.2223847300530934\n"
          ]
        },
        {
          "output_type": "display_data",
          "data": {
            "text/plain": [
              "<IPython.core.display.Javascript object>"
            ],
            "application/javascript": [
              "\n",
              "        var div = document.createElement('div');\n",
              "        var btn1 = document.createElement('button');\n",
              "        btn1.innerHTML = 'Me gusta: Amy Millan';\n",
              "        btn1.onclick = function() {\n",
              "          google.colab.kernel.invokeFunction('notebook.callback', ['Me gusta', 'Amy Millan'], {});\n",
              "        };\n",
              "\n",
              "        var btn2 = document.createElement('button');\n",
              "        btn2.innerHTML = 'No me gusta: Amy Millan';\n",
              "        btn2.onclick = function() {\n",
              "          google.colab.kernel.invokeFunction('notebook.callback', ['No me gusta', 'Amy Millan'], {});\n",
              "        };\n",
              "\n",
              "        div.appendChild(btn1);\n",
              "        div.appendChild(btn2);\n",
              "        document.body.appendChild(div);\n",
              "    "
            ]
          },
          "metadata": {}
        },
        {
          "output_type": "stream",
          "name": "stdout",
          "text": [
            "Has elegido: No me gusta para Amy Millan\n",
            "Nuevo artista recomendado: Stiff Little Fingers, score: 1\n"
          ]
        },
        {
          "output_type": "display_data",
          "data": {
            "text/plain": [
              "<IPython.core.display.Javascript object>"
            ],
            "application/javascript": [
              "\n",
              "        var div = document.createElement('div');\n",
              "        var btn1 = document.createElement('button');\n",
              "        btn1.innerHTML = 'Me gusta: Stiff Little Fingers';\n",
              "        btn1.onclick = function() {\n",
              "          google.colab.kernel.invokeFunction('notebook.callback', ['Me gusta', 'Stiff Little Fingers'], {});\n",
              "        };\n",
              "\n",
              "        var btn2 = document.createElement('button');\n",
              "        btn2.innerHTML = 'No me gusta: Stiff Little Fingers';\n",
              "        btn2.onclick = function() {\n",
              "          google.colab.kernel.invokeFunction('notebook.callback', ['No me gusta', 'Stiff Little Fingers'], {});\n",
              "        };\n",
              "\n",
              "        div.appendChild(btn1);\n",
              "        div.appendChild(btn2);\n",
              "        document.body.appendChild(div);\n",
              "    "
            ]
          },
          "metadata": {}
        },
        {
          "output_type": "stream",
          "name": "stdout",
          "text": [
            "Has elegido: No me gusta para Stiff Little Fingers\n",
            "Nuevo artista recomendado: IceSixxx, score: 1.1461363335870256\n"
          ]
        },
        {
          "output_type": "display_data",
          "data": {
            "text/plain": [
              "<IPython.core.display.Javascript object>"
            ],
            "application/javascript": [
              "\n",
              "        var div = document.createElement('div');\n",
              "        var btn1 = document.createElement('button');\n",
              "        btn1.innerHTML = 'Me gusta: IceSixxx';\n",
              "        btn1.onclick = function() {\n",
              "          google.colab.kernel.invokeFunction('notebook.callback', ['Me gusta', 'IceSixxx'], {});\n",
              "        };\n",
              "\n",
              "        var btn2 = document.createElement('button');\n",
              "        btn2.innerHTML = 'No me gusta: IceSixxx';\n",
              "        btn2.onclick = function() {\n",
              "          google.colab.kernel.invokeFunction('notebook.callback', ['No me gusta', 'IceSixxx'], {});\n",
              "        };\n",
              "\n",
              "        div.appendChild(btn1);\n",
              "        div.appendChild(btn2);\n",
              "        document.body.appendChild(div);\n",
              "    "
            ]
          },
          "metadata": {}
        },
        {
          "output_type": "stream",
          "name": "stdout",
          "text": [
            "Has elegido: No me gusta para IceSixxx\n",
            "Nuevo artista recomendado: Men Without Hats, score: 1.024820187513011\n"
          ]
        },
        {
          "output_type": "display_data",
          "data": {
            "text/plain": [
              "<IPython.core.display.Javascript object>"
            ],
            "application/javascript": [
              "\n",
              "        var div = document.createElement('div');\n",
              "        var btn1 = document.createElement('button');\n",
              "        btn1.innerHTML = 'Me gusta: Men Without Hats';\n",
              "        btn1.onclick = function() {\n",
              "          google.colab.kernel.invokeFunction('notebook.callback', ['Me gusta', 'Men Without Hats'], {});\n",
              "        };\n",
              "\n",
              "        var btn2 = document.createElement('button');\n",
              "        btn2.innerHTML = 'No me gusta: Men Without Hats';\n",
              "        btn2.onclick = function() {\n",
              "          google.colab.kernel.invokeFunction('notebook.callback', ['No me gusta', 'Men Without Hats'], {});\n",
              "        };\n",
              "\n",
              "        div.appendChild(btn1);\n",
              "        div.appendChild(btn2);\n",
              "        document.body.appendChild(div);\n",
              "    "
            ]
          },
          "metadata": {}
        },
        {
          "output_type": "stream",
          "name": "stdout",
          "text": [
            "Has elegido: No me gusta para Men Without Hats\n",
            "Nuevo artista recomendado: Lina Morgana, score: 1.0499257081354505\n"
          ]
        },
        {
          "output_type": "display_data",
          "data": {
            "text/plain": [
              "<IPython.core.display.Javascript object>"
            ],
            "application/javascript": [
              "\n",
              "        var div = document.createElement('div');\n",
              "        var btn1 = document.createElement('button');\n",
              "        btn1.innerHTML = 'Me gusta: Lina Morgana';\n",
              "        btn1.onclick = function() {\n",
              "          google.colab.kernel.invokeFunction('notebook.callback', ['Me gusta', 'Lina Morgana'], {});\n",
              "        };\n",
              "\n",
              "        var btn2 = document.createElement('button');\n",
              "        btn2.innerHTML = 'No me gusta: Lina Morgana';\n",
              "        btn2.onclick = function() {\n",
              "          google.colab.kernel.invokeFunction('notebook.callback', ['No me gusta', 'Lina Morgana'], {});\n",
              "        };\n",
              "\n",
              "        div.appendChild(btn1);\n",
              "        div.appendChild(btn2);\n",
              "        document.body.appendChild(div);\n",
              "    "
            ]
          },
          "metadata": {}
        },
        {
          "output_type": "stream",
          "name": "stdout",
          "text": [
            "Has elegido: No me gusta para Lina Morgana\n",
            "Nuevo artista recomendado: Betraying The Martyrs, score: 1.035049452861577\n"
          ]
        },
        {
          "output_type": "display_data",
          "data": {
            "text/plain": [
              "<IPython.core.display.Javascript object>"
            ],
            "application/javascript": [
              "\n",
              "        var div = document.createElement('div');\n",
              "        var btn1 = document.createElement('button');\n",
              "        btn1.innerHTML = 'Me gusta: Betraying The Martyrs';\n",
              "        btn1.onclick = function() {\n",
              "          google.colab.kernel.invokeFunction('notebook.callback', ['Me gusta', 'Betraying The Martyrs'], {});\n",
              "        };\n",
              "\n",
              "        var btn2 = document.createElement('button');\n",
              "        btn2.innerHTML = 'No me gusta: Betraying The Martyrs';\n",
              "        btn2.onclick = function() {\n",
              "          google.colab.kernel.invokeFunction('notebook.callback', ['No me gusta', 'Betraying The Martyrs'], {});\n",
              "        };\n",
              "\n",
              "        div.appendChild(btn1);\n",
              "        div.appendChild(btn2);\n",
              "        document.body.appendChild(div);\n",
              "    "
            ]
          },
          "metadata": {}
        },
        {
          "output_type": "stream",
          "name": "stdout",
          "text": [
            "Has elegido: No me gusta para Betraying The Martyrs\n",
            "Nuevo artista recomendado: Jūdas graši, score: 1\n"
          ]
        },
        {
          "output_type": "display_data",
          "data": {
            "text/plain": [
              "<IPython.core.display.Javascript object>"
            ],
            "application/javascript": [
              "\n",
              "        var div = document.createElement('div');\n",
              "        var btn1 = document.createElement('button');\n",
              "        btn1.innerHTML = 'Me gusta: Jūdas graši';\n",
              "        btn1.onclick = function() {\n",
              "          google.colab.kernel.invokeFunction('notebook.callback', ['Me gusta', 'Jūdas graši'], {});\n",
              "        };\n",
              "\n",
              "        var btn2 = document.createElement('button');\n",
              "        btn2.innerHTML = 'No me gusta: Jūdas graši';\n",
              "        btn2.onclick = function() {\n",
              "          google.colab.kernel.invokeFunction('notebook.callback', ['No me gusta', 'Jūdas graši'], {});\n",
              "        };\n",
              "\n",
              "        div.appendChild(btn1);\n",
              "        div.appendChild(btn2);\n",
              "        document.body.appendChild(div);\n",
              "    "
            ]
          },
          "metadata": {}
        },
        {
          "output_type": "stream",
          "name": "stdout",
          "text": [
            "Has elegido: No me gusta para Jūdas graši\n",
            "Nuevo artista recomendado: Marion Meadows, score: 1\n"
          ]
        },
        {
          "output_type": "display_data",
          "data": {
            "text/plain": [
              "<IPython.core.display.Javascript object>"
            ],
            "application/javascript": [
              "\n",
              "        var div = document.createElement('div');\n",
              "        var btn1 = document.createElement('button');\n",
              "        btn1.innerHTML = 'Me gusta: Marion Meadows';\n",
              "        btn1.onclick = function() {\n",
              "          google.colab.kernel.invokeFunction('notebook.callback', ['Me gusta', 'Marion Meadows'], {});\n",
              "        };\n",
              "\n",
              "        var btn2 = document.createElement('button');\n",
              "        btn2.innerHTML = 'No me gusta: Marion Meadows';\n",
              "        btn2.onclick = function() {\n",
              "          google.colab.kernel.invokeFunction('notebook.callback', ['No me gusta', 'Marion Meadows'], {});\n",
              "        };\n",
              "\n",
              "        div.appendChild(btn1);\n",
              "        div.appendChild(btn2);\n",
              "        document.body.appendChild(div);\n",
              "    "
            ]
          },
          "metadata": {}
        },
        {
          "output_type": "stream",
          "name": "stdout",
          "text": [
            "Has elegido: No me gusta para Marion Meadows\n",
            "Nuevo artista recomendado: DJ Messiah, 50 Cent And Eminem, score: 1\n"
          ]
        },
        {
          "output_type": "display_data",
          "data": {
            "text/plain": [
              "<IPython.core.display.Javascript object>"
            ],
            "application/javascript": [
              "\n",
              "        var div = document.createElement('div');\n",
              "        var btn1 = document.createElement('button');\n",
              "        btn1.innerHTML = 'Me gusta: DJ Messiah, 50 Cent And Eminem';\n",
              "        btn1.onclick = function() {\n",
              "          google.colab.kernel.invokeFunction('notebook.callback', ['Me gusta', 'DJ Messiah, 50 Cent And Eminem'], {});\n",
              "        };\n",
              "\n",
              "        var btn2 = document.createElement('button');\n",
              "        btn2.innerHTML = 'No me gusta: DJ Messiah, 50 Cent And Eminem';\n",
              "        btn2.onclick = function() {\n",
              "          google.colab.kernel.invokeFunction('notebook.callback', ['No me gusta', 'DJ Messiah, 50 Cent And Eminem'], {});\n",
              "        };\n",
              "\n",
              "        div.appendChild(btn1);\n",
              "        div.appendChild(btn2);\n",
              "        document.body.appendChild(div);\n",
              "    "
            ]
          },
          "metadata": {}
        },
        {
          "output_type": "stream",
          "name": "stdout",
          "text": [
            "Has elegido: Me gusta para DJ Messiah, 50 Cent And Eminem\n",
            "Artista recomendado: Halovox, score: 1.3813007604993022\n"
          ]
        },
        {
          "output_type": "display_data",
          "data": {
            "text/plain": [
              "<IPython.core.display.Javascript object>"
            ],
            "application/javascript": [
              "\n",
              "        var div = document.createElement('div');\n",
              "        var btn1 = document.createElement('button');\n",
              "        btn1.innerHTML = 'Me gusta: Halovox';\n",
              "        btn1.onclick = function() {\n",
              "          google.colab.kernel.invokeFunction('notebook.callback', ['Me gusta', 'Halovox'], {});\n",
              "        };\n",
              "\n",
              "        var btn2 = document.createElement('button');\n",
              "        btn2.innerHTML = 'No me gusta: Halovox';\n",
              "        btn2.onclick = function() {\n",
              "          google.colab.kernel.invokeFunction('notebook.callback', ['No me gusta', 'Halovox'], {});\n",
              "        };\n",
              "\n",
              "        div.appendChild(btn1);\n",
              "        div.appendChild(btn2);\n",
              "        document.body.appendChild(div);\n",
              "    "
            ]
          },
          "metadata": {}
        },
        {
          "output_type": "stream",
          "name": "stdout",
          "text": [
            "Has elegido: No me gusta para Halovox\n",
            "Nuevo artista recomendado: Kesha ft. 30H!3, score: 1.049740464385732\n"
          ]
        },
        {
          "output_type": "display_data",
          "data": {
            "text/plain": [
              "<IPython.core.display.Javascript object>"
            ],
            "application/javascript": [
              "\n",
              "        var div = document.createElement('div');\n",
              "        var btn1 = document.createElement('button');\n",
              "        btn1.innerHTML = 'Me gusta: Kesha ft. 30H!3';\n",
              "        btn1.onclick = function() {\n",
              "          google.colab.kernel.invokeFunction('notebook.callback', ['Me gusta', 'Kesha ft. 30H!3'], {});\n",
              "        };\n",
              "\n",
              "        var btn2 = document.createElement('button');\n",
              "        btn2.innerHTML = 'No me gusta: Kesha ft. 30H!3';\n",
              "        btn2.onclick = function() {\n",
              "          google.colab.kernel.invokeFunction('notebook.callback', ['No me gusta', 'Kesha ft. 30H!3'], {});\n",
              "        };\n",
              "\n",
              "        div.appendChild(btn1);\n",
              "        div.appendChild(btn2);\n",
              "        document.body.appendChild(div);\n",
              "    "
            ]
          },
          "metadata": {}
        },
        {
          "output_type": "stream",
          "name": "stdout",
          "text": [
            "Has elegido: Me gusta para Kesha ft. 30H!3\n",
            "Artista recomendado: Histeria, score: 1.369200758671429\n"
          ]
        },
        {
          "output_type": "display_data",
          "data": {
            "text/plain": [
              "<IPython.core.display.Javascript object>"
            ],
            "application/javascript": [
              "\n",
              "        var div = document.createElement('div');\n",
              "        var btn1 = document.createElement('button');\n",
              "        btn1.innerHTML = 'Me gusta: Histeria';\n",
              "        btn1.onclick = function() {\n",
              "          google.colab.kernel.invokeFunction('notebook.callback', ['Me gusta', 'Histeria'], {});\n",
              "        };\n",
              "\n",
              "        var btn2 = document.createElement('button');\n",
              "        btn2.innerHTML = 'No me gusta: Histeria';\n",
              "        btn2.onclick = function() {\n",
              "          google.colab.kernel.invokeFunction('notebook.callback', ['No me gusta', 'Histeria'], {});\n",
              "        };\n",
              "\n",
              "        div.appendChild(btn1);\n",
              "        div.appendChild(btn2);\n",
              "        document.body.appendChild(div);\n",
              "    "
            ]
          },
          "metadata": {}
        },
        {
          "output_type": "stream",
          "name": "stdout",
          "text": [
            "Has elegido: Me gusta para Histeria\n",
            "Artista recomendado: Darko Rundek, score: 1.3594753534338904\n"
          ]
        },
        {
          "output_type": "display_data",
          "data": {
            "text/plain": [
              "<IPython.core.display.Javascript object>"
            ],
            "application/javascript": [
              "\n",
              "        var div = document.createElement('div');\n",
              "        var btn1 = document.createElement('button');\n",
              "        btn1.innerHTML = 'Me gusta: Darko Rundek';\n",
              "        btn1.onclick = function() {\n",
              "          google.colab.kernel.invokeFunction('notebook.callback', ['Me gusta', 'Darko Rundek'], {});\n",
              "        };\n",
              "\n",
              "        var btn2 = document.createElement('button');\n",
              "        btn2.innerHTML = 'No me gusta: Darko Rundek';\n",
              "        btn2.onclick = function() {\n",
              "          google.colab.kernel.invokeFunction('notebook.callback', ['No me gusta', 'Darko Rundek'], {});\n",
              "        };\n",
              "\n",
              "        div.appendChild(btn1);\n",
              "        div.appendChild(btn2);\n",
              "        document.body.appendChild(div);\n",
              "    "
            ]
          },
          "metadata": {}
        },
        {
          "output_type": "stream",
          "name": "stdout",
          "text": [
            "Has elegido: Me gusta para Darko Rundek\n",
            "Artista recomendado: Quiet Riot, score: 1.3439705153696855\n"
          ]
        },
        {
          "output_type": "display_data",
          "data": {
            "text/plain": [
              "<IPython.core.display.Javascript object>"
            ],
            "application/javascript": [
              "\n",
              "        var div = document.createElement('div');\n",
              "        var btn1 = document.createElement('button');\n",
              "        btn1.innerHTML = 'Me gusta: Quiet Riot';\n",
              "        btn1.onclick = function() {\n",
              "          google.colab.kernel.invokeFunction('notebook.callback', ['Me gusta', 'Quiet Riot'], {});\n",
              "        };\n",
              "\n",
              "        var btn2 = document.createElement('button');\n",
              "        btn2.innerHTML = 'No me gusta: Quiet Riot';\n",
              "        btn2.onclick = function() {\n",
              "          google.colab.kernel.invokeFunction('notebook.callback', ['No me gusta', 'Quiet Riot'], {});\n",
              "        };\n",
              "\n",
              "        div.appendChild(btn1);\n",
              "        div.appendChild(btn2);\n",
              "        document.body.appendChild(div);\n",
              "    "
            ]
          },
          "metadata": {}
        },
        {
          "output_type": "stream",
          "name": "stdout",
          "text": [
            "Has elegido: Me gusta para Quiet Riot\n",
            "No hay más artistas en la lista de recomendaciones. Seleccionando un nuevo usuario.\n",
            "Nuevo usuario seleccionado. Artista recomendado: Щурците, score: 1.363838126180154\n"
          ]
        },
        {
          "output_type": "display_data",
          "data": {
            "text/plain": [
              "<IPython.core.display.Javascript object>"
            ],
            "application/javascript": [
              "\n",
              "        var div = document.createElement('div');\n",
              "        var btn1 = document.createElement('button');\n",
              "        btn1.innerHTML = 'Me gusta: Щурците';\n",
              "        btn1.onclick = function() {\n",
              "          google.colab.kernel.invokeFunction('notebook.callback', ['Me gusta', 'Щурците'], {});\n",
              "        };\n",
              "\n",
              "        var btn2 = document.createElement('button');\n",
              "        btn2.innerHTML = 'No me gusta: Щурците';\n",
              "        btn2.onclick = function() {\n",
              "          google.colab.kernel.invokeFunction('notebook.callback', ['No me gusta', 'Щурците'], {});\n",
              "        };\n",
              "\n",
              "        div.appendChild(btn1);\n",
              "        div.appendChild(btn2);\n",
              "        document.body.appendChild(div);\n",
              "    "
            ]
          },
          "metadata": {}
        },
        {
          "output_type": "stream",
          "name": "stdout",
          "text": [
            "Has elegido: No me gusta para Щурците\n",
            "Nuevo artista recomendado: Boney neM, score: 1.0629636226706198\n"
          ]
        },
        {
          "output_type": "display_data",
          "data": {
            "text/plain": [
              "<IPython.core.display.Javascript object>"
            ],
            "application/javascript": [
              "\n",
              "        var div = document.createElement('div');\n",
              "        var btn1 = document.createElement('button');\n",
              "        btn1.innerHTML = 'Me gusta: Boney neM';\n",
              "        btn1.onclick = function() {\n",
              "          google.colab.kernel.invokeFunction('notebook.callback', ['Me gusta', 'Boney neM'], {});\n",
              "        };\n",
              "\n",
              "        var btn2 = document.createElement('button');\n",
              "        btn2.innerHTML = 'No me gusta: Boney neM';\n",
              "        btn2.onclick = function() {\n",
              "          google.colab.kernel.invokeFunction('notebook.callback', ['No me gusta', 'Boney neM'], {});\n",
              "        };\n",
              "\n",
              "        div.appendChild(btn1);\n",
              "        div.appendChild(btn2);\n",
              "        document.body.appendChild(div);\n",
              "    "
            ]
          },
          "metadata": {}
        },
        {
          "output_type": "stream",
          "name": "stdout",
          "text": [
            "Has elegido: No me gusta para Boney neM\n",
            "Nuevo artista recomendado: The Vengers, score: 1\n"
          ]
        },
        {
          "output_type": "display_data",
          "data": {
            "text/plain": [
              "<IPython.core.display.Javascript object>"
            ],
            "application/javascript": [
              "\n",
              "        var div = document.createElement('div');\n",
              "        var btn1 = document.createElement('button');\n",
              "        btn1.innerHTML = 'Me gusta: The Vengers';\n",
              "        btn1.onclick = function() {\n",
              "          google.colab.kernel.invokeFunction('notebook.callback', ['Me gusta', 'The Vengers'], {});\n",
              "        };\n",
              "\n",
              "        var btn2 = document.createElement('button');\n",
              "        btn2.innerHTML = 'No me gusta: The Vengers';\n",
              "        btn2.onclick = function() {\n",
              "          google.colab.kernel.invokeFunction('notebook.callback', ['No me gusta', 'The Vengers'], {});\n",
              "        };\n",
              "\n",
              "        div.appendChild(btn1);\n",
              "        div.appendChild(btn2);\n",
              "        document.body.appendChild(div);\n",
              "    "
            ]
          },
          "metadata": {}
        },
        {
          "output_type": "stream",
          "name": "stdout",
          "text": [
            "Has elegido: Me gusta para The Vengers\n"
          ]
        },
        {
          "output_type": "display_data",
          "data": {
            "text/plain": [
              "<IPython.core.display.HTML object>"
            ],
            "text/html": [
              "<h2 style='color: red;'>Te gustan los siguientes artistas:</h2><ul><li style='color: red;'>DJ Messiah, 50 Cent And Eminem</li><li style='color: red;'>Kesha ft. 30H!3</li><li style='color: red;'>Histeria</li><li style='color: red;'>Darko Rundek</li><li style='color: red;'>Quiet Riot</li><li style='color: red;'>The Vengers</li></ul>"
            ]
          },
          "metadata": {}
        }
      ]
    },
    {
      "cell_type": "markdown",
      "source": [
        "### Versión 3"
      ],
      "metadata": {
        "id": "9lAMv2WXdPES"
      }
    },
    {
      "cell_type": "markdown",
      "source": [
        "#### DataFrame para versión 3"
      ],
      "metadata": {
        "id": "Xug-mTpOZu4M"
      }
    },
    {
      "cell_type": "code",
      "source": [
        "# Crear nuevo df merge df_artists (id) y df_user_taggedartists (artistID)\n",
        "new_artists_user_taggedartists = pd.merge(df_artists, df_user_taggedartists, left_on='id', right_on='artistID')\n",
        "\n",
        "# Eliminar variables no útiles para el programa\n",
        "new_artists_user_taggedartists = new_artists_user_taggedartists.drop(columns=['id', 'pictureURL', 'userID', 'day', 'month', 'year'])\n",
        "\n",
        "# Eliminar en new_artists_user_taggedartists los artistID repetidos\n",
        "new_artists_user_taggedartists = new_artists_user_taggedartists.drop_duplicates(subset=['artistID'])\n",
        "\n",
        "# merge new_artists_user_taggedartists (artistID) con df_tags (tagValue)\n",
        "new_artists_user_taggedartists = pd.merge(new_artists_user_taggedartists, df_tags, left_on='tagID', right_on='tagID')"
      ],
      "metadata": {
        "id": "GMUKG18ZZYAz"
      },
      "execution_count": null,
      "outputs": []
    },
    {
      "cell_type": "code",
      "source": [
        "import random\n",
        "from IPython.display import Javascript, display, HTML\n",
        "from google.colab.output import eval_js\n",
        "import pandas as pd\n",
        "import numpy as np\n",
        "from surprise import Dataset, Reader, SVD\n",
        "\n",
        "# Asumimos que df_user_artists, df_artists y new_artists_user_taggedartists ya están cargados\n",
        "\n",
        "# Normalizar 'weight' a una escala de 1 a 5\n",
        "min_weight = df_user_artists['weight'].min()\n",
        "max_weight = df_user_artists['weight'].max()\n",
        "\n",
        "df_user_artists['rating'] = 1 + 4 * (df_user_artists['weight'] - min_weight) / (max_weight - min_weight)\n",
        "\n",
        "# Convertir el DataFrame en el formato esperado por Surprise\n",
        "reader = Reader(rating_scale=(1, 5))\n",
        "data = Dataset.load_from_df(df_user_artists[['userID', 'artistID', 'rating']], reader)\n",
        "\n",
        "# Entrenar el modelo con Surprise\n",
        "trainset = data.build_full_trainset()\n",
        "modelo_svd = SVD()\n",
        "modelo_svd.fit(trainset)\n",
        "\n",
        "# Función para obtener recomendaciones basadas en predicciones\n",
        "def get_top_artists_for_user(user_id, last_liked_artist_id=None, n=5):\n",
        "    # Obtener todos los artistas que el usuario no ha escuchado\n",
        "    unheard_artists = set(df_artists['id']) - set(df_user_artists[df_user_artists['userID'] == user_id]['artistID'])\n",
        "\n",
        "    # Predecir ratings para estos artistas usando el modelo de Surprise\n",
        "    predictions = [(artist_id, modelo_svd.predict(user_id, artist_id).est) for artist_id in unheard_artists]\n",
        "\n",
        "    # Si hay un artista que le gustó, filtrar por similitud\n",
        "    if last_liked_artist_id is not None:\n",
        "        # Filtrar los artistas que tengan un score más cercano al último artista que le gustó\n",
        "        similar_artists = [(artist_id, score) for artist_id, score in predictions if abs(score - modelo_svd.predict(user_id, last_liked_artist_id).est) < 0.1]\n",
        "        predictions = similar_artists if similar_artists else predictions  # Si no hay similares, usar todos\n",
        "\n",
        "    # Ordenar por rating predicho y devolver los top n\n",
        "    return sorted(predictions, key=lambda x: x[1], reverse=True)[:n]\n",
        "\n",
        "# Inicializar lista de artistas recomendados para un usuario aleatorio\n",
        "def inicializar_recomendaciones():\n",
        "    global user_id, recommended_artists, current_index, last_liked_artist_id\n",
        "    user_id = random.choice(df_user_artists['userID'].unique())  # Seleccionar un usuario al azar\n",
        "    recommended_artists = get_top_artists_for_user(user_id)\n",
        "    current_index = 0\n",
        "    last_liked_artist_id = None  # Reiniciar el último artista que le gustó\n",
        "\n",
        "inicializar_recomendaciones()  # Generar la primera recomendación\n",
        "\n",
        "liked_artists = []  # Lista para almacenar artistas que le gustan\n",
        "like_count = 0  # Contador de \"me gusta\"\n",
        "\n",
        "def create_buttons(artist_name):\n",
        "    artist_name_escaped = artist_name.replace(\"'\", \"\\\\'\").replace('\"', '\\\\\"')  # Escapar caracteres\n",
        "    display(Javascript(f'''\n",
        "        var div = document.createElement('div');\n",
        "        var btn1 = document.createElement('button');\n",
        "        btn1.innerHTML = 'Me gusta: {artist_name_escaped}';\n",
        "        btn1.onclick = function() {{\n",
        "          google.colab.kernel.invokeFunction('notebook.callback', ['Me gusta', '{artist_name_escaped}'], {{}});\n",
        "        }};\n",
        "\n",
        "        var btn2 = document.createElement('button');\n",
        "        btn2.innerHTML = 'No me gusta: {artist_name_escaped}';\n",
        "        btn2.onclick = function() {{\n",
        "          google.colab.kernel.invokeFunction('notebook.callback', ['No me gusta', '{artist_name_escaped}'], {{}});\n",
        "        }};\n",
        "\n",
        "        div.appendChild(btn1);\n",
        "        div.appendChild(btn2);\n",
        "        document.body.appendChild(div);\n",
        "    '''))\n",
        "\n",
        "def handle_choice(choice, artist_name):\n",
        "    global user_id, recommended_artists, current_index, last_liked_artist_id, liked_artists, like_count\n",
        "\n",
        "    print(f'Has elegido: {choice} para {artist_name}')\n",
        "\n",
        "    if choice == 'Me gusta':\n",
        "        # Obtener el ID del artista\n",
        "        artist_id = df_artists[df_artists['name'] == artist_name]['id'].values[0]\n",
        "\n",
        "        # Intentar obtener el tagValue, si existe\n",
        "        tag_value = \"Desconocido\"\n",
        "        if artist_id in new_artists_user_taggedartists['artistID'].values:\n",
        "            tag_value = new_artists_user_taggedartists[new_artists_user_taggedartists['artistID'] == artist_id]['tagValue'].values[0]\n",
        "\n",
        "        # Guardar el último artista que le gustó y su etiqueta\n",
        "        last_liked_artist_id = artist_id\n",
        "        liked_artists.append((artist_name, tag_value))  # Guardar artista y etiqueta como una tupla\n",
        "        like_count += 1  # Incrementar el contador de \"me gusta\"\n",
        "\n",
        "        # Verificar si ha alcanzado 6 \"me gusta\"\n",
        "        if like_count >= 6:\n",
        "            # Crear el mensaje final con los artistas y sus etiquetas\n",
        "            final_message = \"<h2 style='color: red;'>Te gustan los siguientes artistas:</h2><ul>\"\n",
        "            final_message += ''.join(f\"<li style='color: red;'>{artist[0]} - {artist[1]}</li>\" for artist in liked_artists)\n",
        "            final_message += \"</ul>\"\n",
        "\n",
        "            # Contar la frecuencia de los tags para sugerir el estilo preferido\n",
        "            tag_frequencies = pd.Series([artist[1] for artist in liked_artists if artist[1] != \"Desconocido\"]).value_counts()\n",
        "            if not tag_frequencies.empty:\n",
        "                favorite_tag = tag_frequencies.idxmax()\n",
        "                final_message += f\"<h3 style='color: yellow;'>Tu estilo de música preferido es: {favorite_tag}</h3>\"\n",
        "            else:\n",
        "                final_message += \"<h3>No se pudo determinar un estilo de música preferido</h3>\"\n",
        "\n",
        "            display(HTML(final_message))\n",
        "            return  # Termina el programa\n",
        "\n",
        "        current_index += 1\n",
        "        if current_index < len(recommended_artists):\n",
        "            next_artist_id, next_score = recommended_artists[current_index]\n",
        "            next_artist_name = df_artists[df_artists['id'] == next_artist_id]['name'].values[0]\n",
        "            print(f\"Artista recomendado: {next_artist_name}, score: {next_score}\")\n",
        "            create_buttons(next_artist_name)\n",
        "        else:\n",
        "            print(\"No hay más artistas en la lista de recomendaciones. Seleccionando un nuevo usuario.\")\n",
        "            inicializar_recomendaciones()\n",
        "            next_artist_id, next_score = recommended_artists[current_index]\n",
        "            next_artist_name = df_artists[df_artists['id'] == next_artist_id]['name'].values[0]\n",
        "            print(f\"Nuevo usuario seleccionado. Artista recomendado: {next_artist_name}, score: {next_score}\")\n",
        "            create_buttons(next_artist_name)\n",
        "    else:\n",
        "        # Seleccionar un nuevo artista si elige 'No me gusta'\n",
        "        unheard_artists = set(df_artists['id']) - set(df_user_artists[df_user_artists['userID'] == user_id]['artistID'])\n",
        "        next_artist_id = random.choice(list(unheard_artists))\n",
        "        next_artist_name = df_artists[df_artists['id'] == next_artist_id]['name'].values[0]\n",
        "        next_score = modelo_svd.predict(user_id, next_artist_id).est\n",
        "        print(f\"Nuevo artista recomendado: {next_artist_name}, score: {next_score}\")\n",
        "        create_buttons(next_artist_name)\n",
        "\n",
        "# Registrar la función en Google Colab\n",
        "from google.colab import output\n",
        "output.register_callback('notebook.callback', handle_choice)\n",
        "\n",
        "# Mostrar el primer artista recomendado\n",
        "first_artist_id, first_score = recommended_artists[current_index]\n",
        "first_artist_name = df_artists[df_artists['id'] == first_artist_id]['name'].values[0]\n",
        "print(f\"Artista recomendado: {first_artist_name}, score: {first_score}\")\n",
        "create_buttons(first_artist_name)"
      ],
      "metadata": {
        "colab": {
          "base_uri": "https://localhost:8080/",
          "height": 572
        },
        "id": "alpr9EjfbXDy",
        "outputId": "0d582d96-9739-40a9-a2b9-cb1400f61567"
      },
      "execution_count": 21,
      "outputs": [
        {
          "output_type": "stream",
          "name": "stdout",
          "text": [
            "Artista recomendado: Adanowsky, score: 1.3468145048647624\n"
          ]
        },
        {
          "output_type": "display_data",
          "data": {
            "text/plain": [
              "<IPython.core.display.Javascript object>"
            ],
            "application/javascript": [
              "\n",
              "        var div = document.createElement('div');\n",
              "        var btn1 = document.createElement('button');\n",
              "        btn1.innerHTML = 'Me gusta: Adanowsky';\n",
              "        btn1.onclick = function() {\n",
              "          google.colab.kernel.invokeFunction('notebook.callback', ['Me gusta', 'Adanowsky'], {});\n",
              "        };\n",
              "\n",
              "        var btn2 = document.createElement('button');\n",
              "        btn2.innerHTML = 'No me gusta: Adanowsky';\n",
              "        btn2.onclick = function() {\n",
              "          google.colab.kernel.invokeFunction('notebook.callback', ['No me gusta', 'Adanowsky'], {});\n",
              "        };\n",
              "\n",
              "        div.appendChild(btn1);\n",
              "        div.appendChild(btn2);\n",
              "        document.body.appendChild(div);\n",
              "    "
            ]
          },
          "metadata": {}
        },
        {
          "output_type": "stream",
          "name": "stdout",
          "text": [
            "Has elegido: Me gusta para Adanowsky\n",
            "Artista recomendado: Benassi Bros., score: 1.310705558317253\n"
          ]
        },
        {
          "output_type": "display_data",
          "data": {
            "text/plain": [
              "<IPython.core.display.Javascript object>"
            ],
            "application/javascript": [
              "\n",
              "        var div = document.createElement('div');\n",
              "        var btn1 = document.createElement('button');\n",
              "        btn1.innerHTML = 'Me gusta: Benassi Bros.';\n",
              "        btn1.onclick = function() {\n",
              "          google.colab.kernel.invokeFunction('notebook.callback', ['Me gusta', 'Benassi Bros.'], {});\n",
              "        };\n",
              "\n",
              "        var btn2 = document.createElement('button');\n",
              "        btn2.innerHTML = 'No me gusta: Benassi Bros.';\n",
              "        btn2.onclick = function() {\n",
              "          google.colab.kernel.invokeFunction('notebook.callback', ['No me gusta', 'Benassi Bros.'], {});\n",
              "        };\n",
              "\n",
              "        div.appendChild(btn1);\n",
              "        div.appendChild(btn2);\n",
              "        document.body.appendChild(div);\n",
              "    "
            ]
          },
          "metadata": {}
        },
        {
          "output_type": "stream",
          "name": "stdout",
          "text": [
            "Has elegido: Me gusta para Benassi Bros.\n",
            "Artista recomendado: Daedelus, score: 1.3035738644653734\n"
          ]
        },
        {
          "output_type": "display_data",
          "data": {
            "text/plain": [
              "<IPython.core.display.Javascript object>"
            ],
            "application/javascript": [
              "\n",
              "        var div = document.createElement('div');\n",
              "        var btn1 = document.createElement('button');\n",
              "        btn1.innerHTML = 'Me gusta: Daedelus';\n",
              "        btn1.onclick = function() {\n",
              "          google.colab.kernel.invokeFunction('notebook.callback', ['Me gusta', 'Daedelus'], {});\n",
              "        };\n",
              "\n",
              "        var btn2 = document.createElement('button');\n",
              "        btn2.innerHTML = 'No me gusta: Daedelus';\n",
              "        btn2.onclick = function() {\n",
              "          google.colab.kernel.invokeFunction('notebook.callback', ['No me gusta', 'Daedelus'], {});\n",
              "        };\n",
              "\n",
              "        div.appendChild(btn1);\n",
              "        div.appendChild(btn2);\n",
              "        document.body.appendChild(div);\n",
              "    "
            ]
          },
          "metadata": {}
        },
        {
          "output_type": "stream",
          "name": "stdout",
          "text": [
            "Has elegido: Me gusta para Daedelus\n",
            "Artista recomendado: Pentagram, score: 1.3014873235558315\n"
          ]
        },
        {
          "output_type": "display_data",
          "data": {
            "text/plain": [
              "<IPython.core.display.Javascript object>"
            ],
            "application/javascript": [
              "\n",
              "        var div = document.createElement('div');\n",
              "        var btn1 = document.createElement('button');\n",
              "        btn1.innerHTML = 'Me gusta: Pentagram';\n",
              "        btn1.onclick = function() {\n",
              "          google.colab.kernel.invokeFunction('notebook.callback', ['Me gusta', 'Pentagram'], {});\n",
              "        };\n",
              "\n",
              "        var btn2 = document.createElement('button');\n",
              "        btn2.innerHTML = 'No me gusta: Pentagram';\n",
              "        btn2.onclick = function() {\n",
              "          google.colab.kernel.invokeFunction('notebook.callback', ['No me gusta', 'Pentagram'], {});\n",
              "        };\n",
              "\n",
              "        div.appendChild(btn1);\n",
              "        div.appendChild(btn2);\n",
              "        document.body.appendChild(div);\n",
              "    "
            ]
          },
          "metadata": {}
        },
        {
          "output_type": "stream",
          "name": "stdout",
          "text": [
            "Has elegido: Me gusta para Pentagram\n",
            "Artista recomendado: Liquido, score: 1.297431626438922\n"
          ]
        },
        {
          "output_type": "display_data",
          "data": {
            "text/plain": [
              "<IPython.core.display.Javascript object>"
            ],
            "application/javascript": [
              "\n",
              "        var div = document.createElement('div');\n",
              "        var btn1 = document.createElement('button');\n",
              "        btn1.innerHTML = 'Me gusta: Liquido';\n",
              "        btn1.onclick = function() {\n",
              "          google.colab.kernel.invokeFunction('notebook.callback', ['Me gusta', 'Liquido'], {});\n",
              "        };\n",
              "\n",
              "        var btn2 = document.createElement('button');\n",
              "        btn2.innerHTML = 'No me gusta: Liquido';\n",
              "        btn2.onclick = function() {\n",
              "          google.colab.kernel.invokeFunction('notebook.callback', ['No me gusta', 'Liquido'], {});\n",
              "        };\n",
              "\n",
              "        div.appendChild(btn1);\n",
              "        div.appendChild(btn2);\n",
              "        document.body.appendChild(div);\n",
              "    "
            ]
          },
          "metadata": {}
        },
        {
          "output_type": "stream",
          "name": "stdout",
          "text": [
            "Has elegido: Me gusta para Liquido\n",
            "No hay más artistas en la lista de recomendaciones. Seleccionando un nuevo usuario.\n",
            "Nuevo usuario seleccionado. Artista recomendado: Chelsie Boyd, score: 1.3555689647508382\n"
          ]
        },
        {
          "output_type": "display_data",
          "data": {
            "text/plain": [
              "<IPython.core.display.Javascript object>"
            ],
            "application/javascript": [
              "\n",
              "        var div = document.createElement('div');\n",
              "        var btn1 = document.createElement('button');\n",
              "        btn1.innerHTML = 'Me gusta: Chelsie Boyd';\n",
              "        btn1.onclick = function() {\n",
              "          google.colab.kernel.invokeFunction('notebook.callback', ['Me gusta', 'Chelsie Boyd'], {});\n",
              "        };\n",
              "\n",
              "        var btn2 = document.createElement('button');\n",
              "        btn2.innerHTML = 'No me gusta: Chelsie Boyd';\n",
              "        btn2.onclick = function() {\n",
              "          google.colab.kernel.invokeFunction('notebook.callback', ['No me gusta', 'Chelsie Boyd'], {});\n",
              "        };\n",
              "\n",
              "        div.appendChild(btn1);\n",
              "        div.appendChild(btn2);\n",
              "        document.body.appendChild(div);\n",
              "    "
            ]
          },
          "metadata": {}
        },
        {
          "output_type": "stream",
          "name": "stdout",
          "text": [
            "Has elegido: Me gusta para Chelsie Boyd\n"
          ]
        },
        {
          "output_type": "display_data",
          "data": {
            "text/plain": [
              "<IPython.core.display.HTML object>"
            ],
            "text/html": [
              "<h2 style='color: red;'>Te gustan los siguientes artistas:</h2><ul><li style='color: red;'>Adanowsky - Desconocido</li><li style='color: red;'>Benassi Bros. - house</li><li style='color: red;'>Daedelus - idm</li><li style='color: red;'>Pentagram - hard rock</li><li style='color: red;'>Liquido - lag</li><li style='color: red;'>Chelsie Boyd - Desconocido</li></ul><h3 style='color: yellow;'>Tu estilo de música preferido es: house</h3>"
            ]
          },
          "metadata": {}
        }
      ]
    }
  ]
}