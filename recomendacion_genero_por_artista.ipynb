{
  "nbformat": 4,
  "nbformat_minor": 0,
  "metadata": {
    "colab": {
      "provenance": [],
      "authorship_tag": "ABX9TyOxPP3dPPQV/nAo+4sUP0Kf",
      "include_colab_link": true
    },
    "kernelspec": {
      "name": "python3",
      "display_name": "Python 3"
    },
    "language_info": {
      "name": "python"
    }
  },
  "cells": [
    {
      "cell_type": "markdown",
      "metadata": {
        "id": "view-in-github",
        "colab_type": "text"
      },
      "source": [
        "<a href=\"https://colab.research.google.com/github/davidlealo/sistema-recomendacion/blob/main/recomendacion_genero_por_artista.ipynb\" target=\"_parent\"><img src=\"https://colab.research.google.com/assets/colab-badge.svg\" alt=\"Open In Colab\"/></a>"
      ]
    },
    {
      "cell_type": "markdown",
      "source": [
        "#Recomendación de género a través de artistas\n",
        "\n",
        "Sistema que busca identificar un género o grupo de estilos musicales para un usuario a través de una aplicación aque correrá en Google Colab o soluciones similares"
      ],
      "metadata": {
        "id": "qvqh_m8K3lFi"
      }
    },
    {
      "cell_type": "markdown",
      "source": [
        "### Instalar librerias"
      ],
      "metadata": {
        "id": "86_2fA_c5B_t"
      }
    },
    {
      "cell_type": "code",
      "source": [
        "!pip install scikit-surprise"
      ],
      "metadata": {
        "colab": {
          "base_uri": "https://localhost:8080/"
        },
        "collapsed": true,
        "id": "K9RMfEqY5EoF",
        "outputId": "a1ef0cbd-1dfa-42ed-931d-6a07b121d225"
      },
      "execution_count": 2,
      "outputs": [
        {
          "output_type": "stream",
          "name": "stdout",
          "text": [
            "Collecting scikit-surprise\n",
            "  Downloading scikit_surprise-1.1.4.tar.gz (154 kB)\n",
            "\u001b[?25l     \u001b[90m━━━━━━━━━━━━━━━━━━━━━━━━━━━━━━━━━━━━━━━━\u001b[0m \u001b[32m0.0/154.4 kB\u001b[0m \u001b[31m?\u001b[0m eta \u001b[36m-:--:--\u001b[0m\r\u001b[2K     \u001b[91m━━━━━━━━━━━━━━━━━━━━━━━━━━━━━━━━━━━━━━━\u001b[0m\u001b[91m╸\u001b[0m \u001b[32m153.6/154.4 kB\u001b[0m \u001b[31m5.1 MB/s\u001b[0m eta \u001b[36m0:00:01\u001b[0m\r\u001b[2K     \u001b[90m━━━━━━━━━━━━━━━━━━━━━━━━━━━━━━━━━━━━━━━━\u001b[0m \u001b[32m154.4/154.4 kB\u001b[0m \u001b[31m3.4 MB/s\u001b[0m eta \u001b[36m0:00:00\u001b[0m\n",
            "\u001b[?25h  Installing build dependencies ... \u001b[?25l\u001b[?25hdone\n",
            "  Getting requirements to build wheel ... \u001b[?25l\u001b[?25hdone\n",
            "  Preparing metadata (pyproject.toml) ... \u001b[?25l\u001b[?25hdone\n",
            "Requirement already satisfied: joblib>=1.2.0 in /usr/local/lib/python3.10/dist-packages (from scikit-surprise) (1.4.2)\n",
            "Requirement already satisfied: numpy>=1.19.5 in /usr/local/lib/python3.10/dist-packages (from scikit-surprise) (1.26.4)\n",
            "Requirement already satisfied: scipy>=1.6.0 in /usr/local/lib/python3.10/dist-packages (from scikit-surprise) (1.13.1)\n",
            "Building wheels for collected packages: scikit-surprise\n",
            "  Building wheel for scikit-surprise (pyproject.toml) ... \u001b[?25l\u001b[?25hdone\n",
            "  Created wheel for scikit-surprise: filename=scikit_surprise-1.1.4-cp310-cp310-linux_x86_64.whl size=2357285 sha256=e4a85a8777a50787369e375981783f5509f8f7c9f7eec9774622b1d1b73d9670\n",
            "  Stored in directory: /root/.cache/pip/wheels/4b/3f/df/6acbf0a40397d9bf3ff97f582cc22fb9ce66adde75bc71fd54\n",
            "Successfully built scikit-surprise\n",
            "Installing collected packages: scikit-surprise\n",
            "Successfully installed scikit-surprise-1.1.4\n"
          ]
        }
      ]
    },
    {
      "cell_type": "markdown",
      "source": [
        "### Recuperar datos"
      ],
      "metadata": {
        "id": "OhnyR3vB4xfa"
      }
    },
    {
      "cell_type": "code",
      "execution_count": 4,
      "metadata": {
        "id": "bTVGIkE83da5"
      },
      "outputs": [],
      "source": [
        "import os\n",
        "import zipfile\n",
        "import requests\n",
        "import pandas as pd\n",
        "from surprise import Dataset, Reader\n",
        "\n",
        "# URL del dataset\n",
        "url = \"https://files.grouplens.org/datasets/hetrec2011/hetrec2011-lastfm-2k.zip\"\n",
        "zip_file = \"hetrec2011-lastfm-2k.zip\"\n",
        "extract_dir = \"hetrec2011-lastfm-2k\"\n",
        "\n",
        "# Descargar el dataset\n",
        "if not os.path.exists(zip_file):\n",
        "    print(\"Descargando dataset...\")\n",
        "    response = requests.get(url)\n",
        "    with open(zip_file, 'wb') as f:\n",
        "        f.write(response.content)\n",
        "    print(\"Descarga completa.\")\n",
        "\n",
        "# Descomprimir el dataset\n",
        "if not os.path.exists(extract_dir):\n",
        "    print(\"Descomprimiendo dataset...\")\n",
        "    with zipfile.ZipFile(zip_file, 'r') as zip_ref:\n",
        "        zip_ref.extractall(extract_dir)\n",
        "    print(\"Descompresión completa.\")"
      ]
    },
    {
      "cell_type": "markdown",
      "source": [
        "### Cargar cada archivo en un dataframe"
      ],
      "metadata": {
        "id": "mQt_hxxy6Orf"
      }
    },
    {
      "cell_type": "code",
      "source": [
        "# user_artists.dat - Relación entre usuarios y artistas\n",
        "user_artists_path = os.path.join(extract_dir, 'user_artists.dat')\n",
        "df_user_artists = pd.read_csv(user_artists_path, sep='\\t')\n",
        "print(\"Datos de user_artists:\")\n",
        "print(df_user_artists.head())\n",
        "\n",
        "# artists.dat - Información sobre los artistas\n",
        "artists_path = os.path.join(extract_dir, 'artists.dat')\n",
        "df_artists = pd.read_csv(artists_path, sep='\\t')\n",
        "print(\"Datos de artists:\")\n",
        "print(df_artists.head())\n",
        "\n",
        "# tags.dat - Información sobre las etiquetas\n",
        "# Cargar el archivo tags.dat usando una codificación alternativa\n",
        "tags_path = os.path.join(extract_dir, 'tags.dat')\n",
        "try:\n",
        "    df_tags = pd.read_csv(tags_path, sep='\\t', encoding='latin1')  # Cambiar la codificación a latin1\n",
        "    print(\"Datos de tags:\")\n",
        "    print(df_tags.head())\n",
        "except UnicodeDecodeError as e:\n",
        "    print(f\"Error de decodificación: {e}\")\n",
        "\n",
        "\n",
        "# user_friends.dat - Relación de amistad entre usuarios\n",
        "user_friends_path = os.path.join(extract_dir, 'user_friends.dat')\n",
        "df_user_friends = pd.read_csv(user_friends_path, sep='\\t')\n",
        "print(\"Datos de user_friends:\")\n",
        "print(df_user_friends.head())\n",
        "\n",
        "# user_taggedartists-timestamps.dat - Etiquetas de los usuarios a los artistas con marcas de tiempo\n",
        "user_taggedartists_timestamps_path = os.path.join(extract_dir, 'user_taggedartists-timestamps.dat')\n",
        "df_user_taggedartists_timestamps = pd.read_csv(user_taggedartists_timestamps_path, sep='\\t')\n",
        "print(\"Datos de user_taggedartists_timestamps:\")\n",
        "print(df_user_taggedartists_timestamps.head())\n",
        "\n",
        "# user_taggedartists.dat - Etiquetas de los usuarios a los artistas\n",
        "user_taggedartists_path = os.path.join(extract_dir, 'user_taggedartists.dat')\n",
        "df_user_taggedartists = pd.read_csv(user_taggedartists_path, sep='\\t')\n",
        "print(\"Datos de user_taggedartists:\")\n",
        "print(df_user_taggedartists.head())\n",
        "\n",
        "# Preparar los datos para Surprise (usaremos user_artists.dat para recomendaciones)\n",
        "\n",
        "reader = Reader(rating_scale=(df_user_artists['weight'].min(), df_user_artists['weight'].max()))\n",
        "data = Dataset.load_from_df(df_user_artists[['userID', 'artistID', 'weight']], reader)"
      ],
      "metadata": {
        "colab": {
          "base_uri": "https://localhost:8080/"
        },
        "id": "9pIPCf3W6HkB",
        "outputId": "4de3c0f0-49b5-40b4-80e9-63640a00bcce"
      },
      "execution_count": 6,
      "outputs": [
        {
          "output_type": "stream",
          "name": "stdout",
          "text": [
            "Datos de user_artists:\n",
            "   userID  artistID  weight\n",
            "0       2        51   13883\n",
            "1       2        52   11690\n",
            "2       2        53   11351\n",
            "3       2        54   10300\n",
            "4       2        55    8983\n",
            "Datos de artists:\n",
            "   id               name                                         url  \\\n",
            "0   1       MALICE MIZER       http://www.last.fm/music/MALICE+MIZER   \n",
            "1   2    Diary of Dreams    http://www.last.fm/music/Diary+of+Dreams   \n",
            "2   3  Carpathian Forest  http://www.last.fm/music/Carpathian+Forest   \n",
            "3   4       Moi dix Mois       http://www.last.fm/music/Moi+dix+Mois   \n",
            "4   5        Bella Morte        http://www.last.fm/music/Bella+Morte   \n",
            "\n",
            "                                          pictureURL  \n",
            "0    http://userserve-ak.last.fm/serve/252/10808.jpg  \n",
            "1  http://userserve-ak.last.fm/serve/252/3052066.jpg  \n",
            "2  http://userserve-ak.last.fm/serve/252/40222717...  \n",
            "3  http://userserve-ak.last.fm/serve/252/54697835...  \n",
            "4  http://userserve-ak.last.fm/serve/252/14789013...  \n",
            "Datos de tags:\n",
            "   tagID           tagValue\n",
            "0      1              metal\n",
            "1      2  alternative metal\n",
            "2      3          goth rock\n",
            "3      4        black metal\n",
            "4      5        death metal\n",
            "Datos de user_friends:\n",
            "   userID  friendID\n",
            "0       2       275\n",
            "1       2       428\n",
            "2       2       515\n",
            "3       2       761\n",
            "4       2       831\n",
            "Datos de user_taggedartists_timestamps:\n",
            "   userID  artistID  tagID      timestamp\n",
            "0       2        52     13  1238536800000\n",
            "1       2        52     15  1238536800000\n",
            "2       2        52     18  1238536800000\n",
            "3       2        52     21  1238536800000\n",
            "4       2        52     41  1238536800000\n",
            "Datos de user_taggedartists:\n",
            "   userID  artistID  tagID  day  month  year\n",
            "0       2        52     13    1      4  2009\n",
            "1       2        52     15    1      4  2009\n",
            "2       2        52     18    1      4  2009\n",
            "3       2        52     21    1      4  2009\n",
            "4       2        52     41    1      4  2009\n"
          ]
        }
      ]
    },
    {
      "cell_type": "code",
      "source": [
        "from surprise import SVD, KNNBasic\n",
        "from surprise.model_selection import train_test_split, cross_validate\n",
        "\n",
        "# Crear un set de entrenamiento y prueba\n",
        "trainset, testset = train_test_split(data, test_size=0.25)\n",
        "\n",
        "# Usar SVD para el modelo de recomendación\n",
        "algo = SVD()\n",
        "\n",
        "# Entrenar el modelo\n",
        "algo.fit(trainset)\n",
        "\n",
        "# Evaluar el modelo\n",
        "predictions = algo.test(testset)"
      ],
      "metadata": {
        "id": "gckTg0x56kCh"
      },
      "execution_count": null,
      "outputs": []
    },
    {
      "cell_type": "markdown",
      "source": [
        "### Entrenamiento y evaluación utilizando Surprise"
      ],
      "metadata": {
        "id": "F9JS0g1d66dw"
      }
    },
    {
      "cell_type": "code",
      "source": [
        "from surprise import Dataset, Reader, SVD, KNNBasic\n",
        "from surprise.model_selection import train_test_split, cross_validate\n",
        "\n",
        "# Preparación de los datos para Surprise\n",
        "reader = Reader(rating_scale=(df_user_artists['weight'].min(), df_user_artists['weight'].max()))\n",
        "data = Dataset.load_from_df(df_user_artists[['userID', 'artistID', 'weight']], reader)\n",
        "\n",
        "# Dividir el conjunto de datos en entrenamiento y prueba\n",
        "trainset, testset = train_test_split(data, test_size=0.25)\n",
        "\n",
        "# Usar el algoritmo SVD para crear el modelo de recomendación\n",
        "modelo_svd = SVD()\n",
        "\n",
        "# Entrenar el modelo SVD\n",
        "modelo_svd.fit(trainset)\n",
        "\n",
        "# Evaluar el modelo SVD\n",
        "predictions_svd = modelo_svd.test(testset)\n",
        "\n",
        "# Mostrar algunas predicciones SVD\n",
        "print(\"\\nAlgunas predicciones SVD:\")\n",
        "for prediction in predictions_svd[:5]:\n",
        "    print(prediction)\n",
        "\n",
        "# Usar el algoritmo KNNBasic para crear el modelo de recomendación\n",
        "modelo_knn = KNNBasic()\n",
        "\n",
        "# Entrenar el modelo KNNBasic\n",
        "modelo_knn.fit(trainset)\n",
        "\n",
        "# Evaluar el modelo KNNBasic\n",
        "predictions_knn = modelo_knn.test(testset)\n",
        "\n",
        "# Mostrar algunas predicciones KNNBasic\n",
        "print(\"\\nAlgunas predicciones KNNBasic:\")\n",
        "for prediction in predictions_knn[:5]:\n",
        "    print(prediction)\n",
        "\n",
        "# Evaluar el rendimiento de ambos modelos usando validación cruzada\n",
        "print(\"\\nEvaluación usando validación cruzada:\")\n",
        "cross_validate(modelo_svd, data, measures=['RMSE', 'MAE'], cv=5, verbose=True)\n",
        "cross_validate(modelo_knn, data, measures=['RMSE', 'MAE'], cv=5, verbose=True)"
      ],
      "metadata": {
        "colab": {
          "base_uri": "https://localhost:8080/"
        },
        "collapsed": true,
        "id": "dcSrb06K68MY",
        "outputId": "e6929cc6-05ff-49ab-aa33-ebdcf385a64e"
      },
      "execution_count": 7,
      "outputs": [
        {
          "output_type": "stream",
          "name": "stdout",
          "text": [
            "\n",
            "Algunas predicciones SVD:\n",
            "user: 824        item: 599        r_ui = 28.00   est = 352698.00   {'was_impossible': False}\n",
            "user: 642        item: 584        r_ui = 429.00   est = 352698.00   {'was_impossible': False}\n",
            "user: 1170       item: 12917      r_ui = 166.00   est = 352698.00   {'was_impossible': False}\n",
            "user: 283        item: 5182       r_ui = 112.00   est = 352698.00   {'was_impossible': False}\n",
            "user: 1705       item: 16154      r_ui = 314.00   est = 352698.00   {'was_impossible': False}\n",
            "Computing the msd similarity matrix...\n",
            "Done computing similarity matrix.\n",
            "\n",
            "Algunas predicciones KNNBasic:\n",
            "user: 824        item: 599        r_ui = 28.00   est = 141.42   {'actual_k': 40, 'was_impossible': False}\n",
            "user: 642        item: 584        r_ui = 429.00   est = 733.24   {'was_impossible': True, 'reason': 'User and/or item is unknown.'}\n",
            "user: 1170       item: 12917      r_ui = 166.00   est = 733.24   {'was_impossible': True, 'reason': 'User and/or item is unknown.'}\n",
            "user: 283        item: 5182       r_ui = 112.00   est = 733.24   {'was_impossible': True, 'reason': 'User and/or item is unknown.'}\n",
            "user: 1705       item: 16154      r_ui = 314.00   est = 733.24   {'was_impossible': True, 'reason': 'User and/or item is unknown.'}\n",
            "\n",
            "Evaluación usando validación cruzada:\n",
            "Evaluating RMSE, MAE of algorithm SVD on 5 split(s).\n",
            "\n",
            "                  Fold 1  Fold 2  Fold 3  Fold 4  Fold 5  Mean    Std     \n",
            "RMSE (testset)    351956.5290351945.0719351963.5753351961.5357351980.2698351961.396311.4119 \n",
            "MAE (testset)     351925.8126351901.2620351930.4814351929.3715351963.7087351930.127219.9009 \n",
            "Fit time          1.43    1.47    1.88    1.82    1.46    1.61    0.19    \n",
            "Test time         0.11    0.26    0.17    0.30    0.11    0.19    0.08    \n",
            "Computing the msd similarity matrix...\n",
            "Done computing similarity matrix.\n",
            "Computing the msd similarity matrix...\n",
            "Done computing similarity matrix.\n",
            "Computing the msd similarity matrix...\n",
            "Done computing similarity matrix.\n",
            "Computing the msd similarity matrix...\n",
            "Done computing similarity matrix.\n",
            "Computing the msd similarity matrix...\n",
            "Done computing similarity matrix.\n",
            "Evaluating RMSE, MAE of algorithm KNNBasic on 5 split(s).\n",
            "\n",
            "                  Fold 1  Fold 2  Fold 3  Fold 4  Fold 5  Mean    Std     \n",
            "RMSE (testset)    4757.94814263.87964860.08563715.30864117.51834342.9480422.0564\n",
            "MAE (testset)     784.1847771.1542762.2513778.8759787.0222776.69779.0203  \n",
            "Fit time          0.43    0.43    0.37    0.41    0.32    0.39    0.04    \n",
            "Test time         1.77    1.59    1.77    2.95    1.78    1.97    0.50    \n"
          ]
        },
        {
          "output_type": "execute_result",
          "data": {
            "text/plain": [
              "{'test_rmse': array([4757.94807771, 4263.87955665, 4860.08563447, 3715.30861067,\n",
              "        4117.51826367]),\n",
              " 'test_mae': array([784.18466096, 771.15420953, 762.25126245, 778.87588648,\n",
              "        787.02223112]),\n",
              " 'fit_time': (0.42852020263671875,\n",
              "  0.42980217933654785,\n",
              "  0.3741624355316162,\n",
              "  0.40972208976745605,\n",
              "  0.31659531593322754),\n",
              " 'test_time': (1.769146203994751,\n",
              "  1.5931322574615479,\n",
              "  1.7697937488555908,\n",
              "  2.954728364944458,\n",
              "  1.7849352359771729)}"
            ]
          },
          "metadata": {},
          "execution_count": 7
        }
      ]
    },
    {
      "cell_type": "markdown",
      "source": [
        "### Predicciones"
      ],
      "metadata": {
        "id": "lOW1unUOEUVL"
      }
    },
    {
      "cell_type": "code",
      "source": [
        "# Realizar una predicción para un usuario específico y un artista específico usando el modelo SVD\n",
        "user_id = 2  # ID del usuario\n",
        "artist_id = 51  # ID del artista\n",
        "\n",
        "# Hacer la predicción con el modelo SVD\n",
        "pred_svd = modelo_svd.predict(user_id, artist_id)\n",
        "print(f\"Predicción SVD para el usuario {user_id} y el artista {artist_id}: {pred_svd.est}\")\n",
        "\n",
        "# Hacer la predicción con el modelo KNNBasic\n",
        "pred_knn = modelo_knn.predict(user_id, artist_id)\n",
        "print(f\"Predicción KNNBasic para el usuario {user_id} y el artista {artist_id}: {pred_knn.est}\")"
      ],
      "metadata": {
        "colab": {
          "base_uri": "https://localhost:8080/"
        },
        "id": "Hy0M08ipEVsO",
        "outputId": "09b5800c-ddc3-4f62-fb66-4725c8844a65"
      },
      "execution_count": 9,
      "outputs": [
        {
          "output_type": "stream",
          "name": "stdout",
          "text": [
            "Predicción SVD para el usuario 2 y el artista 51: 352698\n",
            "Predicción KNNBasic para el usuario 2 y el artista 51: 3360.453283463783\n"
          ]
        }
      ]
    },
    {
      "cell_type": "markdown",
      "source": [
        "### Recomendaciones para usuarios y artistas definidos por el programa de prueba"
      ],
      "metadata": {
        "id": "92_jQEePFnWW"
      }
    },
    {
      "cell_type": "code",
      "source": [
        "# Obtener todos los artistID únicos desde el DataFrame de artistas\n",
        "all_artist_ids = df_artists['id'].unique()\n",
        "\n",
        "# Obtener el ID del usuario para el cual deseas hacer la recomendación (puedes cambiar el ID)\n",
        "user_id = 2  # Cambia esto por el ID del usuario que te interesa\n",
        "\n",
        "# Predecir para todos los artistas que el usuario no ha escuchado\n",
        "predictions = []\n",
        "for artist_id in all_artist_ids:\n",
        "    if artist_id not in df_user_artists[df_user_artists['userID'] == user_id]['artistID'].values:\n",
        "        # Hacer la predicción con el modelo\n",
        "        pred = modelo_svd.predict(user_id, artist_id)\n",
        "        predictions.append((artist_id, pred.est))\n",
        "\n",
        "# Ordenar las predicciones de mayor a menor\n",
        "predictions.sort(key=lambda x: x[1], reverse=True)\n",
        "\n",
        "# Mostrar las 5 mejores recomendaciones de artistas junto con su nombre y estilos de música\n",
        "print(\"\\nTop 5 recomendaciones de artistas para el usuario:\")\n",
        "for artist_id, rating in predictions[:5]:\n",
        "    # Obtener el nombre del artista\n",
        "    artist_name = df_artists[df_artists['id'] == artist_id]['name'].values[0]\n",
        "    # Obtener los estilos de música del artista\n",
        "    artist_tags = artist_styles.get(artist_id, \"No disponible\")\n",
        "\n",
        "    print(f\"Artista: {artist_name}, Predicción de rating: {rating}, Estilos: {artist_tags}\")\n"
      ],
      "metadata": {
        "colab": {
          "base_uri": "https://localhost:8080/"
        },
        "id": "KrTonKkLE8gA",
        "outputId": "15be130e-5b54-4361-92f8-702e626484fc"
      },
      "execution_count": 14,
      "outputs": [
        {
          "output_type": "stream",
          "name": "stdout",
          "text": [
            "\n",
            "Top 5 recomendaciones de artistas para el usuario:\n",
            "Artista: MALICE MIZER, Predicción de rating: 352698, Estilos: j-rock, visual kei, gothic, japanese, weeabo, jrock, better than lady gaga\n",
            "Artista: Diary of Dreams, Predicción de rating: 352698, Estilos: ambient, electronic, german, industrial, seen live, gothic, gothic rock, dark, darkwave, vocal, true goth emo\n",
            "Artista: Carpathian Forest, Predicción de rating: 352698, Estilos: black metal, norwegian black metal, true norwegian black metal, very kvlt, norsk arysk metal, saxophones\n",
            "Artista: Moi dix Mois, Predicción de rating: 352698, Estilos: metal, gothic metal, rock, j-rock, visual kei, gothic, japanese, gothic japanese, bazarov\n",
            "Artista: Bella Morte, Predicción de rating: 352698, Estilos: gothic, gothic rock, darkwave, deathrock, covers\n"
          ]
        }
      ]
    },
    {
      "cell_type": "markdown",
      "source": [
        "## Aplicación"
      ],
      "metadata": {
        "id": "a1IuCmNQFtZv"
      }
    },
    {
      "cell_type": "markdown",
      "source": [
        "### Versión 1"
      ],
      "metadata": {
        "id": "WGAsa_n8dKOd"
      }
    },
    {
      "cell_type": "code",
      "source": [
        "import random\n",
        "from IPython.display import Javascript, display\n",
        "from google.colab.output import eval_js\n",
        "import pandas as pd\n",
        "import numpy as np\n",
        "from surprise import Dataset, Reader, SVD\n",
        "\n",
        "# Normalizar 'weight' a una escala de 1 a 5\n",
        "min_weight = df_user_artists['weight'].min()\n",
        "max_weight = df_user_artists['weight'].max()\n",
        "\n",
        "df_user_artists['rating'] = 1 + 4 * (df_user_artists['weight'] - min_weight) / (max_weight - min_weight)\n",
        "\n",
        "# Convertir el DataFrame en el formato esperado por Surprise\n",
        "reader = Reader(rating_scale=(1, 5))\n",
        "data = Dataset.load_from_df(df_user_artists[['userID', 'artistID', 'rating']], reader)\n",
        "\n",
        "# Entrenar el modelo con Surprise\n",
        "trainset = data.build_full_trainset()\n",
        "modelo_svd = SVD()\n",
        "modelo_svd.fit(trainset)\n",
        "\n",
        "# Función para obtener recomendaciones basadas en predicciones\n",
        "def get_top_artists_for_user(user_id, last_liked_artist_id=None, n=5):\n",
        "    # Obtener todos los artistas que el usuario no ha escuchado\n",
        "    unheard_artists = set(df_artists['id']) - set(df_user_artists[df_user_artists['userID'] == user_id]['artistID'])\n",
        "\n",
        "    # Predecir ratings para estos artistas usando el modelo de Surprise\n",
        "    predictions = [(artist_id, modelo_svd.predict(user_id, artist_id).est) for artist_id in unheard_artists]\n",
        "\n",
        "    # Si hay un artista que le gustó, filtrar por similitud\n",
        "    if last_liked_artist_id is not None:\n",
        "        # Filtrar los artistas que tengan un score más cercano al último artista que le gustó\n",
        "        similar_artists = [(artist_id, score) for artist_id, score in predictions if abs(score - modelo_svd.predict(user_id, last_liked_artist_id).est) < 0.1]\n",
        "        predictions = similar_artists if similar_artists else predictions  # Si no hay similares, usar todos\n",
        "\n",
        "    # Ordenar por rating predicho y devolver los top n\n",
        "    return sorted(predictions, key=lambda x: x[1], reverse=True)[:n]\n",
        "\n",
        "# Inicializar lista de artistas recomendados para un usuario aleatorio\n",
        "def inicializar_recomendaciones():\n",
        "    global user_id, recommended_artists, current_index, last_liked_artist_id\n",
        "    user_id = random.choice(df_user_artists['userID'].unique())  # Seleccionar un usuario al azar\n",
        "    recommended_artists = get_top_artists_for_user(user_id)\n",
        "    current_index = 0\n",
        "    last_liked_artist_id = None  # Reiniciar el último artista que le gustó\n",
        "\n",
        "inicializar_recomendaciones()  # Generar la primera recomendación\n",
        "\n",
        "liked_artists = []  # Lista para almacenar artistas que le gustan\n",
        "like_count = 0  # Contador de \"me gusta\"\n",
        "\n",
        "def create_buttons(artist_name):\n",
        "    artist_name_escaped = artist_name.replace(\"'\", \"\\\\'\").replace('\"', '\\\\\"')  # Escapar caracteres\n",
        "    display(Javascript(f'''\n",
        "        var div = document.createElement('div');\n",
        "        var btn1 = document.createElement('button');\n",
        "        btn1.innerHTML = 'Me gusta: {artist_name_escaped}';\n",
        "        btn1.onclick = function() {{\n",
        "          google.colab.kernel.invokeFunction('notebook.callback', ['Me gusta', '{artist_name_escaped}'], {{}});\n",
        "        }};\n",
        "\n",
        "        var btn2 = document.createElement('button');\n",
        "        btn2.innerHTML = 'No me gusta: {artist_name_escaped}';\n",
        "        btn2.onclick = function() {{\n",
        "          google.colab.kernel.invokeFunction('notebook.callback', ['No me gusta', '{artist_name_escaped}'], {{}});\n",
        "        }};\n",
        "\n",
        "        div.appendChild(btn1);\n",
        "        div.appendChild(btn2);\n",
        "        document.body.appendChild(div);\n",
        "    '''))\n",
        "\n",
        "def handle_choice(choice, artist_name):\n",
        "    global user_id, recommended_artists, current_index, last_liked_artist_id, liked_artists, like_count\n",
        "\n",
        "    print(f'Has elegido: {choice} para {artist_name}')\n",
        "\n",
        "    if choice == 'Me gusta':\n",
        "        last_liked_artist_id = df_artists[df_artists['name'] == artist_name]['id'].values[0]  # Guardar el último artista que le gustó\n",
        "        liked_artists.append(artist_name)  # Agregar el artista a la lista de artistas que le gustan\n",
        "        like_count += 1  # Incrementar el contador de \"me gusta\"\n",
        "\n",
        "        # Verificar si ha alcanzado 6 \"me gusta\"\n",
        "        if like_count >= 6:\n",
        "            print(\"Te gustan los siguientes artistas:\")\n",
        "            for artist in liked_artists:\n",
        "                print(artist)\n",
        "            return  # Termina el programa\n",
        "\n",
        "        current_index += 1\n",
        "        if current_index < len(recommended_artists):\n",
        "            next_artist_id, next_score = recommended_artists[current_index]\n",
        "            next_artist_name = df_artists[df_artists['id'] == next_artist_id]['name'].values[0]\n",
        "            print(f\"Artista recomendado: {next_artist_name}, score: {next_score}\")\n",
        "            create_buttons(next_artist_name)\n",
        "        else:\n",
        "            print(\"No hay más artistas en la lista de recomendaciones. Seleccionando un nuevo usuario.\")\n",
        "            inicializar_recomendaciones()\n",
        "            next_artist_id, next_score = recommended_artists[current_index]\n",
        "            next_artist_name = df_artists[df_artists['id'] == next_artist_id]['name'].values[0]\n",
        "            print(f\"Nuevo usuario seleccionado. Artista recomendado: {next_artist_name}, score: {next_score}\")\n",
        "            create_buttons(next_artist_name)\n",
        "    else:\n",
        "        # Seleccionar un nuevo artista si elige 'No me gusta'\n",
        "        unheard_artists = set(df_artists['id']) - set(df_user_artists[df_user_artists['userID'] == user_id]['artistID'])\n",
        "        next_artist_id = random.choice(list(unheard_artists))\n",
        "        next_artist_name = df_artists[df_artists['id'] == next_artist_id]['name'].values[0]\n",
        "        next_score = modelo_svd.predict(user_id, next_artist_id).est\n",
        "        print(f\"Nuevo artista recomendado: {next_artist_name}, score: {next_score}\")\n",
        "        create_buttons(next_artist_name)\n",
        "\n",
        "# Registrar la función en Google Colab\n",
        "from google.colab import output\n",
        "output.register_callback('notebook.callback', handle_choice)\n",
        "\n",
        "# Mostrar el primer artista recomendado\n",
        "first_artist_id, first_score = recommended_artists[current_index]\n",
        "first_artist_name = df_artists[df_artists['id'] == first_artist_id]['name'].values[0]\n",
        "print(f\"Artista recomendado: {first_artist_name}, score: {first_score}\")\n",
        "create_buttons(first_artist_name)\n"
      ],
      "metadata": {
        "colab": {
          "base_uri": "https://localhost:8080/",
          "height": 1000
        },
        "id": "AA9t7XDRarwx",
        "outputId": "267f30d8-a492-4e47-a659-6f7b3a9c0957"
      },
      "execution_count": 43,
      "outputs": [
        {
          "output_type": "stream",
          "name": "stdout",
          "text": [
            "Artista recomendado: Howie Day, score: 1.3132620569289257\n"
          ]
        },
        {
          "output_type": "display_data",
          "data": {
            "text/plain": [
              "<IPython.core.display.Javascript object>"
            ],
            "application/javascript": [
              "\n",
              "        var div = document.createElement('div');\n",
              "        var btn1 = document.createElement('button');\n",
              "        btn1.innerHTML = 'Me gusta: Howie Day';\n",
              "        btn1.onclick = function() {\n",
              "          google.colab.kernel.invokeFunction('notebook.callback', ['Me gusta', 'Howie Day'], {});\n",
              "        };\n",
              "\n",
              "        var btn2 = document.createElement('button');\n",
              "        btn2.innerHTML = 'No me gusta: Howie Day';\n",
              "        btn2.onclick = function() {\n",
              "          google.colab.kernel.invokeFunction('notebook.callback', ['No me gusta', 'Howie Day'], {});\n",
              "        };\n",
              "\n",
              "        div.appendChild(btn1);\n",
              "        div.appendChild(btn2);\n",
              "        document.body.appendChild(div);\n",
              "    "
            ]
          },
          "metadata": {}
        },
        {
          "output_type": "stream",
          "name": "stdout",
          "text": [
            "Has elegido: No me gusta para Howie Day\n",
            "Nuevo artista recomendado: Intizar, score: 1.0424337977337643\n"
          ]
        },
        {
          "output_type": "display_data",
          "data": {
            "text/plain": [
              "<IPython.core.display.Javascript object>"
            ],
            "application/javascript": [
              "\n",
              "        var div = document.createElement('div');\n",
              "        var btn1 = document.createElement('button');\n",
              "        btn1.innerHTML = 'Me gusta: Intizar';\n",
              "        btn1.onclick = function() {\n",
              "          google.colab.kernel.invokeFunction('notebook.callback', ['Me gusta', 'Intizar'], {});\n",
              "        };\n",
              "\n",
              "        var btn2 = document.createElement('button');\n",
              "        btn2.innerHTML = 'No me gusta: Intizar';\n",
              "        btn2.onclick = function() {\n",
              "          google.colab.kernel.invokeFunction('notebook.callback', ['No me gusta', 'Intizar'], {});\n",
              "        };\n",
              "\n",
              "        div.appendChild(btn1);\n",
              "        div.appendChild(btn2);\n",
              "        document.body.appendChild(div);\n",
              "    "
            ]
          },
          "metadata": {}
        },
        {
          "output_type": "stream",
          "name": "stdout",
          "text": [
            "Has elegido: No me gusta para Intizar\n",
            "Nuevo artista recomendado: Tardiss, score: 1.083776007352242\n"
          ]
        },
        {
          "output_type": "display_data",
          "data": {
            "text/plain": [
              "<IPython.core.display.Javascript object>"
            ],
            "application/javascript": [
              "\n",
              "        var div = document.createElement('div');\n",
              "        var btn1 = document.createElement('button');\n",
              "        btn1.innerHTML = 'Me gusta: Tardiss';\n",
              "        btn1.onclick = function() {\n",
              "          google.colab.kernel.invokeFunction('notebook.callback', ['Me gusta', 'Tardiss'], {});\n",
              "        };\n",
              "\n",
              "        var btn2 = document.createElement('button');\n",
              "        btn2.innerHTML = 'No me gusta: Tardiss';\n",
              "        btn2.onclick = function() {\n",
              "          google.colab.kernel.invokeFunction('notebook.callback', ['No me gusta', 'Tardiss'], {});\n",
              "        };\n",
              "\n",
              "        div.appendChild(btn1);\n",
              "        div.appendChild(btn2);\n",
              "        document.body.appendChild(div);\n",
              "    "
            ]
          },
          "metadata": {}
        },
        {
          "output_type": "stream",
          "name": "stdout",
          "text": [
            "Has elegido: No me gusta para Tardiss\n",
            "Nuevo artista recomendado: Die Walter Elf, score: 1\n"
          ]
        },
        {
          "output_type": "display_data",
          "data": {
            "text/plain": [
              "<IPython.core.display.Javascript object>"
            ],
            "application/javascript": [
              "\n",
              "        var div = document.createElement('div');\n",
              "        var btn1 = document.createElement('button');\n",
              "        btn1.innerHTML = 'Me gusta: Die Walter Elf';\n",
              "        btn1.onclick = function() {\n",
              "          google.colab.kernel.invokeFunction('notebook.callback', ['Me gusta', 'Die Walter Elf'], {});\n",
              "        };\n",
              "\n",
              "        var btn2 = document.createElement('button');\n",
              "        btn2.innerHTML = 'No me gusta: Die Walter Elf';\n",
              "        btn2.onclick = function() {\n",
              "          google.colab.kernel.invokeFunction('notebook.callback', ['No me gusta', 'Die Walter Elf'], {});\n",
              "        };\n",
              "\n",
              "        div.appendChild(btn1);\n",
              "        div.appendChild(btn2);\n",
              "        document.body.appendChild(div);\n",
              "    "
            ]
          },
          "metadata": {}
        },
        {
          "output_type": "stream",
          "name": "stdout",
          "text": [
            "Has elegido: No me gusta para Die Walter Elf\n",
            "Nuevo artista recomendado: Steve Angello, score: 1.0338683132689928\n"
          ]
        },
        {
          "output_type": "display_data",
          "data": {
            "text/plain": [
              "<IPython.core.display.Javascript object>"
            ],
            "application/javascript": [
              "\n",
              "        var div = document.createElement('div');\n",
              "        var btn1 = document.createElement('button');\n",
              "        btn1.innerHTML = 'Me gusta: Steve Angello';\n",
              "        btn1.onclick = function() {\n",
              "          google.colab.kernel.invokeFunction('notebook.callback', ['Me gusta', 'Steve Angello'], {});\n",
              "        };\n",
              "\n",
              "        var btn2 = document.createElement('button');\n",
              "        btn2.innerHTML = 'No me gusta: Steve Angello';\n",
              "        btn2.onclick = function() {\n",
              "          google.colab.kernel.invokeFunction('notebook.callback', ['No me gusta', 'Steve Angello'], {});\n",
              "        };\n",
              "\n",
              "        div.appendChild(btn1);\n",
              "        div.appendChild(btn2);\n",
              "        document.body.appendChild(div);\n",
              "    "
            ]
          },
          "metadata": {}
        },
        {
          "output_type": "stream",
          "name": "stdout",
          "text": [
            "Has elegido: No me gusta para Steve Angello\n",
            "Nuevo artista recomendado: Technotronic, score: 1.0692343708740222\n"
          ]
        },
        {
          "output_type": "display_data",
          "data": {
            "text/plain": [
              "<IPython.core.display.Javascript object>"
            ],
            "application/javascript": [
              "\n",
              "        var div = document.createElement('div');\n",
              "        var btn1 = document.createElement('button');\n",
              "        btn1.innerHTML = 'Me gusta: Technotronic';\n",
              "        btn1.onclick = function() {\n",
              "          google.colab.kernel.invokeFunction('notebook.callback', ['Me gusta', 'Technotronic'], {});\n",
              "        };\n",
              "\n",
              "        var btn2 = document.createElement('button');\n",
              "        btn2.innerHTML = 'No me gusta: Technotronic';\n",
              "        btn2.onclick = function() {\n",
              "          google.colab.kernel.invokeFunction('notebook.callback', ['No me gusta', 'Technotronic'], {});\n",
              "        };\n",
              "\n",
              "        div.appendChild(btn1);\n",
              "        div.appendChild(btn2);\n",
              "        document.body.appendChild(div);\n",
              "    "
            ]
          },
          "metadata": {}
        },
        {
          "output_type": "stream",
          "name": "stdout",
          "text": [
            "Has elegido: Me gusta para Technotronic\n",
            "Artista recomendado: The Hood Internet, score: 1.29774142616054\n"
          ]
        },
        {
          "output_type": "display_data",
          "data": {
            "text/plain": [
              "<IPython.core.display.Javascript object>"
            ],
            "application/javascript": [
              "\n",
              "        var div = document.createElement('div');\n",
              "        var btn1 = document.createElement('button');\n",
              "        btn1.innerHTML = 'Me gusta: The Hood Internet';\n",
              "        btn1.onclick = function() {\n",
              "          google.colab.kernel.invokeFunction('notebook.callback', ['Me gusta', 'The Hood Internet'], {});\n",
              "        };\n",
              "\n",
              "        var btn2 = document.createElement('button');\n",
              "        btn2.innerHTML = 'No me gusta: The Hood Internet';\n",
              "        btn2.onclick = function() {\n",
              "          google.colab.kernel.invokeFunction('notebook.callback', ['No me gusta', 'The Hood Internet'], {});\n",
              "        };\n",
              "\n",
              "        div.appendChild(btn1);\n",
              "        div.appendChild(btn2);\n",
              "        document.body.appendChild(div);\n",
              "    "
            ]
          },
          "metadata": {}
        },
        {
          "output_type": "stream",
          "name": "stdout",
          "text": [
            "Has elegido: Me gusta para The Hood Internet\n",
            "Artista recomendado: Kollektiv Turmstrasse, score: 1.2890380089755675\n"
          ]
        },
        {
          "output_type": "display_data",
          "data": {
            "text/plain": [
              "<IPython.core.display.Javascript object>"
            ],
            "application/javascript": [
              "\n",
              "        var div = document.createElement('div');\n",
              "        var btn1 = document.createElement('button');\n",
              "        btn1.innerHTML = 'Me gusta: Kollektiv Turmstrasse';\n",
              "        btn1.onclick = function() {\n",
              "          google.colab.kernel.invokeFunction('notebook.callback', ['Me gusta', 'Kollektiv Turmstrasse'], {});\n",
              "        };\n",
              "\n",
              "        var btn2 = document.createElement('button');\n",
              "        btn2.innerHTML = 'No me gusta: Kollektiv Turmstrasse';\n",
              "        btn2.onclick = function() {\n",
              "          google.colab.kernel.invokeFunction('notebook.callback', ['No me gusta', 'Kollektiv Turmstrasse'], {});\n",
              "        };\n",
              "\n",
              "        div.appendChild(btn1);\n",
              "        div.appendChild(btn2);\n",
              "        document.body.appendChild(div);\n",
              "    "
            ]
          },
          "metadata": {}
        },
        {
          "output_type": "stream",
          "name": "stdout",
          "text": [
            "Has elegido: Me gusta para Kollektiv Turmstrasse\n",
            "Artista recomendado: Amon Düül II, score: 1.2818050046673177\n"
          ]
        },
        {
          "output_type": "display_data",
          "data": {
            "text/plain": [
              "<IPython.core.display.Javascript object>"
            ],
            "application/javascript": [
              "\n",
              "        var div = document.createElement('div');\n",
              "        var btn1 = document.createElement('button');\n",
              "        btn1.innerHTML = 'Me gusta: Amon Düül II';\n",
              "        btn1.onclick = function() {\n",
              "          google.colab.kernel.invokeFunction('notebook.callback', ['Me gusta', 'Amon Düül II'], {});\n",
              "        };\n",
              "\n",
              "        var btn2 = document.createElement('button');\n",
              "        btn2.innerHTML = 'No me gusta: Amon Düül II';\n",
              "        btn2.onclick = function() {\n",
              "          google.colab.kernel.invokeFunction('notebook.callback', ['No me gusta', 'Amon Düül II'], {});\n",
              "        };\n",
              "\n",
              "        div.appendChild(btn1);\n",
              "        div.appendChild(btn2);\n",
              "        document.body.appendChild(div);\n",
              "    "
            ]
          },
          "metadata": {}
        },
        {
          "output_type": "stream",
          "name": "stdout",
          "text": [
            "Has elegido: Me gusta para Amon Düül II\n",
            "Artista recomendado: 藤本美貴, score: 1.2816847637229896\n"
          ]
        },
        {
          "output_type": "display_data",
          "data": {
            "text/plain": [
              "<IPython.core.display.Javascript object>"
            ],
            "application/javascript": [
              "\n",
              "        var div = document.createElement('div');\n",
              "        var btn1 = document.createElement('button');\n",
              "        btn1.innerHTML = 'Me gusta: 藤本美貴';\n",
              "        btn1.onclick = function() {\n",
              "          google.colab.kernel.invokeFunction('notebook.callback', ['Me gusta', '藤本美貴'], {});\n",
              "        };\n",
              "\n",
              "        var btn2 = document.createElement('button');\n",
              "        btn2.innerHTML = 'No me gusta: 藤本美貴';\n",
              "        btn2.onclick = function() {\n",
              "          google.colab.kernel.invokeFunction('notebook.callback', ['No me gusta', '藤本美貴'], {});\n",
              "        };\n",
              "\n",
              "        div.appendChild(btn1);\n",
              "        div.appendChild(btn2);\n",
              "        document.body.appendChild(div);\n",
              "    "
            ]
          },
          "metadata": {}
        },
        {
          "output_type": "stream",
          "name": "stdout",
          "text": [
            "Has elegido: No me gusta para 藤本美貴\n",
            "Nuevo artista recomendado: Junya Nakano, Masashi Hamauzu & Nobuo Uematsu, score: 1.0990235797971648\n"
          ]
        },
        {
          "output_type": "display_data",
          "data": {
            "text/plain": [
              "<IPython.core.display.Javascript object>"
            ],
            "application/javascript": [
              "\n",
              "        var div = document.createElement('div');\n",
              "        var btn1 = document.createElement('button');\n",
              "        btn1.innerHTML = 'Me gusta: Junya Nakano, Masashi Hamauzu & Nobuo Uematsu';\n",
              "        btn1.onclick = function() {\n",
              "          google.colab.kernel.invokeFunction('notebook.callback', ['Me gusta', 'Junya Nakano, Masashi Hamauzu & Nobuo Uematsu'], {});\n",
              "        };\n",
              "\n",
              "        var btn2 = document.createElement('button');\n",
              "        btn2.innerHTML = 'No me gusta: Junya Nakano, Masashi Hamauzu & Nobuo Uematsu';\n",
              "        btn2.onclick = function() {\n",
              "          google.colab.kernel.invokeFunction('notebook.callback', ['No me gusta', 'Junya Nakano, Masashi Hamauzu & Nobuo Uematsu'], {});\n",
              "        };\n",
              "\n",
              "        div.appendChild(btn1);\n",
              "        div.appendChild(btn2);\n",
              "        document.body.appendChild(div);\n",
              "    "
            ]
          },
          "metadata": {}
        },
        {
          "output_type": "stream",
          "name": "stdout",
          "text": [
            "Has elegido: Me gusta para Junya Nakano, Masashi Hamauzu & Nobuo Uematsu\n",
            "No hay más artistas en la lista de recomendaciones. Seleccionando un nuevo usuario.\n",
            "Nuevo usuario seleccionado. Artista recomendado: William Fitzsimmons, score: 1.4303289051738701\n"
          ]
        },
        {
          "output_type": "display_data",
          "data": {
            "text/plain": [
              "<IPython.core.display.Javascript object>"
            ],
            "application/javascript": [
              "\n",
              "        var div = document.createElement('div');\n",
              "        var btn1 = document.createElement('button');\n",
              "        btn1.innerHTML = 'Me gusta: William Fitzsimmons';\n",
              "        btn1.onclick = function() {\n",
              "          google.colab.kernel.invokeFunction('notebook.callback', ['Me gusta', 'William Fitzsimmons'], {});\n",
              "        };\n",
              "\n",
              "        var btn2 = document.createElement('button');\n",
              "        btn2.innerHTML = 'No me gusta: William Fitzsimmons';\n",
              "        btn2.onclick = function() {\n",
              "          google.colab.kernel.invokeFunction('notebook.callback', ['No me gusta', 'William Fitzsimmons'], {});\n",
              "        };\n",
              "\n",
              "        div.appendChild(btn1);\n",
              "        div.appendChild(btn2);\n",
              "        document.body.appendChild(div);\n",
              "    "
            ]
          },
          "metadata": {}
        },
        {
          "output_type": "stream",
          "name": "stdout",
          "text": [
            "Has elegido: Me gusta para William Fitzsimmons\n",
            "Te gustan los siguientes artistas:\n",
            "Technotronic\n",
            "The Hood Internet\n",
            "Kollektiv Turmstrasse\n",
            "Amon Düül II\n",
            "Junya Nakano, Masashi Hamauzu & Nobuo Uematsu\n",
            "William Fitzsimmons\n",
            "Has elegido: Me gusta para William Fitzsimmons\n",
            "Te gustan los siguientes artistas:\n",
            "Technotronic\n",
            "The Hood Internet\n",
            "Kollektiv Turmstrasse\n",
            "Amon Düül II\n",
            "Junya Nakano, Masashi Hamauzu & Nobuo Uematsu\n",
            "William Fitzsimmons\n",
            "William Fitzsimmons\n"
          ]
        }
      ]
    },
    {
      "cell_type": "markdown",
      "source": [
        "### Versión 2"
      ],
      "metadata": {
        "id": "71FP4A64dNff"
      }
    },
    {
      "cell_type": "code",
      "source": [
        "import random\n",
        "from IPython.display import Javascript, display, HTML\n",
        "from google.colab.output import eval_js\n",
        "import pandas as pd\n",
        "import numpy as np\n",
        "from surprise import Dataset, Reader, SVD\n",
        "\n",
        "# Normalizar 'weight' a una escala de 1 a 5\n",
        "min_weight = df_user_artists['weight'].min()\n",
        "max_weight = df_user_artists['weight'].max()\n",
        "\n",
        "df_user_artists['rating'] = 1 + 4 * (df_user_artists['weight'] - min_weight) / (max_weight - min_weight)\n",
        "\n",
        "# Convertir el DataFrame en el formato esperado por Surprise\n",
        "reader = Reader(rating_scale=(1, 5))\n",
        "data = Dataset.load_from_df(df_user_artists[['userID', 'artistID', 'rating']], reader)\n",
        "\n",
        "# Entrenar el modelo con Surprise\n",
        "trainset = data.build_full_trainset()\n",
        "modelo_svd = SVD()\n",
        "modelo_svd.fit(trainset)\n",
        "\n",
        "# Función para obtener recomendaciones basadas en predicciones\n",
        "def get_top_artists_for_user(user_id, last_liked_artist_id=None, n=5):\n",
        "    # Obtener todos los artistas que el usuario no ha escuchado\n",
        "    unheard_artists = set(df_artists['id']) - set(df_user_artists[df_user_artists['userID'] == user_id]['artistID'])\n",
        "\n",
        "    # Predecir ratings para estos artistas usando el modelo de Surprise\n",
        "    predictions = [(artist_id, modelo_svd.predict(user_id, artist_id).est) for artist_id in unheard_artists]\n",
        "\n",
        "    # Si hay un artista que le gustó, filtrar por similitud\n",
        "    if last_liked_artist_id is not None:\n",
        "        # Filtrar los artistas que tengan un score más cercano al último artista que le gustó\n",
        "        similar_artists = [(artist_id, score) for artist_id, score in predictions if abs(score - modelo_svd.predict(user_id, last_liked_artist_id).est) < 0.1]\n",
        "        predictions = similar_artists if similar_artists else predictions  # Si no hay similares, usar todos\n",
        "\n",
        "    # Ordenar por rating predicho y devolver los top n\n",
        "    return sorted(predictions, key=lambda x: x[1], reverse=True)[:n]\n",
        "\n",
        "# Inicializar lista de artistas recomendados para un usuario aleatorio\n",
        "def inicializar_recomendaciones():\n",
        "    global user_id, recommended_artists, current_index, last_liked_artist_id\n",
        "    user_id = random.choice(df_user_artists['userID'].unique())  # Seleccionar un usuario al azar\n",
        "    recommended_artists = get_top_artists_for_user(user_id)\n",
        "    current_index = 0\n",
        "    last_liked_artist_id = None  # Reiniciar el último artista que le gustó\n",
        "\n",
        "inicializar_recomendaciones()  # Generar la primera recomendación\n",
        "\n",
        "liked_artists = []  # Lista para almacenar artistas que le gustan\n",
        "like_count = 0  # Contador de \"me gusta\"\n",
        "\n",
        "def create_buttons(artist_name):\n",
        "    artist_name_escaped = artist_name.replace(\"'\", \"\\\\'\").replace('\"', '\\\\\"')  # Escapar caracteres\n",
        "    display(Javascript(f'''\n",
        "        var div = document.createElement('div');\n",
        "        var btn1 = document.createElement('button');\n",
        "        btn1.innerHTML = 'Me gusta: {artist_name_escaped}';\n",
        "        btn1.onclick = function() {{\n",
        "          google.colab.kernel.invokeFunction('notebook.callback', ['Me gusta', '{artist_name_escaped}'], {{}});\n",
        "        }};\n",
        "\n",
        "        var btn2 = document.createElement('button');\n",
        "        btn2.innerHTML = 'No me gusta: {artist_name_escaped}';\n",
        "        btn2.onclick = function() {{\n",
        "          google.colab.kernel.invokeFunction('notebook.callback', ['No me gusta', '{artist_name_escaped}'], {{}});\n",
        "        }};\n",
        "\n",
        "        div.appendChild(btn1);\n",
        "        div.appendChild(btn2);\n",
        "        document.body.appendChild(div);\n",
        "    '''))\n",
        "\n",
        "def handle_choice(choice, artist_name):\n",
        "    global user_id, recommended_artists, current_index, last_liked_artist_id, liked_artists, like_count\n",
        "\n",
        "    print(f'Has elegido: {choice} para {artist_name}')\n",
        "\n",
        "    if choice == 'Me gusta':\n",
        "        last_liked_artist_id = df_artists[df_artists['name'] == artist_name]['id'].values[0]  # Guardar el último artista que le gustó\n",
        "        liked_artists.append(artist_name)  # Agregar el artista a la lista de artistas que le gustan\n",
        "        like_count += 1  # Incrementar el contador de \"me gusta\"\n",
        "\n",
        "        # Verificar si ha alcanzado 6 \"me gusta\"\n",
        "        if like_count >= 6:\n",
        "            # Mostrar mensaje final en rojo\n",
        "            final_message = \"<h2 style='color: red;'>Te gustan los siguientes artistas:</h2><ul>\"\n",
        "            final_message += ''.join(f\"<li style='color: red;'>{artist}</li>\" for artist in liked_artists)\n",
        "            final_message += \"</ul>\"\n",
        "            display(HTML(final_message))\n",
        "            return  # Termina el programa\n",
        "\n",
        "        current_index += 1\n",
        "        if current_index < len(recommended_artists):\n",
        "            next_artist_id, next_score = recommended_artists[current_index]\n",
        "            next_artist_name = df_artists[df_artists['id'] == next_artist_id]['name'].values[0]\n",
        "            print(f\"Artista recomendado: {next_artist_name}, score: {next_score}\")\n",
        "            create_buttons(next_artist_name)\n",
        "        else:\n",
        "            print(\"No hay más artistas en la lista de recomendaciones. Seleccionando un nuevo usuario.\")\n",
        "            inicializar_recomendaciones()\n",
        "            next_artist_id, next_score = recommended_artists[current_index]\n",
        "            next_artist_name = df_artists[df_artists['id'] == next_artist_id]['name'].values[0]\n",
        "            print(f\"Nuevo usuario seleccionado. Artista recomendado: {next_artist_name}, score: {next_score}\")\n",
        "            create_buttons(next_artist_name)\n",
        "    else:\n",
        "        # Seleccionar un nuevo artista si elige 'No me gusta'\n",
        "        unheard_artists = set(df_artists['id']) - set(df_user_artists[df_user_artists['userID'] == user_id]['artistID'])\n",
        "        next_artist_id = random.choice(list(unheard_artists))\n",
        "        next_artist_name = df_artists[df_artists['id'] == next_artist_id]['name'].values[0]\n",
        "        next_score = modelo_svd.predict(user_id, next_artist_id).est\n",
        "        print(f\"Nuevo artista recomendado: {next_artist_name}, score: {next_score}\")\n",
        "        create_buttons(next_artist_name)\n",
        "\n",
        "# Registrar la función en Google Colab\n",
        "from google.colab import output\n",
        "output.register_callback('notebook.callback', handle_choice)\n",
        "\n",
        "# Mostrar el primer artista recomendado\n",
        "first_artist_id, first_score = recommended_artists[current_index]\n",
        "first_artist_name = df_artists[df_artists['id'] == first_artist_id]['name'].values[0]\n",
        "print(f\"Artista recomendado: {first_artist_name}, score: {first_score}\")\n",
        "create_buttons(first_artist_name)\n"
      ],
      "metadata": {
        "colab": {
          "base_uri": "https://localhost:8080/",
          "height": 538
        },
        "id": "jNWwMD-Kc9i5",
        "outputId": "4a62431c-65a5-46c2-cbcb-01ea46d2d016"
      },
      "execution_count": 45,
      "outputs": [
        {
          "output_type": "stream",
          "name": "stdout",
          "text": [
            "Artista recomendado: Gravity Kills, score: 1.3552713191529386\n"
          ]
        },
        {
          "output_type": "display_data",
          "data": {
            "text/plain": [
              "<IPython.core.display.Javascript object>"
            ],
            "application/javascript": [
              "\n",
              "        var div = document.createElement('div');\n",
              "        var btn1 = document.createElement('button');\n",
              "        btn1.innerHTML = 'Me gusta: Gravity Kills';\n",
              "        btn1.onclick = function() {\n",
              "          google.colab.kernel.invokeFunction('notebook.callback', ['Me gusta', 'Gravity Kills'], {});\n",
              "        };\n",
              "\n",
              "        var btn2 = document.createElement('button');\n",
              "        btn2.innerHTML = 'No me gusta: Gravity Kills';\n",
              "        btn2.onclick = function() {\n",
              "          google.colab.kernel.invokeFunction('notebook.callback', ['No me gusta', 'Gravity Kills'], {});\n",
              "        };\n",
              "\n",
              "        div.appendChild(btn1);\n",
              "        div.appendChild(btn2);\n",
              "        document.body.appendChild(div);\n",
              "    "
            ]
          },
          "metadata": {}
        },
        {
          "output_type": "stream",
          "name": "stdout",
          "text": [
            "Has elegido: Me gusta para Gravity Kills\n",
            "Artista recomendado: Blessure Grave, score: 1.3552705961018514\n"
          ]
        },
        {
          "output_type": "display_data",
          "data": {
            "text/plain": [
              "<IPython.core.display.Javascript object>"
            ],
            "application/javascript": [
              "\n",
              "        var div = document.createElement('div');\n",
              "        var btn1 = document.createElement('button');\n",
              "        btn1.innerHTML = 'Me gusta: Blessure Grave';\n",
              "        btn1.onclick = function() {\n",
              "          google.colab.kernel.invokeFunction('notebook.callback', ['Me gusta', 'Blessure Grave'], {});\n",
              "        };\n",
              "\n",
              "        var btn2 = document.createElement('button');\n",
              "        btn2.innerHTML = 'No me gusta: Blessure Grave';\n",
              "        btn2.onclick = function() {\n",
              "          google.colab.kernel.invokeFunction('notebook.callback', ['No me gusta', 'Blessure Grave'], {});\n",
              "        };\n",
              "\n",
              "        div.appendChild(btn1);\n",
              "        div.appendChild(btn2);\n",
              "        document.body.appendChild(div);\n",
              "    "
            ]
          },
          "metadata": {}
        },
        {
          "output_type": "stream",
          "name": "stdout",
          "text": [
            "Has elegido: Me gusta para Blessure Grave\n",
            "Artista recomendado: Sr. Chinarro, score: 1.3223203416237639\n"
          ]
        },
        {
          "output_type": "display_data",
          "data": {
            "text/plain": [
              "<IPython.core.display.Javascript object>"
            ],
            "application/javascript": [
              "\n",
              "        var div = document.createElement('div');\n",
              "        var btn1 = document.createElement('button');\n",
              "        btn1.innerHTML = 'Me gusta: Sr. Chinarro';\n",
              "        btn1.onclick = function() {\n",
              "          google.colab.kernel.invokeFunction('notebook.callback', ['Me gusta', 'Sr. Chinarro'], {});\n",
              "        };\n",
              "\n",
              "        var btn2 = document.createElement('button');\n",
              "        btn2.innerHTML = 'No me gusta: Sr. Chinarro';\n",
              "        btn2.onclick = function() {\n",
              "          google.colab.kernel.invokeFunction('notebook.callback', ['No me gusta', 'Sr. Chinarro'], {});\n",
              "        };\n",
              "\n",
              "        div.appendChild(btn1);\n",
              "        div.appendChild(btn2);\n",
              "        document.body.appendChild(div);\n",
              "    "
            ]
          },
          "metadata": {}
        },
        {
          "output_type": "stream",
          "name": "stdout",
          "text": [
            "Has elegido: Me gusta para Sr. Chinarro\n",
            "Artista recomendado: Lemon Demon, score: 1.3191874048599221\n"
          ]
        },
        {
          "output_type": "display_data",
          "data": {
            "text/plain": [
              "<IPython.core.display.Javascript object>"
            ],
            "application/javascript": [
              "\n",
              "        var div = document.createElement('div');\n",
              "        var btn1 = document.createElement('button');\n",
              "        btn1.innerHTML = 'Me gusta: Lemon Demon';\n",
              "        btn1.onclick = function() {\n",
              "          google.colab.kernel.invokeFunction('notebook.callback', ['Me gusta', 'Lemon Demon'], {});\n",
              "        };\n",
              "\n",
              "        var btn2 = document.createElement('button');\n",
              "        btn2.innerHTML = 'No me gusta: Lemon Demon';\n",
              "        btn2.onclick = function() {\n",
              "          google.colab.kernel.invokeFunction('notebook.callback', ['No me gusta', 'Lemon Demon'], {});\n",
              "        };\n",
              "\n",
              "        div.appendChild(btn1);\n",
              "        div.appendChild(btn2);\n",
              "        document.body.appendChild(div);\n",
              "    "
            ]
          },
          "metadata": {}
        },
        {
          "output_type": "stream",
          "name": "stdout",
          "text": [
            "Has elegido: Me gusta para Lemon Demon\n",
            "Artista recomendado: Daniela Herrero, score: 1.317804938313863\n"
          ]
        },
        {
          "output_type": "display_data",
          "data": {
            "text/plain": [
              "<IPython.core.display.Javascript object>"
            ],
            "application/javascript": [
              "\n",
              "        var div = document.createElement('div');\n",
              "        var btn1 = document.createElement('button');\n",
              "        btn1.innerHTML = 'Me gusta: Daniela Herrero';\n",
              "        btn1.onclick = function() {\n",
              "          google.colab.kernel.invokeFunction('notebook.callback', ['Me gusta', 'Daniela Herrero'], {});\n",
              "        };\n",
              "\n",
              "        var btn2 = document.createElement('button');\n",
              "        btn2.innerHTML = 'No me gusta: Daniela Herrero';\n",
              "        btn2.onclick = function() {\n",
              "          google.colab.kernel.invokeFunction('notebook.callback', ['No me gusta', 'Daniela Herrero'], {});\n",
              "        };\n",
              "\n",
              "        div.appendChild(btn1);\n",
              "        div.appendChild(btn2);\n",
              "        document.body.appendChild(div);\n",
              "    "
            ]
          },
          "metadata": {}
        },
        {
          "output_type": "stream",
          "name": "stdout",
          "text": [
            "Has elegido: Me gusta para Daniela Herrero\n",
            "No hay más artistas en la lista de recomendaciones. Seleccionando un nuevo usuario.\n",
            "Nuevo usuario seleccionado. Artista recomendado: Giorgia Fumanti, score: 1.4163518936387356\n"
          ]
        },
        {
          "output_type": "display_data",
          "data": {
            "text/plain": [
              "<IPython.core.display.Javascript object>"
            ],
            "application/javascript": [
              "\n",
              "        var div = document.createElement('div');\n",
              "        var btn1 = document.createElement('button');\n",
              "        btn1.innerHTML = 'Me gusta: Giorgia Fumanti';\n",
              "        btn1.onclick = function() {\n",
              "          google.colab.kernel.invokeFunction('notebook.callback', ['Me gusta', 'Giorgia Fumanti'], {});\n",
              "        };\n",
              "\n",
              "        var btn2 = document.createElement('button');\n",
              "        btn2.innerHTML = 'No me gusta: Giorgia Fumanti';\n",
              "        btn2.onclick = function() {\n",
              "          google.colab.kernel.invokeFunction('notebook.callback', ['No me gusta', 'Giorgia Fumanti'], {});\n",
              "        };\n",
              "\n",
              "        div.appendChild(btn1);\n",
              "        div.appendChild(btn2);\n",
              "        document.body.appendChild(div);\n",
              "    "
            ]
          },
          "metadata": {}
        },
        {
          "output_type": "stream",
          "name": "stdout",
          "text": [
            "Has elegido: Me gusta para Giorgia Fumanti\n"
          ]
        },
        {
          "output_type": "display_data",
          "data": {
            "text/plain": [
              "<IPython.core.display.HTML object>"
            ],
            "text/html": [
              "<h2 style='color: red;'>Te gustan los siguientes artistas:</h2><ul><li style='color: red;'>Gravity Kills</li><li style='color: red;'>Blessure Grave</li><li style='color: red;'>Sr. Chinarro</li><li style='color: red;'>Lemon Demon</li><li style='color: red;'>Daniela Herrero</li><li style='color: red;'>Giorgia Fumanti</li></ul>"
            ]
          },
          "metadata": {}
        }
      ]
    },
    {
      "cell_type": "markdown",
      "source": [
        "### Versión 3"
      ],
      "metadata": {
        "id": "9lAMv2WXdPES"
      }
    },
    {
      "cell_type": "code",
      "source": [
        "import random\n",
        "from IPython.display import Javascript, display, HTML\n",
        "from google.colab.output import eval_js\n",
        "import pandas as pd\n",
        "import numpy as np\n",
        "from surprise import Dataset, Reader, SVD\n",
        "from surprise.model_selection import train_test_split\n",
        "\n",
        "# Normalizar 'weight' a una escala de 1 a 5\n",
        "min_weight = df_user_artists['weight'].min()\n",
        "max_weight = df_user_artists['weight'].max()\n",
        "\n",
        "df_user_artists['rating'] = 1 + 4 * (df_user_artists['weight'] - min_weight) / (max_weight - min_weight)\n",
        "\n",
        "# Continuar con Surprise\n",
        "reader = Reader(rating_scale=(1, 5))\n",
        "data = Dataset.load_from_df(df_user_artists[['userID', 'artistID', 'rating']], reader)\n",
        "\n",
        "# Entrenar el modelo con Surprise\n",
        "trainset = data.build_full_trainset()\n",
        "modelo_svd = SVD()\n",
        "modelo_svd.fit(trainset)\n",
        "\n",
        "# Función para obtener recomendaciones basadas en predicciones\n",
        "def get_top_artists_for_user(user_id, n=5):\n",
        "    # Obtener todos los artistas que el usuario no ha escuchado\n",
        "    unheard_artists = set(df_artists['id']) - set(df_user_artists[df_user_artists['userID'] == user_id]['artistID'])\n",
        "\n",
        "    # Predecir ratings para estos artistas usando el modelo de Surprise\n",
        "    predictions = [(artist_id, modelo_svd.predict(user_id, artist_id).est) for artist_id in unheard_artists]\n",
        "\n",
        "    # Ordenar por rating predicho y devolver los top n\n",
        "    return sorted(predictions, key=lambda x: x[1], reverse=True)[:n]\n",
        "\n",
        "# Inicializar lista de artistas recomendados para un usuario aleatorio\n",
        "def inicializar_recomendaciones():\n",
        "    global user_id, recommended_artists, current_index\n",
        "    user_id = random.choice(df_user_artists['userID'].unique())  # Seleccionar un usuario al azar\n",
        "    recommended_artists = get_top_artists_for_user(user_id)\n",
        "    current_index = 0\n",
        "\n",
        "inicializar_recomendaciones()  # Generar la primera recomendación\n",
        "\n",
        "# Variables para almacenar artistas que le gustan\n",
        "liked_artists = []\n",
        "max_likes = 6\n",
        "\n",
        "def create_buttons(artist_name):\n",
        "    artist_name_escaped = artist_name.replace(\"'\", \"\\\\'\").replace('\"', '\\\\\"')  # Escapar caracteres\n",
        "    display(Javascript(f'''\n",
        "        var div = document.createElement('div');\n",
        "        var btn1 = document.createElement('button');\n",
        "        btn1.innerHTML = 'Me gusta: {artist_name_escaped}';\n",
        "        btn1.onclick = function() {{\n",
        "          google.colab.kernel.invokeFunction('notebook.callback', ['Me gusta', '{artist_name_escaped}'], {{}});\n",
        "        }};\n",
        "\n",
        "        var btn2 = document.createElement('button');\n",
        "        btn2.innerHTML = 'No me gusta: {artist_name_escaped}';\n",
        "        btn2.onclick = function() {{\n",
        "          google.colab.kernel.invokeFunction('notebook.callback', ['No me gusta', '{artist_name_escaped}'], {{}});\n",
        "        }};\n",
        "\n",
        "        div.appendChild(btn1);\n",
        "        div.appendChild(btn2);\n",
        "        document.body.appendChild(div);\n",
        "    '''))\n",
        "\n",
        "def handle_choice(choice, artist_name):\n",
        "    global user_id, recommended_artists, current_index, liked_artists\n",
        "\n",
        "    print(f'Has elegido: {choice} para {artist_name}')\n",
        "\n",
        "    if choice == 'Me gusta':\n",
        "        liked_artists.append(artist_name)  # Agregar a la lista de artistas que le gustan\n",
        "        current_index += 1\n",
        "        if len(liked_artists) >= max_likes:\n",
        "            print(HTML(\"<span style='color: red;'>Artistas que te gustan: {}</span>\".format(', '.join(liked_artists))))\n",
        "            print(HTML(\"<span style='color: yellow;'>Estilos musicales favoritos:</span>\"))\n",
        "            display_favorite_tags()  # Llamar a la función para mostrar los estilos favoritos\n",
        "            return  # Terminar el programa si se alcanzan los 6 me gusta\n",
        "\n",
        "        if current_index < len(recommended_artists):\n",
        "            next_artist_id, next_score = recommended_artists[current_index]\n",
        "            next_artist_name = df_artists[df_artists['id'] == next_artist_id]['name'].values[0]\n",
        "            print(f\"Artista recomendado: {next_artist_name}, score: {next_score}\")\n",
        "            create_buttons(next_artist_name)\n",
        "        else:\n",
        "            print(\"No hay más artistas en la lista de recomendaciones. Seleccionando un nuevo usuario.\")\n",
        "            inicializar_recomendaciones()\n",
        "            next_artist_id, next_score = recommended_artists[current_index]\n",
        "            next_artist_name = df_artists[df_artists['id'] == next_artist_id]['name'].values[0]\n",
        "            print(f\"Nuevo usuario seleccionado. Artista recomendado: {next_artist_name}, score: {next_score}\")\n",
        "            create_buttons(next_artist_name)\n",
        "    else:\n",
        "        # Seleccionar un nuevo artista similar si elige 'No me gusta'\n",
        "        unheard_artists = set(df_artists['id']) - set(df_user_artists[df_user_artists['userID'] == user_id]['artistID'])\n",
        "        next_artist_id = random.choice(list(unheard_artists))\n",
        "        next_artist_name = df_artists[df_artists['id'] == next_artist_id]['name'].values[0]\n",
        "        next_score = modelo_svd.predict(user_id, next_artist_id).est\n",
        "        print(f\"Nuevo artista recomendado: {next_artist_name}, score: {next_score}\")\n",
        "        create_buttons(next_artist_name)\n",
        "\n",
        "# Función para mostrar estilos musicales favoritos\n",
        "def display_favorite_tags():\n",
        "    # Obtener los artistIDs de los artistas que le gustan\n",
        "    liked_artist_ids = df_user_artists[df_user_artists['artistID'].isin(liked_artists)]['artistID'].unique()\n",
        "    print(f\"Artist IDs que le gustan: {liked_artist_ids}\")  # Impresión de depuración\n",
        "\n",
        "    # Obtener los tagIDs de esos artistas\n",
        "    liked_artist_tags = df_user_taggedartists_timestamps[df_user_taggedartists_timestamps['artistID'].isin(liked_artist_ids)]['tagID']\n",
        "    print(f\"Tag IDs asociados a artistas que le gustan: {liked_artist_tags}\")  # Impresión de depuración\n",
        "\n",
        "    # Obtener los tagValues\n",
        "    favorite_tags = df_tags[df_tags['tagID'].isin(liked_artist_tags)]\n",
        "    print(f\"Tags obtenidos: {favorite_tags}\")  # Impresión de depuración\n",
        "\n",
        "    # Imprimir los estilos musicales favoritos en amarillo\n",
        "    favorite_tags_list = favorite_tags['tagValue'].tolist()\n",
        "    if favorite_tags_list:\n",
        "        print(HTML(f\"<span style='color: yellow;'>Estilos musicales favoritos: {', '.join(favorite_tags_list)}</span>\"))\n",
        "    else:\n",
        "        print(\"No se encontraron estilos musicales favoritos.\")\n",
        "\n",
        "# Registrar la función en Google Colab\n",
        "from google.colab import output\n",
        "output.register_callback('notebook.callback', handle_choice)\n",
        "\n",
        "# Mostrar el primer artista recomendado\n",
        "first_artist_id, first_score = recommended_artists[current_index]\n",
        "first_artist_name = df_artists[df_artists['id'] == first_artist_id]['name'].values[0]\n",
        "print(f\"Artista recomendado: {first_artist_name}, score: {first_score}\")\n",
        "create_buttons(first_artist_name)\n"
      ],
      "metadata": {
        "colab": {
          "base_uri": "https://localhost:8080/",
          "height": 750
        },
        "id": "prGf4T4yfDqP",
        "outputId": "2d17108e-e33f-43a8-a22b-34033bf24768"
      },
      "execution_count": 49,
      "outputs": [
        {
          "output_type": "stream",
          "name": "stdout",
          "text": [
            "Artista recomendado: Model 500, score: 1.4116368229262912\n"
          ]
        },
        {
          "output_type": "display_data",
          "data": {
            "text/plain": [
              "<IPython.core.display.Javascript object>"
            ],
            "application/javascript": [
              "\n",
              "        var div = document.createElement('div');\n",
              "        var btn1 = document.createElement('button');\n",
              "        btn1.innerHTML = 'Me gusta: Model 500';\n",
              "        btn1.onclick = function() {\n",
              "          google.colab.kernel.invokeFunction('notebook.callback', ['Me gusta', 'Model 500'], {});\n",
              "        };\n",
              "\n",
              "        var btn2 = document.createElement('button');\n",
              "        btn2.innerHTML = 'No me gusta: Model 500';\n",
              "        btn2.onclick = function() {\n",
              "          google.colab.kernel.invokeFunction('notebook.callback', ['No me gusta', 'Model 500'], {});\n",
              "        };\n",
              "\n",
              "        div.appendChild(btn1);\n",
              "        div.appendChild(btn2);\n",
              "        document.body.appendChild(div);\n",
              "    "
            ]
          },
          "metadata": {}
        },
        {
          "output_type": "stream",
          "name": "stdout",
          "text": [
            "Has elegido: No me gusta para Model 500\n",
            "Nuevo artista recomendado: Legacy Five, score: 1\n"
          ]
        },
        {
          "output_type": "display_data",
          "data": {
            "text/plain": [
              "<IPython.core.display.Javascript object>"
            ],
            "application/javascript": [
              "\n",
              "        var div = document.createElement('div');\n",
              "        var btn1 = document.createElement('button');\n",
              "        btn1.innerHTML = 'Me gusta: Legacy Five';\n",
              "        btn1.onclick = function() {\n",
              "          google.colab.kernel.invokeFunction('notebook.callback', ['Me gusta', 'Legacy Five'], {});\n",
              "        };\n",
              "\n",
              "        var btn2 = document.createElement('button');\n",
              "        btn2.innerHTML = 'No me gusta: Legacy Five';\n",
              "        btn2.onclick = function() {\n",
              "          google.colab.kernel.invokeFunction('notebook.callback', ['No me gusta', 'Legacy Five'], {});\n",
              "        };\n",
              "\n",
              "        div.appendChild(btn1);\n",
              "        div.appendChild(btn2);\n",
              "        document.body.appendChild(div);\n",
              "    "
            ]
          },
          "metadata": {}
        },
        {
          "output_type": "stream",
          "name": "stdout",
          "text": [
            "Has elegido: No me gusta para Legacy Five\n",
            "Nuevo artista recomendado: Coiffeur, score: 1.0603253552862528\n"
          ]
        },
        {
          "output_type": "display_data",
          "data": {
            "text/plain": [
              "<IPython.core.display.Javascript object>"
            ],
            "application/javascript": [
              "\n",
              "        var div = document.createElement('div');\n",
              "        var btn1 = document.createElement('button');\n",
              "        btn1.innerHTML = 'Me gusta: Coiffeur';\n",
              "        btn1.onclick = function() {\n",
              "          google.colab.kernel.invokeFunction('notebook.callback', ['Me gusta', 'Coiffeur'], {});\n",
              "        };\n",
              "\n",
              "        var btn2 = document.createElement('button');\n",
              "        btn2.innerHTML = 'No me gusta: Coiffeur';\n",
              "        btn2.onclick = function() {\n",
              "          google.colab.kernel.invokeFunction('notebook.callback', ['No me gusta', 'Coiffeur'], {});\n",
              "        };\n",
              "\n",
              "        div.appendChild(btn1);\n",
              "        div.appendChild(btn2);\n",
              "        document.body.appendChild(div);\n",
              "    "
            ]
          },
          "metadata": {}
        },
        {
          "output_type": "stream",
          "name": "stdout",
          "text": [
            "Has elegido: No me gusta para Coiffeur\n",
            "Nuevo artista recomendado: Then Jerico, score: 1.0629024717183453\n"
          ]
        },
        {
          "output_type": "display_data",
          "data": {
            "text/plain": [
              "<IPython.core.display.Javascript object>"
            ],
            "application/javascript": [
              "\n",
              "        var div = document.createElement('div');\n",
              "        var btn1 = document.createElement('button');\n",
              "        btn1.innerHTML = 'Me gusta: Then Jerico';\n",
              "        btn1.onclick = function() {\n",
              "          google.colab.kernel.invokeFunction('notebook.callback', ['Me gusta', 'Then Jerico'], {});\n",
              "        };\n",
              "\n",
              "        var btn2 = document.createElement('button');\n",
              "        btn2.innerHTML = 'No me gusta: Then Jerico';\n",
              "        btn2.onclick = function() {\n",
              "          google.colab.kernel.invokeFunction('notebook.callback', ['No me gusta', 'Then Jerico'], {});\n",
              "        };\n",
              "\n",
              "        div.appendChild(btn1);\n",
              "        div.appendChild(btn2);\n",
              "        document.body.appendChild(div);\n",
              "    "
            ]
          },
          "metadata": {}
        },
        {
          "output_type": "stream",
          "name": "stdout",
          "text": [
            "Has elegido: No me gusta para Then Jerico\n",
            "Nuevo artista recomendado: Jimmy Smith, score: 1\n"
          ]
        },
        {
          "output_type": "display_data",
          "data": {
            "text/plain": [
              "<IPython.core.display.Javascript object>"
            ],
            "application/javascript": [
              "\n",
              "        var div = document.createElement('div');\n",
              "        var btn1 = document.createElement('button');\n",
              "        btn1.innerHTML = 'Me gusta: Jimmy Smith';\n",
              "        btn1.onclick = function() {\n",
              "          google.colab.kernel.invokeFunction('notebook.callback', ['Me gusta', 'Jimmy Smith'], {});\n",
              "        };\n",
              "\n",
              "        var btn2 = document.createElement('button');\n",
              "        btn2.innerHTML = 'No me gusta: Jimmy Smith';\n",
              "        btn2.onclick = function() {\n",
              "          google.colab.kernel.invokeFunction('notebook.callback', ['No me gusta', 'Jimmy Smith'], {});\n",
              "        };\n",
              "\n",
              "        div.appendChild(btn1);\n",
              "        div.appendChild(btn2);\n",
              "        document.body.appendChild(div);\n",
              "    "
            ]
          },
          "metadata": {}
        },
        {
          "output_type": "stream",
          "name": "stdout",
          "text": [
            "Has elegido: Me gusta para Jimmy Smith\n",
            "Artista recomendado: Spineshank, score: 1.3501882084954566\n"
          ]
        },
        {
          "output_type": "display_data",
          "data": {
            "text/plain": [
              "<IPython.core.display.Javascript object>"
            ],
            "application/javascript": [
              "\n",
              "        var div = document.createElement('div');\n",
              "        var btn1 = document.createElement('button');\n",
              "        btn1.innerHTML = 'Me gusta: Spineshank';\n",
              "        btn1.onclick = function() {\n",
              "          google.colab.kernel.invokeFunction('notebook.callback', ['Me gusta', 'Spineshank'], {});\n",
              "        };\n",
              "\n",
              "        var btn2 = document.createElement('button');\n",
              "        btn2.innerHTML = 'No me gusta: Spineshank';\n",
              "        btn2.onclick = function() {\n",
              "          google.colab.kernel.invokeFunction('notebook.callback', ['No me gusta', 'Spineshank'], {});\n",
              "        };\n",
              "\n",
              "        div.appendChild(btn1);\n",
              "        div.appendChild(btn2);\n",
              "        document.body.appendChild(div);\n",
              "    "
            ]
          },
          "metadata": {}
        },
        {
          "output_type": "stream",
          "name": "stdout",
          "text": [
            "Has elegido: Me gusta para Spineshank\n",
            "Artista recomendado: Felipe Smu, score: 1.3452475638205719\n"
          ]
        },
        {
          "output_type": "display_data",
          "data": {
            "text/plain": [
              "<IPython.core.display.Javascript object>"
            ],
            "application/javascript": [
              "\n",
              "        var div = document.createElement('div');\n",
              "        var btn1 = document.createElement('button');\n",
              "        btn1.innerHTML = 'Me gusta: Felipe Smu';\n",
              "        btn1.onclick = function() {\n",
              "          google.colab.kernel.invokeFunction('notebook.callback', ['Me gusta', 'Felipe Smu'], {});\n",
              "        };\n",
              "\n",
              "        var btn2 = document.createElement('button');\n",
              "        btn2.innerHTML = 'No me gusta: Felipe Smu';\n",
              "        btn2.onclick = function() {\n",
              "          google.colab.kernel.invokeFunction('notebook.callback', ['No me gusta', 'Felipe Smu'], {});\n",
              "        };\n",
              "\n",
              "        div.appendChild(btn1);\n",
              "        div.appendChild(btn2);\n",
              "        document.body.appendChild(div);\n",
              "    "
            ]
          },
          "metadata": {}
        },
        {
          "output_type": "stream",
          "name": "stdout",
          "text": [
            "Has elegido: Me gusta para Felipe Smu\n",
            "Artista recomendado: OPM, score: 1.330871477792156\n"
          ]
        },
        {
          "output_type": "display_data",
          "data": {
            "text/plain": [
              "<IPython.core.display.Javascript object>"
            ],
            "application/javascript": [
              "\n",
              "        var div = document.createElement('div');\n",
              "        var btn1 = document.createElement('button');\n",
              "        btn1.innerHTML = 'Me gusta: OPM';\n",
              "        btn1.onclick = function() {\n",
              "          google.colab.kernel.invokeFunction('notebook.callback', ['Me gusta', 'OPM'], {});\n",
              "        };\n",
              "\n",
              "        var btn2 = document.createElement('button');\n",
              "        btn2.innerHTML = 'No me gusta: OPM';\n",
              "        btn2.onclick = function() {\n",
              "          google.colab.kernel.invokeFunction('notebook.callback', ['No me gusta', 'OPM'], {});\n",
              "        };\n",
              "\n",
              "        div.appendChild(btn1);\n",
              "        div.appendChild(btn2);\n",
              "        document.body.appendChild(div);\n",
              "    "
            ]
          },
          "metadata": {}
        },
        {
          "output_type": "stream",
          "name": "stdout",
          "text": [
            "Has elegido: Me gusta para OPM\n",
            "Artista recomendado: Boney neM, score: 1.329109320000075\n"
          ]
        },
        {
          "output_type": "display_data",
          "data": {
            "text/plain": [
              "<IPython.core.display.Javascript object>"
            ],
            "application/javascript": [
              "\n",
              "        var div = document.createElement('div');\n",
              "        var btn1 = document.createElement('button');\n",
              "        btn1.innerHTML = 'Me gusta: Boney neM';\n",
              "        btn1.onclick = function() {\n",
              "          google.colab.kernel.invokeFunction('notebook.callback', ['Me gusta', 'Boney neM'], {});\n",
              "        };\n",
              "\n",
              "        var btn2 = document.createElement('button');\n",
              "        btn2.innerHTML = 'No me gusta: Boney neM';\n",
              "        btn2.onclick = function() {\n",
              "          google.colab.kernel.invokeFunction('notebook.callback', ['No me gusta', 'Boney neM'], {});\n",
              "        };\n",
              "\n",
              "        div.appendChild(btn1);\n",
              "        div.appendChild(btn2);\n",
              "        document.body.appendChild(div);\n",
              "    "
            ]
          },
          "metadata": {}
        },
        {
          "output_type": "stream",
          "name": "stdout",
          "text": [
            "Has elegido: Me gusta para Boney neM\n",
            "No hay más artistas en la lista de recomendaciones. Seleccionando un nuevo usuario.\n",
            "Nuevo usuario seleccionado. Artista recomendado: Them Crooked Vultures, score: 1.3410154468252984\n"
          ]
        },
        {
          "output_type": "display_data",
          "data": {
            "text/plain": [
              "<IPython.core.display.Javascript object>"
            ],
            "application/javascript": [
              "\n",
              "        var div = document.createElement('div');\n",
              "        var btn1 = document.createElement('button');\n",
              "        btn1.innerHTML = 'Me gusta: Them Crooked Vultures';\n",
              "        btn1.onclick = function() {\n",
              "          google.colab.kernel.invokeFunction('notebook.callback', ['Me gusta', 'Them Crooked Vultures'], {});\n",
              "        };\n",
              "\n",
              "        var btn2 = document.createElement('button');\n",
              "        btn2.innerHTML = 'No me gusta: Them Crooked Vultures';\n",
              "        btn2.onclick = function() {\n",
              "          google.colab.kernel.invokeFunction('notebook.callback', ['No me gusta', 'Them Crooked Vultures'], {});\n",
              "        };\n",
              "\n",
              "        div.appendChild(btn1);\n",
              "        div.appendChild(btn2);\n",
              "        document.body.appendChild(div);\n",
              "    "
            ]
          },
          "metadata": {}
        },
        {
          "output_type": "stream",
          "name": "stdout",
          "text": [
            "Has elegido: Me gusta para Them Crooked Vultures\n",
            "<IPython.core.display.HTML object>\n",
            "<IPython.core.display.HTML object>\n",
            "Artist IDs que le gustan: []\n",
            "Tag IDs asociados a artistas que le gustan: Series([], Name: tagID, dtype: int64)\n",
            "Tags obtenidos: Empty DataFrame\n",
            "Columns: [tagID, tagValue]\n",
            "Index: []\n",
            "No se encontraron estilos musicales favoritos.\n"
          ]
        }
      ]
    }
  ]
}