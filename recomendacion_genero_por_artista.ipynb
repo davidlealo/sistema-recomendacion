{
  "nbformat": 4,
  "nbformat_minor": 0,
  "metadata": {
    "colab": {
      "provenance": [],
      "authorship_tag": "ABX9TyMmfHHZXcsO7jUzPNF6p3Id",
      "include_colab_link": true
    },
    "kernelspec": {
      "name": "python3",
      "display_name": "Python 3"
    },
    "language_info": {
      "name": "python"
    }
  },
  "cells": [
    {
      "cell_type": "markdown",
      "metadata": {
        "id": "view-in-github",
        "colab_type": "text"
      },
      "source": [
        "<a href=\"https://colab.research.google.com/github/davidlealo/sistema-recomendacion/blob/main/recomendacion_genero_por_artista.ipynb\" target=\"_parent\"><img src=\"https://colab.research.google.com/assets/colab-badge.svg\" alt=\"Open In Colab\"/></a>"
      ]
    },
    {
      "cell_type": "markdown",
      "source": [
        "#Recomendación de género a través de artistas\n",
        "\n",
        "Sistema que busca identificar un género o grupo de estilos musicales para un usuario a través de una aplicación aque correrá en Google Colab o soluciones similares"
      ],
      "metadata": {
        "id": "qvqh_m8K3lFi"
      }
    },
    {
      "cell_type": "markdown",
      "source": [
        "### Instalar librerias"
      ],
      "metadata": {
        "id": "86_2fA_c5B_t"
      }
    },
    {
      "cell_type": "code",
      "source": [
        "!pip install scikit-surprise"
      ],
      "metadata": {
        "colab": {
          "base_uri": "https://localhost:8080/"
        },
        "collapsed": true,
        "id": "K9RMfEqY5EoF",
        "outputId": "40c368e1-725f-4747-f87e-c0c8d78f9113"
      },
      "execution_count": 23,
      "outputs": [
        {
          "output_type": "stream",
          "name": "stdout",
          "text": [
            "Requirement already satisfied: scikit-surprise in /usr/local/lib/python3.10/dist-packages (1.1.4)\n",
            "Requirement already satisfied: joblib>=1.2.0 in /usr/local/lib/python3.10/dist-packages (from scikit-surprise) (1.4.2)\n",
            "Requirement already satisfied: numpy>=1.19.5 in /usr/local/lib/python3.10/dist-packages (from scikit-surprise) (1.26.4)\n",
            "Requirement already satisfied: scipy>=1.6.0 in /usr/local/lib/python3.10/dist-packages (from scikit-surprise) (1.13.1)\n"
          ]
        }
      ]
    },
    {
      "cell_type": "markdown",
      "source": [
        "### Recuperar datos"
      ],
      "metadata": {
        "id": "OhnyR3vB4xfa"
      }
    },
    {
      "cell_type": "code",
      "execution_count": 24,
      "metadata": {
        "id": "bTVGIkE83da5"
      },
      "outputs": [],
      "source": [
        "import os\n",
        "import zipfile\n",
        "import requests\n",
        "import pandas as pd\n",
        "from surprise import Dataset, Reader\n",
        "\n",
        "# URL del dataset\n",
        "url = \"https://files.grouplens.org/datasets/hetrec2011/hetrec2011-lastfm-2k.zip\"\n",
        "zip_file = \"hetrec2011-lastfm-2k.zip\"\n",
        "extract_dir = \"hetrec2011-lastfm-2k\"\n",
        "\n",
        "# Descargar el dataset\n",
        "if not os.path.exists(zip_file):\n",
        "    print(\"Descargando dataset...\")\n",
        "    response = requests.get(url)\n",
        "    with open(zip_file, 'wb') as f:\n",
        "        f.write(response.content)\n",
        "    print(\"Descarga completa.\")\n",
        "\n",
        "# Descomprimir el dataset\n",
        "if not os.path.exists(extract_dir):\n",
        "    print(\"Descomprimiendo dataset...\")\n",
        "    with zipfile.ZipFile(zip_file, 'r') as zip_ref:\n",
        "        zip_ref.extractall(extract_dir)\n",
        "    print(\"Descompresión completa.\")"
      ]
    },
    {
      "cell_type": "markdown",
      "source": [
        "### Cargar cada archivo en un dataframe"
      ],
      "metadata": {
        "id": "mQt_hxxy6Orf"
      }
    },
    {
      "cell_type": "code",
      "source": [
        "# user_artists.dat - Relación entre usuarios y artistas\n",
        "user_artists_path = os.path.join(extract_dir, 'user_artists.dat')\n",
        "df_user_artists = pd.read_csv(user_artists_path, sep='\\t')\n",
        "print(\"Datos de user_artists:\")\n",
        "print(df_user_artists.head())\n",
        "\n",
        "# artists.dat - Información sobre los artistas\n",
        "artists_path = os.path.join(extract_dir, 'artists.dat')\n",
        "df_artists = pd.read_csv(artists_path, sep='\\t')\n",
        "print(\"Datos de artists:\")\n",
        "print(df_artists.head())\n",
        "\n",
        "# tags.dat - Información sobre las etiquetas\n",
        "# Cargar el archivo tags.dat usando una codificación alternativa\n",
        "tags_path = os.path.join(extract_dir, 'tags.dat')\n",
        "try:\n",
        "    df_tags = pd.read_csv(tags_path, sep='\\t', encoding='latin1')  # Cambiar la codificación a latin1\n",
        "    print(\"Datos de tags:\")\n",
        "    print(df_tags.head())\n",
        "except UnicodeDecodeError as e:\n",
        "    print(f\"Error de decodificación: {e}\")\n",
        "\n",
        "\n",
        "# user_friends.dat - Relación de amistad entre usuarios\n",
        "user_friends_path = os.path.join(extract_dir, 'user_friends.dat')\n",
        "df_user_friends = pd.read_csv(user_friends_path, sep='\\t')\n",
        "print(\"Datos de user_friends:\")\n",
        "print(df_user_friends.head())\n",
        "\n",
        "# user_taggedartists-timestamps.dat - Etiquetas de los usuarios a los artistas con marcas de tiempo\n",
        "user_taggedartists_timestamps_path = os.path.join(extract_dir, 'user_taggedartists-timestamps.dat')\n",
        "df_user_taggedartists_timestamps = pd.read_csv(user_taggedartists_timestamps_path, sep='\\t')\n",
        "print(\"Datos de user_taggedartists_timestamps:\")\n",
        "print(df_user_taggedartists_timestamps.head())\n",
        "\n",
        "# user_taggedartists.dat - Etiquetas de los usuarios a los artistas\n",
        "user_taggedartists_path = os.path.join(extract_dir, 'user_taggedartists.dat')\n",
        "df_user_taggedartists = pd.read_csv(user_taggedartists_path, sep='\\t')\n",
        "print(\"Datos de user_taggedartists:\")\n",
        "print(df_user_taggedartists.head())\n",
        "\n",
        "# Preparar los datos para Surprise (usaremos user_artists.dat para recomendaciones)\n",
        "\n",
        "reader = Reader(rating_scale=(df_user_artists['weight'].min(), df_user_artists['weight'].max()))\n",
        "data = Dataset.load_from_df(df_user_artists[['userID', 'artistID', 'weight']], reader)"
      ],
      "metadata": {
        "colab": {
          "base_uri": "https://localhost:8080/"
        },
        "id": "9pIPCf3W6HkB",
        "outputId": "e9de9559-a4d9-43d6-e2be-7a99843129be"
      },
      "execution_count": 25,
      "outputs": [
        {
          "output_type": "stream",
          "name": "stdout",
          "text": [
            "Datos de user_artists:\n",
            "   userID  artistID  weight\n",
            "0       2        51   13883\n",
            "1       2        52   11690\n",
            "2       2        53   11351\n",
            "3       2        54   10300\n",
            "4       2        55    8983\n",
            "Datos de artists:\n",
            "   id               name                                         url  \\\n",
            "0   1       MALICE MIZER       http://www.last.fm/music/MALICE+MIZER   \n",
            "1   2    Diary of Dreams    http://www.last.fm/music/Diary+of+Dreams   \n",
            "2   3  Carpathian Forest  http://www.last.fm/music/Carpathian+Forest   \n",
            "3   4       Moi dix Mois       http://www.last.fm/music/Moi+dix+Mois   \n",
            "4   5        Bella Morte        http://www.last.fm/music/Bella+Morte   \n",
            "\n",
            "                                          pictureURL  \n",
            "0    http://userserve-ak.last.fm/serve/252/10808.jpg  \n",
            "1  http://userserve-ak.last.fm/serve/252/3052066.jpg  \n",
            "2  http://userserve-ak.last.fm/serve/252/40222717...  \n",
            "3  http://userserve-ak.last.fm/serve/252/54697835...  \n",
            "4  http://userserve-ak.last.fm/serve/252/14789013...  \n",
            "Datos de tags:\n",
            "   tagID           tagValue\n",
            "0      1              metal\n",
            "1      2  alternative metal\n",
            "2      3          goth rock\n",
            "3      4        black metal\n",
            "4      5        death metal\n",
            "Datos de user_friends:\n",
            "   userID  friendID\n",
            "0       2       275\n",
            "1       2       428\n",
            "2       2       515\n",
            "3       2       761\n",
            "4       2       831\n",
            "Datos de user_taggedartists_timestamps:\n",
            "   userID  artistID  tagID      timestamp\n",
            "0       2        52     13  1238536800000\n",
            "1       2        52     15  1238536800000\n",
            "2       2        52     18  1238536800000\n",
            "3       2        52     21  1238536800000\n",
            "4       2        52     41  1238536800000\n",
            "Datos de user_taggedartists:\n",
            "   userID  artistID  tagID  day  month  year\n",
            "0       2        52     13    1      4  2009\n",
            "1       2        52     15    1      4  2009\n",
            "2       2        52     18    1      4  2009\n",
            "3       2        52     21    1      4  2009\n",
            "4       2        52     41    1      4  2009\n"
          ]
        }
      ]
    },
    {
      "cell_type": "code",
      "source": [
        "from surprise import SVD, KNNBasic\n",
        "from surprise.model_selection import train_test_split, cross_validate\n",
        "\n",
        "# Crear un set de entrenamiento y prueba\n",
        "trainset, testset = train_test_split(data, test_size=0.25)\n",
        "\n",
        "# Usar SVD para el modelo de recomendación\n",
        "algo = SVD()\n",
        "\n",
        "# Entrenar el modelo\n",
        "algo.fit(trainset)\n",
        "\n",
        "# Evaluar el modelo\n",
        "predictions = algo.test(testset)"
      ],
      "metadata": {
        "id": "gckTg0x56kCh"
      },
      "execution_count": 26,
      "outputs": []
    },
    {
      "cell_type": "markdown",
      "source": [
        "### Entrenamiento y evaluación utilizando Surprise"
      ],
      "metadata": {
        "id": "F9JS0g1d66dw"
      }
    },
    {
      "cell_type": "code",
      "source": [
        "from surprise import Dataset, Reader, SVD, KNNBasic\n",
        "from surprise.model_selection import train_test_split, cross_validate\n",
        "\n",
        "# Preparación de los datos para Surprise\n",
        "reader = Reader(rating_scale=(df_user_artists['weight'].min(), df_user_artists['weight'].max()))\n",
        "data = Dataset.load_from_df(df_user_artists[['userID', 'artistID', 'weight']], reader)\n",
        "\n",
        "# Dividir el conjunto de datos en entrenamiento y prueba\n",
        "trainset, testset = train_test_split(data, test_size=0.25)\n",
        "\n",
        "# Usar el algoritmo SVD para crear el modelo de recomendación\n",
        "modelo_svd = SVD()\n",
        "\n",
        "# Entrenar el modelo SVD\n",
        "modelo_svd.fit(trainset)\n",
        "\n",
        "# Evaluar el modelo SVD\n",
        "predictions_svd = modelo_svd.test(testset)\n",
        "\n",
        "# Mostrar algunas predicciones SVD\n",
        "print(\"\\nAlgunas predicciones SVD:\")\n",
        "for prediction in predictions_svd[:5]:\n",
        "    print(prediction)\n",
        "\n",
        "# Usar el algoritmo KNNBasic para crear el modelo de recomendación\n",
        "modelo_knn = KNNBasic()\n",
        "\n",
        "# Entrenar el modelo KNNBasic\n",
        "modelo_knn.fit(trainset)\n",
        "\n",
        "# Evaluar el modelo KNNBasic\n",
        "predictions_knn = modelo_knn.test(testset)\n",
        "\n",
        "# Mostrar algunas predicciones KNNBasic\n",
        "print(\"\\nAlgunas predicciones KNNBasic:\")\n",
        "for prediction in predictions_knn[:5]:\n",
        "    print(prediction)\n",
        "\n",
        "# Evaluar el rendimiento de ambos modelos usando validación cruzada\n",
        "print(\"\\nEvaluación usando validación cruzada:\")\n",
        "cross_validate(modelo_svd, data, measures=['RMSE', 'MAE'], cv=5, verbose=True)\n",
        "cross_validate(modelo_knn, data, measures=['RMSE', 'MAE'], cv=5, verbose=True)"
      ],
      "metadata": {
        "colab": {
          "base_uri": "https://localhost:8080/"
        },
        "collapsed": true,
        "id": "dcSrb06K68MY",
        "outputId": "27f03b74-b4b1-4e4b-e6ca-91319d195de9"
      },
      "execution_count": 27,
      "outputs": [
        {
          "output_type": "stream",
          "name": "stdout",
          "text": [
            "\n",
            "Algunas predicciones SVD:\n",
            "user: 1974       item: 227        r_ui = 676.00   est = 352698.00   {'was_impossible': False}\n",
            "user: 1513       item: 10491      r_ui = 170.00   est = 352698.00   {'was_impossible': False}\n",
            "user: 208        item: 4269       r_ui = 195.00   est = 352698.00   {'was_impossible': False}\n",
            "user: 1042       item: 328        r_ui = 295.00   est = 352698.00   {'was_impossible': False}\n",
            "user: 1119       item: 12420      r_ui = 17.00   est = 352698.00   {'was_impossible': False}\n",
            "Computing the msd similarity matrix...\n",
            "Done computing similarity matrix.\n",
            "\n",
            "Algunas predicciones KNNBasic:\n",
            "user: 1974       item: 227        r_ui = 676.00   est = 422.83   {'actual_k': 40, 'was_impossible': False}\n",
            "user: 1513       item: 10491      r_ui = 170.00   est = 378.00   {'actual_k': 1, 'was_impossible': False}\n",
            "user: 208        item: 4269       r_ui = 195.00   est = 729.82   {'was_impossible': True, 'reason': 'Not enough neighbors.'}\n",
            "user: 1042       item: 328        r_ui = 295.00   est = 283.14   {'actual_k': 40, 'was_impossible': False}\n",
            "user: 1119       item: 12420      r_ui = 17.00   est = 729.82   {'was_impossible': True, 'reason': 'User and/or item is unknown.'}\n",
            "\n",
            "Evaluación usando validación cruzada:\n",
            "Evaluating RMSE, MAE of algorithm SVD on 5 split(s).\n",
            "\n",
            "                  Fold 1  Fold 2  Fold 3  Fold 4  Fold 5  Mean    Std     \n",
            "RMSE (testset)    351972.0852351950.4104351955.4535351961.3816351967.6506351961.39637.8661  \n",
            "MAE (testset)     351949.4817351919.7829351915.8295351926.8616351938.6791351930.127012.4083 \n",
            "Fit time          2.02    2.33    1.82    5.17    2.98    2.86    1.22    \n",
            "Test time         0.22    0.17    0.14    0.44    0.16    0.22    0.11    \n",
            "Computing the msd similarity matrix...\n",
            "Done computing similarity matrix.\n",
            "Computing the msd similarity matrix...\n",
            "Done computing similarity matrix.\n",
            "Computing the msd similarity matrix...\n",
            "Done computing similarity matrix.\n",
            "Computing the msd similarity matrix...\n",
            "Done computing similarity matrix.\n",
            "Computing the msd similarity matrix...\n",
            "Done computing similarity matrix.\n",
            "Evaluating RMSE, MAE of algorithm KNNBasic on 5 split(s).\n",
            "\n",
            "                  Fold 1  Fold 2  Fold 3  Fold 4  Fold 5  Mean    Std     \n",
            "RMSE (testset)    4466.56774232.90354362.12104782.91684235.54534416.0109203.0646\n",
            "MAE (testset)     796.9851787.9141753.7071812.2542750.0718780.186524.4061 \n",
            "Fit time          0.50    0.56    0.66    0.53    0.43    0.54    0.08    \n",
            "Test time         1.86    2.21    2.69    1.90    2.02    2.13    0.30    \n"
          ]
        },
        {
          "output_type": "execute_result",
          "data": {
            "text/plain": [
              "{'test_rmse': array([4466.567735  , 4232.90351745, 4362.12097402, 4782.91682757,\n",
              "        4235.54531037]),\n",
              " 'test_mae': array([796.98510858, 787.91410122, 753.70707119, 812.25418551,\n",
              "        750.07184896]),\n",
              " 'fit_time': (0.4954235553741455,\n",
              "  0.5557188987731934,\n",
              "  0.662914514541626,\n",
              "  0.527944803237915,\n",
              "  0.43499255180358887),\n",
              " 'test_time': (1.8554644584655762,\n",
              "  2.2106130123138428,\n",
              "  2.689832925796509,\n",
              "  1.8961353302001953,\n",
              "  2.0228426456451416)}"
            ]
          },
          "metadata": {},
          "execution_count": 27
        }
      ]
    },
    {
      "cell_type": "markdown",
      "source": [
        "### Predicciones"
      ],
      "metadata": {
        "id": "lOW1unUOEUVL"
      }
    },
    {
      "cell_type": "code",
      "source": [
        "# Realizar una predicción para un usuario específico y un artista específico usando el modelo SVD\n",
        "user_id = 2  # ID del usuario\n",
        "artist_id = 51  # ID del artista\n",
        "\n",
        "# Hacer la predicción con el modelo SVD\n",
        "pred_svd = modelo_svd.predict(user_id, artist_id)\n",
        "print(f\"Predicción SVD para el usuario {user_id} y el artista {artist_id}: {pred_svd.est}\")\n",
        "\n",
        "# Hacer la predicción con el modelo KNNBasic\n",
        "pred_knn = modelo_knn.predict(user_id, artist_id)\n",
        "print(f\"Predicción KNNBasic para el usuario {user_id} y el artista {artist_id}: {pred_knn.est}\")"
      ],
      "metadata": {
        "colab": {
          "base_uri": "https://localhost:8080/"
        },
        "id": "Hy0M08ipEVsO",
        "outputId": "e026182c-b660-44dd-a6f4-c635c7600545"
      },
      "execution_count": 28,
      "outputs": [
        {
          "output_type": "stream",
          "name": "stdout",
          "text": [
            "Predicción SVD para el usuario 2 y el artista 51: 352698\n",
            "Predicción KNNBasic para el usuario 2 y el artista 51: 3640.245146862614\n"
          ]
        }
      ]
    },
    {
      "cell_type": "markdown",
      "source": [
        "## Aplicación"
      ],
      "metadata": {
        "id": "a1IuCmNQFtZv"
      }
    },
    {
      "cell_type": "markdown",
      "source": [
        "### Versión 1"
      ],
      "metadata": {
        "id": "WGAsa_n8dKOd"
      }
    },
    {
      "cell_type": "code",
      "source": [
        "import random\n",
        "from IPython.display import Javascript, display\n",
        "from google.colab.output import eval_js\n",
        "import pandas as pd\n",
        "import numpy as np\n",
        "from surprise import Dataset, Reader, SVD\n",
        "\n",
        "# Normalizar 'weight' a una escala de 1 a 5\n",
        "min_weight = df_user_artists['weight'].min()\n",
        "max_weight = df_user_artists['weight'].max()\n",
        "\n",
        "df_user_artists['rating'] = 1 + 4 * (df_user_artists['weight'] - min_weight) / (max_weight - min_weight)\n",
        "\n",
        "# Convertir el DataFrame en el formato esperado por Surprise\n",
        "reader = Reader(rating_scale=(1, 5))\n",
        "data = Dataset.load_from_df(df_user_artists[['userID', 'artistID', 'rating']], reader)\n",
        "\n",
        "# Entrenar el modelo con Surprise\n",
        "trainset = data.build_full_trainset()\n",
        "modelo_svd = SVD()\n",
        "modelo_svd.fit(trainset)\n",
        "\n",
        "# Función para obtener recomendaciones basadas en predicciones\n",
        "def get_top_artists_for_user(user_id, last_liked_artist_id=None, n=5):\n",
        "    # Obtener todos los artistas que el usuario no ha escuchado\n",
        "    unheard_artists = set(df_artists['id']) - set(df_user_artists[df_user_artists['userID'] == user_id]['artistID'])\n",
        "\n",
        "    # Predecir ratings para estos artistas usando el modelo de Surprise\n",
        "    predictions = [(artist_id, modelo_svd.predict(user_id, artist_id).est) for artist_id in unheard_artists]\n",
        "\n",
        "    # Si hay un artista que le gustó, filtrar por similitud\n",
        "    if last_liked_artist_id is not None:\n",
        "        # Filtrar los artistas que tengan un score más cercano al último artista que le gustó\n",
        "        similar_artists = [(artist_id, score) for artist_id, score in predictions if abs(score - modelo_svd.predict(user_id, last_liked_artist_id).est) < 0.1]\n",
        "        predictions = similar_artists if similar_artists else predictions  # Si no hay similares, usar todos\n",
        "\n",
        "    # Ordenar por rating predicho y devolver los top n\n",
        "    return sorted(predictions, key=lambda x: x[1], reverse=True)[:n]\n",
        "\n",
        "# Inicializar lista de artistas recomendados para un usuario aleatorio\n",
        "def inicializar_recomendaciones():\n",
        "    global user_id, recommended_artists, current_index, last_liked_artist_id\n",
        "    user_id = random.choice(df_user_artists['userID'].unique())  # Seleccionar un usuario al azar\n",
        "    recommended_artists = get_top_artists_for_user(user_id)\n",
        "    current_index = 0\n",
        "    last_liked_artist_id = None  # Reiniciar el último artista que le gustó\n",
        "\n",
        "inicializar_recomendaciones()  # Generar la primera recomendación\n",
        "\n",
        "liked_artists = []  # Lista para almacenar artistas que le gustan\n",
        "like_count = 0  # Contador de \"me gusta\"\n",
        "\n",
        "def create_buttons(artist_name):\n",
        "    artist_name_escaped = artist_name.replace(\"'\", \"\\\\'\").replace('\"', '\\\\\"')  # Escapar caracteres\n",
        "    display(Javascript(f'''\n",
        "        var div = document.createElement('div');\n",
        "        var btn1 = document.createElement('button');\n",
        "        btn1.innerHTML = 'Me gusta: {artist_name_escaped}';\n",
        "        btn1.onclick = function() {{\n",
        "          google.colab.kernel.invokeFunction('notebook.callback', ['Me gusta', '{artist_name_escaped}'], {{}});\n",
        "        }};\n",
        "\n",
        "        var btn2 = document.createElement('button');\n",
        "        btn2.innerHTML = 'No me gusta: {artist_name_escaped}';\n",
        "        btn2.onclick = function() {{\n",
        "          google.colab.kernel.invokeFunction('notebook.callback', ['No me gusta', '{artist_name_escaped}'], {{}});\n",
        "        }};\n",
        "\n",
        "        div.appendChild(btn1);\n",
        "        div.appendChild(btn2);\n",
        "        document.body.appendChild(div);\n",
        "    '''))\n",
        "\n",
        "def handle_choice(choice, artist_name):\n",
        "    global user_id, recommended_artists, current_index, last_liked_artist_id, liked_artists, like_count\n",
        "\n",
        "    print(f'Has elegido: {choice} para {artist_name}')\n",
        "\n",
        "    if choice == 'Me gusta':\n",
        "        last_liked_artist_id = df_artists[df_artists['name'] == artist_name]['id'].values[0]  # Guardar el último artista que le gustó\n",
        "        liked_artists.append(artist_name)  # Agregar el artista a la lista de artistas que le gustan\n",
        "        like_count += 1  # Incrementar el contador de \"me gusta\"\n",
        "\n",
        "        # Verificar si ha alcanzado 6 \"me gusta\"\n",
        "        if like_count >= 6:\n",
        "            print(\"Te gustan los siguientes artistas:\")\n",
        "            for artist in liked_artists:\n",
        "                print(artist)\n",
        "            return  # Termina el programa\n",
        "\n",
        "        current_index += 1\n",
        "        if current_index < len(recommended_artists):\n",
        "            next_artist_id, next_score = recommended_artists[current_index]\n",
        "            next_artist_name = df_artists[df_artists['id'] == next_artist_id]['name'].values[0]\n",
        "            print(f\"Artista recomendado: {next_artist_name}, score: {next_score}\")\n",
        "            create_buttons(next_artist_name)\n",
        "        else:\n",
        "            print(\"No hay más artistas en la lista de recomendaciones. Seleccionando un nuevo usuario.\")\n",
        "            inicializar_recomendaciones()\n",
        "            next_artist_id, next_score = recommended_artists[current_index]\n",
        "            next_artist_name = df_artists[df_artists['id'] == next_artist_id]['name'].values[0]\n",
        "            print(f\"Nuevo usuario seleccionado. Artista recomendado: {next_artist_name}, score: {next_score}\")\n",
        "            create_buttons(next_artist_name)\n",
        "    else:\n",
        "        # Seleccionar un nuevo artista si elige 'No me gusta'\n",
        "        unheard_artists = set(df_artists['id']) - set(df_user_artists[df_user_artists['userID'] == user_id]['artistID'])\n",
        "        next_artist_id = random.choice(list(unheard_artists))\n",
        "        next_artist_name = df_artists[df_artists['id'] == next_artist_id]['name'].values[0]\n",
        "        next_score = modelo_svd.predict(user_id, next_artist_id).est\n",
        "        print(f\"Nuevo artista recomendado: {next_artist_name}, score: {next_score}\")\n",
        "        create_buttons(next_artist_name)\n",
        "\n",
        "# Registrar la función en Google Colab\n",
        "from google.colab import output\n",
        "output.register_callback('notebook.callback', handle_choice)\n",
        "\n",
        "# Mostrar el primer artista recomendado\n",
        "first_artist_id, first_score = recommended_artists[current_index]\n",
        "first_artist_name = df_artists[df_artists['id'] == first_artist_id]['name'].values[0]\n",
        "print(f\"Artista recomendado: {first_artist_name}, score: {first_score}\")\n",
        "create_buttons(first_artist_name)\n"
      ],
      "metadata": {
        "colab": {
          "base_uri": "https://localhost:8080/",
          "height": 1000
        },
        "id": "AA9t7XDRarwx",
        "outputId": "630b29e5-2997-48f7-dee3-6bd97c62c96e"
      },
      "execution_count": 30,
      "outputs": [
        {
          "output_type": "stream",
          "name": "stdout",
          "text": [
            "Artista recomendado: The Clarendonians, score: 1.396518653523977\n"
          ]
        },
        {
          "output_type": "display_data",
          "data": {
            "text/plain": [
              "<IPython.core.display.Javascript object>"
            ],
            "application/javascript": [
              "\n",
              "        var div = document.createElement('div');\n",
              "        var btn1 = document.createElement('button');\n",
              "        btn1.innerHTML = 'Me gusta: The Clarendonians';\n",
              "        btn1.onclick = function() {\n",
              "          google.colab.kernel.invokeFunction('notebook.callback', ['Me gusta', 'The Clarendonians'], {});\n",
              "        };\n",
              "\n",
              "        var btn2 = document.createElement('button');\n",
              "        btn2.innerHTML = 'No me gusta: The Clarendonians';\n",
              "        btn2.onclick = function() {\n",
              "          google.colab.kernel.invokeFunction('notebook.callback', ['No me gusta', 'The Clarendonians'], {});\n",
              "        };\n",
              "\n",
              "        div.appendChild(btn1);\n",
              "        div.appendChild(btn2);\n",
              "        document.body.appendChild(div);\n",
              "    "
            ]
          },
          "metadata": {}
        },
        {
          "output_type": "stream",
          "name": "stdout",
          "text": [
            "Has elegido: No me gusta para The Clarendonians\n",
            "Nuevo artista recomendado: Stephanie, score: 1\n"
          ]
        },
        {
          "output_type": "display_data",
          "data": {
            "text/plain": [
              "<IPython.core.display.Javascript object>"
            ],
            "application/javascript": [
              "\n",
              "        var div = document.createElement('div');\n",
              "        var btn1 = document.createElement('button');\n",
              "        btn1.innerHTML = 'Me gusta: Stephanie';\n",
              "        btn1.onclick = function() {\n",
              "          google.colab.kernel.invokeFunction('notebook.callback', ['Me gusta', 'Stephanie'], {});\n",
              "        };\n",
              "\n",
              "        var btn2 = document.createElement('button');\n",
              "        btn2.innerHTML = 'No me gusta: Stephanie';\n",
              "        btn2.onclick = function() {\n",
              "          google.colab.kernel.invokeFunction('notebook.callback', ['No me gusta', 'Stephanie'], {});\n",
              "        };\n",
              "\n",
              "        div.appendChild(btn1);\n",
              "        div.appendChild(btn2);\n",
              "        document.body.appendChild(div);\n",
              "    "
            ]
          },
          "metadata": {}
        },
        {
          "output_type": "stream",
          "name": "stdout",
          "text": [
            "Has elegido: No me gusta para Stephanie\n",
            "Nuevo artista recomendado: Rush of Fools, score: 1\n"
          ]
        },
        {
          "output_type": "display_data",
          "data": {
            "text/plain": [
              "<IPython.core.display.Javascript object>"
            ],
            "application/javascript": [
              "\n",
              "        var div = document.createElement('div');\n",
              "        var btn1 = document.createElement('button');\n",
              "        btn1.innerHTML = 'Me gusta: Rush of Fools';\n",
              "        btn1.onclick = function() {\n",
              "          google.colab.kernel.invokeFunction('notebook.callback', ['Me gusta', 'Rush of Fools'], {});\n",
              "        };\n",
              "\n",
              "        var btn2 = document.createElement('button');\n",
              "        btn2.innerHTML = 'No me gusta: Rush of Fools';\n",
              "        btn2.onclick = function() {\n",
              "          google.colab.kernel.invokeFunction('notebook.callback', ['No me gusta', 'Rush of Fools'], {});\n",
              "        };\n",
              "\n",
              "        div.appendChild(btn1);\n",
              "        div.appendChild(btn2);\n",
              "        document.body.appendChild(div);\n",
              "    "
            ]
          },
          "metadata": {}
        },
        {
          "output_type": "stream",
          "name": "stdout",
          "text": [
            "Has elegido: No me gusta para Rush of Fools\n",
            "Nuevo artista recomendado: Noycetm, score: 1.063161943590077\n"
          ]
        },
        {
          "output_type": "display_data",
          "data": {
            "text/plain": [
              "<IPython.core.display.Javascript object>"
            ],
            "application/javascript": [
              "\n",
              "        var div = document.createElement('div');\n",
              "        var btn1 = document.createElement('button');\n",
              "        btn1.innerHTML = 'Me gusta: Noycetm';\n",
              "        btn1.onclick = function() {\n",
              "          google.colab.kernel.invokeFunction('notebook.callback', ['Me gusta', 'Noycetm'], {});\n",
              "        };\n",
              "\n",
              "        var btn2 = document.createElement('button');\n",
              "        btn2.innerHTML = 'No me gusta: Noycetm';\n",
              "        btn2.onclick = function() {\n",
              "          google.colab.kernel.invokeFunction('notebook.callback', ['No me gusta', 'Noycetm'], {});\n",
              "        };\n",
              "\n",
              "        div.appendChild(btn1);\n",
              "        div.appendChild(btn2);\n",
              "        document.body.appendChild(div);\n",
              "    "
            ]
          },
          "metadata": {}
        },
        {
          "output_type": "stream",
          "name": "stdout",
          "text": [
            "Has elegido: No me gusta para Noycetm\n",
            "Nuevo artista recomendado: Sub Focus, score: 1.250862535564551\n"
          ]
        },
        {
          "output_type": "display_data",
          "data": {
            "text/plain": [
              "<IPython.core.display.Javascript object>"
            ],
            "application/javascript": [
              "\n",
              "        var div = document.createElement('div');\n",
              "        var btn1 = document.createElement('button');\n",
              "        btn1.innerHTML = 'Me gusta: Sub Focus';\n",
              "        btn1.onclick = function() {\n",
              "          google.colab.kernel.invokeFunction('notebook.callback', ['Me gusta', 'Sub Focus'], {});\n",
              "        };\n",
              "\n",
              "        var btn2 = document.createElement('button');\n",
              "        btn2.innerHTML = 'No me gusta: Sub Focus';\n",
              "        btn2.onclick = function() {\n",
              "          google.colab.kernel.invokeFunction('notebook.callback', ['No me gusta', 'Sub Focus'], {});\n",
              "        };\n",
              "\n",
              "        div.appendChild(btn1);\n",
              "        div.appendChild(btn2);\n",
              "        document.body.appendChild(div);\n",
              "    "
            ]
          },
          "metadata": {}
        },
        {
          "output_type": "stream",
          "name": "stdout",
          "text": [
            "Has elegido: No me gusta para Sub Focus\n",
            "Nuevo artista recomendado: La Dispute, score: 1\n"
          ]
        },
        {
          "output_type": "display_data",
          "data": {
            "text/plain": [
              "<IPython.core.display.Javascript object>"
            ],
            "application/javascript": [
              "\n",
              "        var div = document.createElement('div');\n",
              "        var btn1 = document.createElement('button');\n",
              "        btn1.innerHTML = 'Me gusta: La Dispute';\n",
              "        btn1.onclick = function() {\n",
              "          google.colab.kernel.invokeFunction('notebook.callback', ['Me gusta', 'La Dispute'], {});\n",
              "        };\n",
              "\n",
              "        var btn2 = document.createElement('button');\n",
              "        btn2.innerHTML = 'No me gusta: La Dispute';\n",
              "        btn2.onclick = function() {\n",
              "          google.colab.kernel.invokeFunction('notebook.callback', ['No me gusta', 'La Dispute'], {});\n",
              "        };\n",
              "\n",
              "        div.appendChild(btn1);\n",
              "        div.appendChild(btn2);\n",
              "        document.body.appendChild(div);\n",
              "    "
            ]
          },
          "metadata": {}
        },
        {
          "output_type": "stream",
          "name": "stdout",
          "text": [
            "Has elegido: No me gusta para La Dispute\n",
            "Nuevo artista recomendado: KiEw, score: 1.037374823928576\n"
          ]
        },
        {
          "output_type": "display_data",
          "data": {
            "text/plain": [
              "<IPython.core.display.Javascript object>"
            ],
            "application/javascript": [
              "\n",
              "        var div = document.createElement('div');\n",
              "        var btn1 = document.createElement('button');\n",
              "        btn1.innerHTML = 'Me gusta: KiEw';\n",
              "        btn1.onclick = function() {\n",
              "          google.colab.kernel.invokeFunction('notebook.callback', ['Me gusta', 'KiEw'], {});\n",
              "        };\n",
              "\n",
              "        var btn2 = document.createElement('button');\n",
              "        btn2.innerHTML = 'No me gusta: KiEw';\n",
              "        btn2.onclick = function() {\n",
              "          google.colab.kernel.invokeFunction('notebook.callback', ['No me gusta', 'KiEw'], {});\n",
              "        };\n",
              "\n",
              "        div.appendChild(btn1);\n",
              "        div.appendChild(btn2);\n",
              "        document.body.appendChild(div);\n",
              "    "
            ]
          },
          "metadata": {}
        },
        {
          "output_type": "stream",
          "name": "stdout",
          "text": [
            "Has elegido: No me gusta para KiEw\n",
            "Nuevo artista recomendado: Adler's Appetite, score: 1.0704541666813652\n"
          ]
        },
        {
          "output_type": "display_data",
          "data": {
            "text/plain": [
              "<IPython.core.display.Javascript object>"
            ],
            "application/javascript": [
              "\n",
              "        var div = document.createElement('div');\n",
              "        var btn1 = document.createElement('button');\n",
              "        btn1.innerHTML = 'Me gusta: Adler\\'s Appetite';\n",
              "        btn1.onclick = function() {\n",
              "          google.colab.kernel.invokeFunction('notebook.callback', ['Me gusta', 'Adler\\'s Appetite'], {});\n",
              "        };\n",
              "\n",
              "        var btn2 = document.createElement('button');\n",
              "        btn2.innerHTML = 'No me gusta: Adler\\'s Appetite';\n",
              "        btn2.onclick = function() {\n",
              "          google.colab.kernel.invokeFunction('notebook.callback', ['No me gusta', 'Adler\\'s Appetite'], {});\n",
              "        };\n",
              "\n",
              "        div.appendChild(btn1);\n",
              "        div.appendChild(btn2);\n",
              "        document.body.appendChild(div);\n",
              "    "
            ]
          },
          "metadata": {}
        },
        {
          "output_type": "stream",
          "name": "stdout",
          "text": [
            "Has elegido: No me gusta para Adler's Appetite\n",
            "Nuevo artista recomendado: Sr. Chinarro, score: 1\n"
          ]
        },
        {
          "output_type": "display_data",
          "data": {
            "text/plain": [
              "<IPython.core.display.Javascript object>"
            ],
            "application/javascript": [
              "\n",
              "        var div = document.createElement('div');\n",
              "        var btn1 = document.createElement('button');\n",
              "        btn1.innerHTML = 'Me gusta: Sr. Chinarro';\n",
              "        btn1.onclick = function() {\n",
              "          google.colab.kernel.invokeFunction('notebook.callback', ['Me gusta', 'Sr. Chinarro'], {});\n",
              "        };\n",
              "\n",
              "        var btn2 = document.createElement('button');\n",
              "        btn2.innerHTML = 'No me gusta: Sr. Chinarro';\n",
              "        btn2.onclick = function() {\n",
              "          google.colab.kernel.invokeFunction('notebook.callback', ['No me gusta', 'Sr. Chinarro'], {});\n",
              "        };\n",
              "\n",
              "        div.appendChild(btn1);\n",
              "        div.appendChild(btn2);\n",
              "        document.body.appendChild(div);\n",
              "    "
            ]
          },
          "metadata": {}
        },
        {
          "output_type": "stream",
          "name": "stdout",
          "text": [
            "Has elegido: No me gusta para Sr. Chinarro\n",
            "Nuevo artista recomendado: The Ditty Bops, score: 1.0071276744030875\n"
          ]
        },
        {
          "output_type": "display_data",
          "data": {
            "text/plain": [
              "<IPython.core.display.Javascript object>"
            ],
            "application/javascript": [
              "\n",
              "        var div = document.createElement('div');\n",
              "        var btn1 = document.createElement('button');\n",
              "        btn1.innerHTML = 'Me gusta: The Ditty Bops';\n",
              "        btn1.onclick = function() {\n",
              "          google.colab.kernel.invokeFunction('notebook.callback', ['Me gusta', 'The Ditty Bops'], {});\n",
              "        };\n",
              "\n",
              "        var btn2 = document.createElement('button');\n",
              "        btn2.innerHTML = 'No me gusta: The Ditty Bops';\n",
              "        btn2.onclick = function() {\n",
              "          google.colab.kernel.invokeFunction('notebook.callback', ['No me gusta', 'The Ditty Bops'], {});\n",
              "        };\n",
              "\n",
              "        div.appendChild(btn1);\n",
              "        div.appendChild(btn2);\n",
              "        document.body.appendChild(div);\n",
              "    "
            ]
          },
          "metadata": {}
        },
        {
          "output_type": "stream",
          "name": "stdout",
          "text": [
            "Has elegido: No me gusta para The Ditty Bops\n",
            "Nuevo artista recomendado: Wicked Original Broadway Cast, score: 1.1007845183141243\n"
          ]
        },
        {
          "output_type": "display_data",
          "data": {
            "text/plain": [
              "<IPython.core.display.Javascript object>"
            ],
            "application/javascript": [
              "\n",
              "        var div = document.createElement('div');\n",
              "        var btn1 = document.createElement('button');\n",
              "        btn1.innerHTML = 'Me gusta: Wicked Original Broadway Cast';\n",
              "        btn1.onclick = function() {\n",
              "          google.colab.kernel.invokeFunction('notebook.callback', ['Me gusta', 'Wicked Original Broadway Cast'], {});\n",
              "        };\n",
              "\n",
              "        var btn2 = document.createElement('button');\n",
              "        btn2.innerHTML = 'No me gusta: Wicked Original Broadway Cast';\n",
              "        btn2.onclick = function() {\n",
              "          google.colab.kernel.invokeFunction('notebook.callback', ['No me gusta', 'Wicked Original Broadway Cast'], {});\n",
              "        };\n",
              "\n",
              "        div.appendChild(btn1);\n",
              "        div.appendChild(btn2);\n",
              "        document.body.appendChild(div);\n",
              "    "
            ]
          },
          "metadata": {}
        },
        {
          "output_type": "stream",
          "name": "stdout",
          "text": [
            "Has elegido: No me gusta para Wicked Original Broadway Cast\n",
            "Nuevo artista recomendado: Jokke & Valentinerne, score: 1\n"
          ]
        },
        {
          "output_type": "display_data",
          "data": {
            "text/plain": [
              "<IPython.core.display.Javascript object>"
            ],
            "application/javascript": [
              "\n",
              "        var div = document.createElement('div');\n",
              "        var btn1 = document.createElement('button');\n",
              "        btn1.innerHTML = 'Me gusta: Jokke & Valentinerne';\n",
              "        btn1.onclick = function() {\n",
              "          google.colab.kernel.invokeFunction('notebook.callback', ['Me gusta', 'Jokke & Valentinerne'], {});\n",
              "        };\n",
              "\n",
              "        var btn2 = document.createElement('button');\n",
              "        btn2.innerHTML = 'No me gusta: Jokke & Valentinerne';\n",
              "        btn2.onclick = function() {\n",
              "          google.colab.kernel.invokeFunction('notebook.callback', ['No me gusta', 'Jokke & Valentinerne'], {});\n",
              "        };\n",
              "\n",
              "        div.appendChild(btn1);\n",
              "        div.appendChild(btn2);\n",
              "        document.body.appendChild(div);\n",
              "    "
            ]
          },
          "metadata": {}
        },
        {
          "output_type": "stream",
          "name": "stdout",
          "text": [
            "Has elegido: No me gusta para Jokke & Valentinerne\n",
            "Nuevo artista recomendado: Sudden Weather Change, score: 1.1201734737176643\n"
          ]
        },
        {
          "output_type": "display_data",
          "data": {
            "text/plain": [
              "<IPython.core.display.Javascript object>"
            ],
            "application/javascript": [
              "\n",
              "        var div = document.createElement('div');\n",
              "        var btn1 = document.createElement('button');\n",
              "        btn1.innerHTML = 'Me gusta: Sudden Weather Change';\n",
              "        btn1.onclick = function() {\n",
              "          google.colab.kernel.invokeFunction('notebook.callback', ['Me gusta', 'Sudden Weather Change'], {});\n",
              "        };\n",
              "\n",
              "        var btn2 = document.createElement('button');\n",
              "        btn2.innerHTML = 'No me gusta: Sudden Weather Change';\n",
              "        btn2.onclick = function() {\n",
              "          google.colab.kernel.invokeFunction('notebook.callback', ['No me gusta', 'Sudden Weather Change'], {});\n",
              "        };\n",
              "\n",
              "        div.appendChild(btn1);\n",
              "        div.appendChild(btn2);\n",
              "        document.body.appendChild(div);\n",
              "    "
            ]
          },
          "metadata": {}
        },
        {
          "output_type": "stream",
          "name": "stdout",
          "text": [
            "Has elegido: No me gusta para Sudden Weather Change\n",
            "Nuevo artista recomendado: Local H, score: 1.184687305361638\n"
          ]
        },
        {
          "output_type": "display_data",
          "data": {
            "text/plain": [
              "<IPython.core.display.Javascript object>"
            ],
            "application/javascript": [
              "\n",
              "        var div = document.createElement('div');\n",
              "        var btn1 = document.createElement('button');\n",
              "        btn1.innerHTML = 'Me gusta: Local H';\n",
              "        btn1.onclick = function() {\n",
              "          google.colab.kernel.invokeFunction('notebook.callback', ['Me gusta', 'Local H'], {});\n",
              "        };\n",
              "\n",
              "        var btn2 = document.createElement('button');\n",
              "        btn2.innerHTML = 'No me gusta: Local H';\n",
              "        btn2.onclick = function() {\n",
              "          google.colab.kernel.invokeFunction('notebook.callback', ['No me gusta', 'Local H'], {});\n",
              "        };\n",
              "\n",
              "        div.appendChild(btn1);\n",
              "        div.appendChild(btn2);\n",
              "        document.body.appendChild(div);\n",
              "    "
            ]
          },
          "metadata": {}
        },
        {
          "output_type": "stream",
          "name": "stdout",
          "text": [
            "Has elegido: No me gusta para Local H\n",
            "Nuevo artista recomendado: Beatallica, score: 1\n"
          ]
        },
        {
          "output_type": "display_data",
          "data": {
            "text/plain": [
              "<IPython.core.display.Javascript object>"
            ],
            "application/javascript": [
              "\n",
              "        var div = document.createElement('div');\n",
              "        var btn1 = document.createElement('button');\n",
              "        btn1.innerHTML = 'Me gusta: Beatallica';\n",
              "        btn1.onclick = function() {\n",
              "          google.colab.kernel.invokeFunction('notebook.callback', ['Me gusta', 'Beatallica'], {});\n",
              "        };\n",
              "\n",
              "        var btn2 = document.createElement('button');\n",
              "        btn2.innerHTML = 'No me gusta: Beatallica';\n",
              "        btn2.onclick = function() {\n",
              "          google.colab.kernel.invokeFunction('notebook.callback', ['No me gusta', 'Beatallica'], {});\n",
              "        };\n",
              "\n",
              "        div.appendChild(btn1);\n",
              "        div.appendChild(btn2);\n",
              "        document.body.appendChild(div);\n",
              "    "
            ]
          },
          "metadata": {}
        },
        {
          "output_type": "stream",
          "name": "stdout",
          "text": [
            "Has elegido: No me gusta para Beatallica\n",
            "Nuevo artista recomendado: Braid, score: 1\n"
          ]
        },
        {
          "output_type": "display_data",
          "data": {
            "text/plain": [
              "<IPython.core.display.Javascript object>"
            ],
            "application/javascript": [
              "\n",
              "        var div = document.createElement('div');\n",
              "        var btn1 = document.createElement('button');\n",
              "        btn1.innerHTML = 'Me gusta: Braid';\n",
              "        btn1.onclick = function() {\n",
              "          google.colab.kernel.invokeFunction('notebook.callback', ['Me gusta', 'Braid'], {});\n",
              "        };\n",
              "\n",
              "        var btn2 = document.createElement('button');\n",
              "        btn2.innerHTML = 'No me gusta: Braid';\n",
              "        btn2.onclick = function() {\n",
              "          google.colab.kernel.invokeFunction('notebook.callback', ['No me gusta', 'Braid'], {});\n",
              "        };\n",
              "\n",
              "        div.appendChild(btn1);\n",
              "        div.appendChild(btn2);\n",
              "        document.body.appendChild(div);\n",
              "    "
            ]
          },
          "metadata": {}
        },
        {
          "output_type": "stream",
          "name": "stdout",
          "text": [
            "Has elegido: No me gusta para Braid\n",
            "Nuevo artista recomendado: Jeff Williams, score: 1.0435226444360297\n"
          ]
        },
        {
          "output_type": "display_data",
          "data": {
            "text/plain": [
              "<IPython.core.display.Javascript object>"
            ],
            "application/javascript": [
              "\n",
              "        var div = document.createElement('div');\n",
              "        var btn1 = document.createElement('button');\n",
              "        btn1.innerHTML = 'Me gusta: Jeff Williams';\n",
              "        btn1.onclick = function() {\n",
              "          google.colab.kernel.invokeFunction('notebook.callback', ['Me gusta', 'Jeff Williams'], {});\n",
              "        };\n",
              "\n",
              "        var btn2 = document.createElement('button');\n",
              "        btn2.innerHTML = 'No me gusta: Jeff Williams';\n",
              "        btn2.onclick = function() {\n",
              "          google.colab.kernel.invokeFunction('notebook.callback', ['No me gusta', 'Jeff Williams'], {});\n",
              "        };\n",
              "\n",
              "        div.appendChild(btn1);\n",
              "        div.appendChild(btn2);\n",
              "        document.body.appendChild(div);\n",
              "    "
            ]
          },
          "metadata": {}
        },
        {
          "output_type": "stream",
          "name": "stdout",
          "text": [
            "Has elegido: Me gusta para Jeff Williams\n",
            "Artista recomendado: Mariottide, score: 1.3574470581800961\n"
          ]
        },
        {
          "output_type": "display_data",
          "data": {
            "text/plain": [
              "<IPython.core.display.Javascript object>"
            ],
            "application/javascript": [
              "\n",
              "        var div = document.createElement('div');\n",
              "        var btn1 = document.createElement('button');\n",
              "        btn1.innerHTML = 'Me gusta: Mariottide';\n",
              "        btn1.onclick = function() {\n",
              "          google.colab.kernel.invokeFunction('notebook.callback', ['Me gusta', 'Mariottide'], {});\n",
              "        };\n",
              "\n",
              "        var btn2 = document.createElement('button');\n",
              "        btn2.innerHTML = 'No me gusta: Mariottide';\n",
              "        btn2.onclick = function() {\n",
              "          google.colab.kernel.invokeFunction('notebook.callback', ['No me gusta', 'Mariottide'], {});\n",
              "        };\n",
              "\n",
              "        div.appendChild(btn1);\n",
              "        div.appendChild(btn2);\n",
              "        document.body.appendChild(div);\n",
              "    "
            ]
          },
          "metadata": {}
        },
        {
          "output_type": "stream",
          "name": "stdout",
          "text": [
            "Has elegido: Me gusta para Mariottide\n",
            "Artista recomendado: Venus Hum, score: 1.35365525301915\n"
          ]
        },
        {
          "output_type": "display_data",
          "data": {
            "text/plain": [
              "<IPython.core.display.Javascript object>"
            ],
            "application/javascript": [
              "\n",
              "        var div = document.createElement('div');\n",
              "        var btn1 = document.createElement('button');\n",
              "        btn1.innerHTML = 'Me gusta: Venus Hum';\n",
              "        btn1.onclick = function() {\n",
              "          google.colab.kernel.invokeFunction('notebook.callback', ['Me gusta', 'Venus Hum'], {});\n",
              "        };\n",
              "\n",
              "        var btn2 = document.createElement('button');\n",
              "        btn2.innerHTML = 'No me gusta: Venus Hum';\n",
              "        btn2.onclick = function() {\n",
              "          google.colab.kernel.invokeFunction('notebook.callback', ['No me gusta', 'Venus Hum'], {});\n",
              "        };\n",
              "\n",
              "        div.appendChild(btn1);\n",
              "        div.appendChild(btn2);\n",
              "        document.body.appendChild(div);\n",
              "    "
            ]
          },
          "metadata": {}
        },
        {
          "output_type": "stream",
          "name": "stdout",
          "text": [
            "Has elegido: Me gusta para Venus Hum\n",
            "Artista recomendado: Big Mike, score: 1.3445945950459655\n"
          ]
        },
        {
          "output_type": "display_data",
          "data": {
            "text/plain": [
              "<IPython.core.display.Javascript object>"
            ],
            "application/javascript": [
              "\n",
              "        var div = document.createElement('div');\n",
              "        var btn1 = document.createElement('button');\n",
              "        btn1.innerHTML = 'Me gusta: Big Mike';\n",
              "        btn1.onclick = function() {\n",
              "          google.colab.kernel.invokeFunction('notebook.callback', ['Me gusta', 'Big Mike'], {});\n",
              "        };\n",
              "\n",
              "        var btn2 = document.createElement('button');\n",
              "        btn2.innerHTML = 'No me gusta: Big Mike';\n",
              "        btn2.onclick = function() {\n",
              "          google.colab.kernel.invokeFunction('notebook.callback', ['No me gusta', 'Big Mike'], {});\n",
              "        };\n",
              "\n",
              "        div.appendChild(btn1);\n",
              "        div.appendChild(btn2);\n",
              "        document.body.appendChild(div);\n",
              "    "
            ]
          },
          "metadata": {}
        },
        {
          "output_type": "stream",
          "name": "stdout",
          "text": [
            "Has elegido: Me gusta para Big Mike\n",
            "Artista recomendado: Frost, score: 1.3442864900742006\n"
          ]
        },
        {
          "output_type": "display_data",
          "data": {
            "text/plain": [
              "<IPython.core.display.Javascript object>"
            ],
            "application/javascript": [
              "\n",
              "        var div = document.createElement('div');\n",
              "        var btn1 = document.createElement('button');\n",
              "        btn1.innerHTML = 'Me gusta: Frost';\n",
              "        btn1.onclick = function() {\n",
              "          google.colab.kernel.invokeFunction('notebook.callback', ['Me gusta', 'Frost'], {});\n",
              "        };\n",
              "\n",
              "        var btn2 = document.createElement('button');\n",
              "        btn2.innerHTML = 'No me gusta: Frost';\n",
              "        btn2.onclick = function() {\n",
              "          google.colab.kernel.invokeFunction('notebook.callback', ['No me gusta', 'Frost'], {});\n",
              "        };\n",
              "\n",
              "        div.appendChild(btn1);\n",
              "        div.appendChild(btn2);\n",
              "        document.body.appendChild(div);\n",
              "    "
            ]
          },
          "metadata": {}
        },
        {
          "output_type": "stream",
          "name": "stdout",
          "text": [
            "Has elegido: Me gusta para Frost\n",
            "No hay más artistas en la lista de recomendaciones. Seleccionando un nuevo usuario.\n",
            "Nuevo usuario seleccionado. Artista recomendado: Мультfильмы, score: 1.284513593984831\n"
          ]
        },
        {
          "output_type": "display_data",
          "data": {
            "text/plain": [
              "<IPython.core.display.Javascript object>"
            ],
            "application/javascript": [
              "\n",
              "        var div = document.createElement('div');\n",
              "        var btn1 = document.createElement('button');\n",
              "        btn1.innerHTML = 'Me gusta: Мультfильмы';\n",
              "        btn1.onclick = function() {\n",
              "          google.colab.kernel.invokeFunction('notebook.callback', ['Me gusta', 'Мультfильмы'], {});\n",
              "        };\n",
              "\n",
              "        var btn2 = document.createElement('button');\n",
              "        btn2.innerHTML = 'No me gusta: Мультfильмы';\n",
              "        btn2.onclick = function() {\n",
              "          google.colab.kernel.invokeFunction('notebook.callback', ['No me gusta', 'Мультfильмы'], {});\n",
              "        };\n",
              "\n",
              "        div.appendChild(btn1);\n",
              "        div.appendChild(btn2);\n",
              "        document.body.appendChild(div);\n",
              "    "
            ]
          },
          "metadata": {}
        },
        {
          "output_type": "stream",
          "name": "stdout",
          "text": [
            "Has elegido: No me gusta para Мультfильмы\n",
            "Nuevo artista recomendado: Evanescence, score: 1\n"
          ]
        },
        {
          "output_type": "display_data",
          "data": {
            "text/plain": [
              "<IPython.core.display.Javascript object>"
            ],
            "application/javascript": [
              "\n",
              "        var div = document.createElement('div');\n",
              "        var btn1 = document.createElement('button');\n",
              "        btn1.innerHTML = 'Me gusta: Evanescence';\n",
              "        btn1.onclick = function() {\n",
              "          google.colab.kernel.invokeFunction('notebook.callback', ['Me gusta', 'Evanescence'], {});\n",
              "        };\n",
              "\n",
              "        var btn2 = document.createElement('button');\n",
              "        btn2.innerHTML = 'No me gusta: Evanescence';\n",
              "        btn2.onclick = function() {\n",
              "          google.colab.kernel.invokeFunction('notebook.callback', ['No me gusta', 'Evanescence'], {});\n",
              "        };\n",
              "\n",
              "        div.appendChild(btn1);\n",
              "        div.appendChild(btn2);\n",
              "        document.body.appendChild(div);\n",
              "    "
            ]
          },
          "metadata": {}
        },
        {
          "output_type": "stream",
          "name": "stdout",
          "text": [
            "Has elegido: Me gusta para Evanescence\n",
            "Te gustan los siguientes artistas:\n",
            "Jeff Williams\n",
            "Mariottide\n",
            "Venus Hum\n",
            "Big Mike\n",
            "Frost\n",
            "Evanescence\n"
          ]
        }
      ]
    },
    {
      "cell_type": "markdown",
      "source": [
        "### Versión 2"
      ],
      "metadata": {
        "id": "71FP4A64dNff"
      }
    },
    {
      "cell_type": "code",
      "source": [
        "import random\n",
        "from IPython.display import Javascript, display, HTML\n",
        "from google.colab.output import eval_js\n",
        "import pandas as pd\n",
        "import numpy as np\n",
        "from surprise import Dataset, Reader, SVD\n",
        "\n",
        "# Normalizar 'weight' a una escala de 1 a 5\n",
        "min_weight = df_user_artists['weight'].min()\n",
        "max_weight = df_user_artists['weight'].max()\n",
        "\n",
        "df_user_artists['rating'] = 1 + 4 * (df_user_artists['weight'] - min_weight) / (max_weight - min_weight)\n",
        "\n",
        "# Convertir el DataFrame en el formato esperado por Surprise\n",
        "reader = Reader(rating_scale=(1, 5))\n",
        "data = Dataset.load_from_df(df_user_artists[['userID', 'artistID', 'rating']], reader)\n",
        "\n",
        "# Entrenar el modelo con Surprise\n",
        "trainset = data.build_full_trainset()\n",
        "modelo_svd = SVD()\n",
        "modelo_svd.fit(trainset)\n",
        "\n",
        "# Función para obtener recomendaciones basadas en predicciones\n",
        "def get_top_artists_for_user(user_id, last_liked_artist_id=None, n=5):\n",
        "    # Obtener todos los artistas que el usuario no ha escuchado\n",
        "    unheard_artists = set(df_artists['id']) - set(df_user_artists[df_user_artists['userID'] == user_id]['artistID'])\n",
        "\n",
        "    # Predecir ratings para estos artistas usando el modelo de Surprise\n",
        "    predictions = [(artist_id, modelo_svd.predict(user_id, artist_id).est) for artist_id in unheard_artists]\n",
        "\n",
        "    # Si hay un artista que le gustó, filtrar por similitud\n",
        "    if last_liked_artist_id is not None:\n",
        "        # Filtrar los artistas que tengan un score más cercano al último artista que le gustó\n",
        "        similar_artists = [(artist_id, score) for artist_id, score in predictions if abs(score - modelo_svd.predict(user_id, last_liked_artist_id).est) < 0.1]\n",
        "        predictions = similar_artists if similar_artists else predictions  # Si no hay similares, usar todos\n",
        "\n",
        "    # Ordenar por rating predicho y devolver los top n\n",
        "    return sorted(predictions, key=lambda x: x[1], reverse=True)[:n]\n",
        "\n",
        "# Inicializar lista de artistas recomendados para un usuario aleatorio\n",
        "def inicializar_recomendaciones():\n",
        "    global user_id, recommended_artists, current_index, last_liked_artist_id\n",
        "    user_id = random.choice(df_user_artists['userID'].unique())  # Seleccionar un usuario al azar\n",
        "    recommended_artists = get_top_artists_for_user(user_id)\n",
        "    current_index = 0\n",
        "    last_liked_artist_id = None  # Reiniciar el último artista que le gustó\n",
        "\n",
        "inicializar_recomendaciones()  # Generar la primera recomendación\n",
        "\n",
        "liked_artists = []  # Lista para almacenar artistas que le gustan\n",
        "like_count = 0  # Contador de \"me gusta\"\n",
        "\n",
        "def create_buttons(artist_name):\n",
        "    artist_name_escaped = artist_name.replace(\"'\", \"\\\\'\").replace('\"', '\\\\\"')  # Escapar caracteres\n",
        "    display(Javascript(f'''\n",
        "        var div = document.createElement('div');\n",
        "        var btn1 = document.createElement('button');\n",
        "        btn1.innerHTML = 'Me gusta: {artist_name_escaped}';\n",
        "        btn1.onclick = function() {{\n",
        "          google.colab.kernel.invokeFunction('notebook.callback', ['Me gusta', '{artist_name_escaped}'], {{}});\n",
        "        }};\n",
        "\n",
        "        var btn2 = document.createElement('button');\n",
        "        btn2.innerHTML = 'No me gusta: {artist_name_escaped}';\n",
        "        btn2.onclick = function() {{\n",
        "          google.colab.kernel.invokeFunction('notebook.callback', ['No me gusta', '{artist_name_escaped}'], {{}});\n",
        "        }};\n",
        "\n",
        "        div.appendChild(btn1);\n",
        "        div.appendChild(btn2);\n",
        "        document.body.appendChild(div);\n",
        "    '''))\n",
        "\n",
        "def handle_choice(choice, artist_name):\n",
        "    global user_id, recommended_artists, current_index, last_liked_artist_id, liked_artists, like_count\n",
        "\n",
        "    print(f'Has elegido: {choice} para {artist_name}')\n",
        "\n",
        "    if choice == 'Me gusta':\n",
        "        last_liked_artist_id = df_artists[df_artists['name'] == artist_name]['id'].values[0]  # Guardar el último artista que le gustó\n",
        "        liked_artists.append(artist_name)  # Agregar el artista a la lista de artistas que le gustan\n",
        "        like_count += 1  # Incrementar el contador de \"me gusta\"\n",
        "\n",
        "        # Verificar si ha alcanzado 6 \"me gusta\"\n",
        "        if like_count >= 6:\n",
        "            # Mostrar mensaje final en rojo\n",
        "            final_message = \"<h2 style='color: red;'>Te gustan los siguientes artistas:</h2><ul>\"\n",
        "            final_message += ''.join(f\"<li style='color: red;'>{artist}</li>\" for artist in liked_artists)\n",
        "            final_message += \"</ul>\"\n",
        "            display(HTML(final_message))\n",
        "            return  # Termina el programa\n",
        "\n",
        "        current_index += 1\n",
        "        if current_index < len(recommended_artists):\n",
        "            next_artist_id, next_score = recommended_artists[current_index]\n",
        "            next_artist_name = df_artists[df_artists['id'] == next_artist_id]['name'].values[0]\n",
        "            print(f\"Artista recomendado: {next_artist_name}, score: {next_score}\")\n",
        "            create_buttons(next_artist_name)\n",
        "        else:\n",
        "            print(\"No hay más artistas en la lista de recomendaciones. Seleccionando un nuevo usuario.\")\n",
        "            inicializar_recomendaciones()\n",
        "            next_artist_id, next_score = recommended_artists[current_index]\n",
        "            next_artist_name = df_artists[df_artists['id'] == next_artist_id]['name'].values[0]\n",
        "            print(f\"Nuevo usuario seleccionado. Artista recomendado: {next_artist_name}, score: {next_score}\")\n",
        "            create_buttons(next_artist_name)\n",
        "    else:\n",
        "        # Seleccionar un nuevo artista si elige 'No me gusta'\n",
        "        unheard_artists = set(df_artists['id']) - set(df_user_artists[df_user_artists['userID'] == user_id]['artistID'])\n",
        "        next_artist_id = random.choice(list(unheard_artists))\n",
        "        next_artist_name = df_artists[df_artists['id'] == next_artist_id]['name'].values[0]\n",
        "        next_score = modelo_svd.predict(user_id, next_artist_id).est\n",
        "        print(f\"Nuevo artista recomendado: {next_artist_name}, score: {next_score}\")\n",
        "        create_buttons(next_artist_name)\n",
        "\n",
        "# Registrar la función en Google Colab\n",
        "from google.colab import output\n",
        "output.register_callback('notebook.callback', handle_choice)\n",
        "\n",
        "# Mostrar el primer artista recomendado\n",
        "first_artist_id, first_score = recommended_artists[current_index]\n",
        "first_artist_name = df_artists[df_artists['id'] == first_artist_id]['name'].values[0]\n",
        "print(f\"Artista recomendado: {first_artist_name}, score: {first_score}\")\n",
        "create_buttons(first_artist_name)\n"
      ],
      "metadata": {
        "colab": {
          "base_uri": "https://localhost:8080/",
          "height": 538
        },
        "id": "jNWwMD-Kc9i5",
        "outputId": "809984a4-eedf-4f0d-a8c8-784377ba4479"
      },
      "execution_count": 31,
      "outputs": [
        {
          "output_type": "stream",
          "name": "stdout",
          "text": [
            "Artista recomendado: AirFare, score: 1.3048191383346852\n"
          ]
        },
        {
          "output_type": "display_data",
          "data": {
            "text/plain": [
              "<IPython.core.display.Javascript object>"
            ],
            "application/javascript": [
              "\n",
              "        var div = document.createElement('div');\n",
              "        var btn1 = document.createElement('button');\n",
              "        btn1.innerHTML = 'Me gusta: AirFare';\n",
              "        btn1.onclick = function() {\n",
              "          google.colab.kernel.invokeFunction('notebook.callback', ['Me gusta', 'AirFare'], {});\n",
              "        };\n",
              "\n",
              "        var btn2 = document.createElement('button');\n",
              "        btn2.innerHTML = 'No me gusta: AirFare';\n",
              "        btn2.onclick = function() {\n",
              "          google.colab.kernel.invokeFunction('notebook.callback', ['No me gusta', 'AirFare'], {});\n",
              "        };\n",
              "\n",
              "        div.appendChild(btn1);\n",
              "        div.appendChild(btn2);\n",
              "        document.body.appendChild(div);\n",
              "    "
            ]
          },
          "metadata": {}
        },
        {
          "output_type": "stream",
          "name": "stdout",
          "text": [
            "Has elegido: Me gusta para AirFare\n",
            "Artista recomendado: Thomas Godoj, score: 1.2993083535309324\n"
          ]
        },
        {
          "output_type": "display_data",
          "data": {
            "text/plain": [
              "<IPython.core.display.Javascript object>"
            ],
            "application/javascript": [
              "\n",
              "        var div = document.createElement('div');\n",
              "        var btn1 = document.createElement('button');\n",
              "        btn1.innerHTML = 'Me gusta: Thomas Godoj';\n",
              "        btn1.onclick = function() {\n",
              "          google.colab.kernel.invokeFunction('notebook.callback', ['Me gusta', 'Thomas Godoj'], {});\n",
              "        };\n",
              "\n",
              "        var btn2 = document.createElement('button');\n",
              "        btn2.innerHTML = 'No me gusta: Thomas Godoj';\n",
              "        btn2.onclick = function() {\n",
              "          google.colab.kernel.invokeFunction('notebook.callback', ['No me gusta', 'Thomas Godoj'], {});\n",
              "        };\n",
              "\n",
              "        div.appendChild(btn1);\n",
              "        div.appendChild(btn2);\n",
              "        document.body.appendChild(div);\n",
              "    "
            ]
          },
          "metadata": {}
        },
        {
          "output_type": "stream",
          "name": "stdout",
          "text": [
            "Has elegido: Me gusta para Thomas Godoj\n",
            "Artista recomendado: KSU, score: 1.2841511043834346\n"
          ]
        },
        {
          "output_type": "display_data",
          "data": {
            "text/plain": [
              "<IPython.core.display.Javascript object>"
            ],
            "application/javascript": [
              "\n",
              "        var div = document.createElement('div');\n",
              "        var btn1 = document.createElement('button');\n",
              "        btn1.innerHTML = 'Me gusta: KSU';\n",
              "        btn1.onclick = function() {\n",
              "          google.colab.kernel.invokeFunction('notebook.callback', ['Me gusta', 'KSU'], {});\n",
              "        };\n",
              "\n",
              "        var btn2 = document.createElement('button');\n",
              "        btn2.innerHTML = 'No me gusta: KSU';\n",
              "        btn2.onclick = function() {\n",
              "          google.colab.kernel.invokeFunction('notebook.callback', ['No me gusta', 'KSU'], {});\n",
              "        };\n",
              "\n",
              "        div.appendChild(btn1);\n",
              "        div.appendChild(btn2);\n",
              "        document.body.appendChild(div);\n",
              "    "
            ]
          },
          "metadata": {}
        },
        {
          "output_type": "stream",
          "name": "stdout",
          "text": [
            "Has elegido: Me gusta para KSU\n",
            "Artista recomendado: Nina Simone, score: 1.282563456749207\n"
          ]
        },
        {
          "output_type": "display_data",
          "data": {
            "text/plain": [
              "<IPython.core.display.Javascript object>"
            ],
            "application/javascript": [
              "\n",
              "        var div = document.createElement('div');\n",
              "        var btn1 = document.createElement('button');\n",
              "        btn1.innerHTML = 'Me gusta: Nina Simone';\n",
              "        btn1.onclick = function() {\n",
              "          google.colab.kernel.invokeFunction('notebook.callback', ['Me gusta', 'Nina Simone'], {});\n",
              "        };\n",
              "\n",
              "        var btn2 = document.createElement('button');\n",
              "        btn2.innerHTML = 'No me gusta: Nina Simone';\n",
              "        btn2.onclick = function() {\n",
              "          google.colab.kernel.invokeFunction('notebook.callback', ['No me gusta', 'Nina Simone'], {});\n",
              "        };\n",
              "\n",
              "        div.appendChild(btn1);\n",
              "        div.appendChild(btn2);\n",
              "        document.body.appendChild(div);\n",
              "    "
            ]
          },
          "metadata": {}
        },
        {
          "output_type": "stream",
          "name": "stdout",
          "text": [
            "Has elegido: Me gusta para Nina Simone\n",
            "Artista recomendado: Lokua Kanza, score: 1.278412882756935\n"
          ]
        },
        {
          "output_type": "display_data",
          "data": {
            "text/plain": [
              "<IPython.core.display.Javascript object>"
            ],
            "application/javascript": [
              "\n",
              "        var div = document.createElement('div');\n",
              "        var btn1 = document.createElement('button');\n",
              "        btn1.innerHTML = 'Me gusta: Lokua Kanza';\n",
              "        btn1.onclick = function() {\n",
              "          google.colab.kernel.invokeFunction('notebook.callback', ['Me gusta', 'Lokua Kanza'], {});\n",
              "        };\n",
              "\n",
              "        var btn2 = document.createElement('button');\n",
              "        btn2.innerHTML = 'No me gusta: Lokua Kanza';\n",
              "        btn2.onclick = function() {\n",
              "          google.colab.kernel.invokeFunction('notebook.callback', ['No me gusta', 'Lokua Kanza'], {});\n",
              "        };\n",
              "\n",
              "        div.appendChild(btn1);\n",
              "        div.appendChild(btn2);\n",
              "        document.body.appendChild(div);\n",
              "    "
            ]
          },
          "metadata": {}
        },
        {
          "output_type": "stream",
          "name": "stdout",
          "text": [
            "Has elegido: Me gusta para Lokua Kanza\n",
            "No hay más artistas en la lista de recomendaciones. Seleccionando un nuevo usuario.\n",
            "Nuevo usuario seleccionado. Artista recomendado: Billy Crystal Meth, score: 1.3130230893722252\n"
          ]
        },
        {
          "output_type": "display_data",
          "data": {
            "text/plain": [
              "<IPython.core.display.Javascript object>"
            ],
            "application/javascript": [
              "\n",
              "        var div = document.createElement('div');\n",
              "        var btn1 = document.createElement('button');\n",
              "        btn1.innerHTML = 'Me gusta: Billy Crystal Meth';\n",
              "        btn1.onclick = function() {\n",
              "          google.colab.kernel.invokeFunction('notebook.callback', ['Me gusta', 'Billy Crystal Meth'], {});\n",
              "        };\n",
              "\n",
              "        var btn2 = document.createElement('button');\n",
              "        btn2.innerHTML = 'No me gusta: Billy Crystal Meth';\n",
              "        btn2.onclick = function() {\n",
              "          google.colab.kernel.invokeFunction('notebook.callback', ['No me gusta', 'Billy Crystal Meth'], {});\n",
              "        };\n",
              "\n",
              "        div.appendChild(btn1);\n",
              "        div.appendChild(btn2);\n",
              "        document.body.appendChild(div);\n",
              "    "
            ]
          },
          "metadata": {}
        },
        {
          "output_type": "stream",
          "name": "stdout",
          "text": [
            "Has elegido: Me gusta para Billy Crystal Meth\n"
          ]
        },
        {
          "output_type": "display_data",
          "data": {
            "text/plain": [
              "<IPython.core.display.HTML object>"
            ],
            "text/html": [
              "<h2 style='color: red;'>Te gustan los siguientes artistas:</h2><ul><li style='color: red;'>AirFare</li><li style='color: red;'>Thomas Godoj</li><li style='color: red;'>KSU</li><li style='color: red;'>Nina Simone</li><li style='color: red;'>Lokua Kanza</li><li style='color: red;'>Billy Crystal Meth</li></ul>"
            ]
          },
          "metadata": {}
        }
      ]
    },
    {
      "cell_type": "markdown",
      "source": [
        "### Versión 3"
      ],
      "metadata": {
        "id": "9lAMv2WXdPES"
      }
    },
    {
      "cell_type": "markdown",
      "source": [
        "#### DataFrame para versión 3"
      ],
      "metadata": {
        "id": "Xug-mTpOZu4M"
      }
    },
    {
      "cell_type": "code",
      "source": [
        "# Crear nuevo df merge df_artists (id) y df_user_taggedartists (artistID)\n",
        "new_artists_user_taggedartists = pd.merge(df_artists, df_user_taggedartists, left_on='id', right_on='artistID')\n",
        "\n",
        "# Eliminar variables no útiles para el programa\n",
        "new_artists_user_taggedartists = new_artists_user_taggedartists.drop(columns=['id', 'pictureURL', 'userID', 'day', 'month', 'year'])\n",
        "\n",
        "# Eliminar en new_artists_user_taggedartists los artistID repetidos\n",
        "new_artists_user_taggedartists = new_artists_user_taggedartists.drop_duplicates(subset=['artistID'])\n",
        "\n",
        "# merge new_artists_user_taggedartists (artistID) con df_tags (tagValue)\n",
        "new_artists_user_taggedartists = pd.merge(new_artists_user_taggedartists, df_tags, left_on='tagID', right_on='tagID')"
      ],
      "metadata": {
        "id": "GMUKG18ZZYAz"
      },
      "execution_count": 32,
      "outputs": []
    },
    {
      "cell_type": "code",
      "source": [
        "import random\n",
        "from IPython.display import Javascript, display, HTML\n",
        "from google.colab.output import eval_js\n",
        "import pandas as pd\n",
        "import numpy as np\n",
        "from surprise import Dataset, Reader, SVD\n",
        "\n",
        "# Asumimos que df_user_artists, df_artists y new_artists_user_taggedartists ya están cargados\n",
        "\n",
        "# Normalizar 'weight' a una escala de 1 a 5\n",
        "min_weight = df_user_artists['weight'].min()\n",
        "max_weight = df_user_artists['weight'].max()\n",
        "\n",
        "df_user_artists['rating'] = 1 + 4 * (df_user_artists['weight'] - min_weight) / (max_weight - min_weight)\n",
        "\n",
        "# Convertir el DataFrame en el formato esperado por Surprise\n",
        "reader = Reader(rating_scale=(1, 5))\n",
        "data = Dataset.load_from_df(df_user_artists[['userID', 'artistID', 'rating']], reader)\n",
        "\n",
        "# Entrenar el modelo con Surprise\n",
        "trainset = data.build_full_trainset()\n",
        "modelo_svd = SVD()\n",
        "modelo_svd.fit(trainset)\n",
        "\n",
        "# Función para obtener recomendaciones basadas en predicciones\n",
        "def get_top_artists_for_user(user_id, last_liked_artist_id=None, n=5):\n",
        "    # Obtener todos los artistas que el usuario no ha escuchado\n",
        "    unheard_artists = set(df_artists['id']) - set(df_user_artists[df_user_artists['userID'] == user_id]['artistID'])\n",
        "\n",
        "    # Predecir ratings para estos artistas usando el modelo de Surprise\n",
        "    predictions = [(artist_id, modelo_svd.predict(user_id, artist_id).est) for artist_id in unheard_artists]\n",
        "\n",
        "    # Si hay un artista que le gustó, filtrar por similitud\n",
        "    if last_liked_artist_id is not None:\n",
        "        # Filtrar los artistas que tengan un score más cercano al último artista que le gustó\n",
        "        similar_artists = [(artist_id, score) for artist_id, score in predictions if abs(score - modelo_svd.predict(user_id, last_liked_artist_id).est) < 0.1]\n",
        "        predictions = similar_artists if similar_artists else predictions  # Si no hay similares, usar todos\n",
        "\n",
        "    # Ordenar por rating predicho y devolver los top n\n",
        "    return sorted(predictions, key=lambda x: x[1], reverse=True)[:n]\n",
        "\n",
        "# Inicializar lista de artistas recomendados para un usuario aleatorio\n",
        "def inicializar_recomendaciones():\n",
        "    global user_id, recommended_artists, current_index, last_liked_artist_id\n",
        "    user_id = random.choice(df_user_artists['userID'].unique())  # Seleccionar un usuario al azar\n",
        "    recommended_artists = get_top_artists_for_user(user_id)\n",
        "    current_index = 0\n",
        "    last_liked_artist_id = None  # Reiniciar el último artista que le gustó\n",
        "\n",
        "inicializar_recomendaciones()  # Generar la primera recomendación\n",
        "\n",
        "liked_artists = []  # Lista para almacenar artistas que le gustan\n",
        "like_count = 0  # Contador de \"me gusta\"\n",
        "\n",
        "def create_buttons(artist_name):\n",
        "    artist_name_escaped = artist_name.replace(\"'\", \"\\\\'\").replace('\"', '\\\\\"')  # Escapar caracteres\n",
        "    display(Javascript(f'''\n",
        "        var div = document.createElement('div');\n",
        "        var btn1 = document.createElement('button');\n",
        "        btn1.innerHTML = 'Me gusta: {artist_name_escaped}';\n",
        "        btn1.onclick = function() {{\n",
        "          google.colab.kernel.invokeFunction('notebook.callback', ['Me gusta', '{artist_name_escaped}'], {{}});\n",
        "        }};\n",
        "\n",
        "        var btn2 = document.createElement('button');\n",
        "        btn2.innerHTML = 'No me gusta: {artist_name_escaped}';\n",
        "        btn2.onclick = function() {{\n",
        "          google.colab.kernel.invokeFunction('notebook.callback', ['No me gusta', '{artist_name_escaped}'], {{}});\n",
        "        }};\n",
        "\n",
        "        div.appendChild(btn1);\n",
        "        div.appendChild(btn2);\n",
        "        document.body.appendChild(div);\n",
        "    '''))\n",
        "\n",
        "def handle_choice(choice, artist_name):\n",
        "    global user_id, recommended_artists, current_index, last_liked_artist_id, liked_artists, like_count\n",
        "\n",
        "    print(f'Has elegido: {choice} para {artist_name}')\n",
        "\n",
        "    if choice == 'Me gusta':\n",
        "        # Obtener el ID del artista\n",
        "        artist_id = df_artists[df_artists['name'] == artist_name]['id'].values[0]\n",
        "\n",
        "        # Intentar obtener el tagValue, si existe\n",
        "        tag_value = \"Desconocido\"\n",
        "        if artist_id in new_artists_user_taggedartists['artistID'].values:\n",
        "            tag_value = new_artists_user_taggedartists[new_artists_user_taggedartists['artistID'] == artist_id]['tagValue'].values[0]\n",
        "\n",
        "        # Guardar el último artista que le gustó y su etiqueta\n",
        "        last_liked_artist_id = artist_id\n",
        "        liked_artists.append((artist_name, tag_value))  # Guardar artista y etiqueta como una tupla\n",
        "        like_count += 1  # Incrementar el contador de \"me gusta\"\n",
        "\n",
        "        # Verificar si ha alcanzado 6 \"me gusta\"\n",
        "        if like_count >= 6:\n",
        "            # Crear el mensaje final con los artistas y sus etiquetas\n",
        "            final_message = \"<h2 style='color: red;'>Te gustan los siguientes artistas:</h2><ul>\"\n",
        "            final_message += ''.join(f\"<li style='color: red;'>{artist[0]} - {artist[1]}</li>\" for artist in liked_artists)\n",
        "            final_message += \"</ul>\"\n",
        "\n",
        "            # Contar la frecuencia de los tags para sugerir el estilo preferido\n",
        "            tag_frequencies = pd.Series([artist[1] for artist in liked_artists if artist[1] != \"Desconocido\"]).value_counts()\n",
        "            if not tag_frequencies.empty:\n",
        "                favorite_tag = tag_frequencies.idxmax()\n",
        "                final_message += f\"<h3 style='color: yellow;'>Tu estilo de música preferido es: {favorite_tag}</h3>\"\n",
        "            else:\n",
        "                final_message += \"<h3>No se pudo determinar un estilo de música preferido</h3>\"\n",
        "\n",
        "            display(HTML(final_message))\n",
        "            return  # Termina el programa\n",
        "\n",
        "        current_index += 1\n",
        "        if current_index < len(recommended_artists):\n",
        "            next_artist_id, next_score = recommended_artists[current_index]\n",
        "            next_artist_name = df_artists[df_artists['id'] == next_artist_id]['name'].values[0]\n",
        "            print(f\"Artista recomendado: {next_artist_name}, score: {next_score}\")\n",
        "            create_buttons(next_artist_name)\n",
        "        else:\n",
        "            print(\"No hay más artistas en la lista de recomendaciones. Seleccionando un nuevo usuario.\")\n",
        "            inicializar_recomendaciones()\n",
        "            next_artist_id, next_score = recommended_artists[current_index]\n",
        "            next_artist_name = df_artists[df_artists['id'] == next_artist_id]['name'].values[0]\n",
        "            print(f\"Nuevo usuario seleccionado. Artista recomendado: {next_artist_name}, score: {next_score}\")\n",
        "            create_buttons(next_artist_name)\n",
        "    else:\n",
        "        # Seleccionar un nuevo artista si elige 'No me gusta'\n",
        "        unheard_artists = set(df_artists['id']) - set(df_user_artists[df_user_artists['userID'] == user_id]['artistID'])\n",
        "        next_artist_id = random.choice(list(unheard_artists))\n",
        "        next_artist_name = df_artists[df_artists['id'] == next_artist_id]['name'].values[0]\n",
        "        next_score = modelo_svd.predict(user_id, next_artist_id).est\n",
        "        print(f\"Nuevo artista recomendado: {next_artist_name}, score: {next_score}\")\n",
        "        create_buttons(next_artist_name)\n",
        "\n",
        "# Registrar la función en Google Colab\n",
        "from google.colab import output\n",
        "output.register_callback('notebook.callback', handle_choice)\n",
        "\n",
        "# Mostrar el primer artista recomendado\n",
        "first_artist_id, first_score = recommended_artists[current_index]\n",
        "first_artist_name = df_artists[df_artists['id'] == first_artist_id]['name'].values[0]\n",
        "print(f\"Artista recomendado: {first_artist_name}, score: {first_score}\")\n",
        "create_buttons(first_artist_name)"
      ],
      "metadata": {
        "colab": {
          "base_uri": "https://localhost:8080/",
          "height": 1000
        },
        "id": "alpr9EjfbXDy",
        "outputId": "69af4aed-948d-4b81-d65e-eddfbc3abaa8"
      },
      "execution_count": 33,
      "outputs": [
        {
          "output_type": "stream",
          "name": "stdout",
          "text": [
            "Artista recomendado: LAREINE, score: 1.3808486882266593\n"
          ]
        },
        {
          "output_type": "display_data",
          "data": {
            "text/plain": [
              "<IPython.core.display.Javascript object>"
            ],
            "application/javascript": [
              "\n",
              "        var div = document.createElement('div');\n",
              "        var btn1 = document.createElement('button');\n",
              "        btn1.innerHTML = 'Me gusta: LAREINE';\n",
              "        btn1.onclick = function() {\n",
              "          google.colab.kernel.invokeFunction('notebook.callback', ['Me gusta', 'LAREINE'], {});\n",
              "        };\n",
              "\n",
              "        var btn2 = document.createElement('button');\n",
              "        btn2.innerHTML = 'No me gusta: LAREINE';\n",
              "        btn2.onclick = function() {\n",
              "          google.colab.kernel.invokeFunction('notebook.callback', ['No me gusta', 'LAREINE'], {});\n",
              "        };\n",
              "\n",
              "        div.appendChild(btn1);\n",
              "        div.appendChild(btn2);\n",
              "        document.body.appendChild(div);\n",
              "    "
            ]
          },
          "metadata": {}
        },
        {
          "output_type": "stream",
          "name": "stdout",
          "text": [
            "Has elegido: No me gusta para LAREINE\n",
            "Nuevo artista recomendado: Xavier Baumaxa, score: 1.1936162842018185\n"
          ]
        },
        {
          "output_type": "display_data",
          "data": {
            "text/plain": [
              "<IPython.core.display.Javascript object>"
            ],
            "application/javascript": [
              "\n",
              "        var div = document.createElement('div');\n",
              "        var btn1 = document.createElement('button');\n",
              "        btn1.innerHTML = 'Me gusta: Xavier Baumaxa';\n",
              "        btn1.onclick = function() {\n",
              "          google.colab.kernel.invokeFunction('notebook.callback', ['Me gusta', 'Xavier Baumaxa'], {});\n",
              "        };\n",
              "\n",
              "        var btn2 = document.createElement('button');\n",
              "        btn2.innerHTML = 'No me gusta: Xavier Baumaxa';\n",
              "        btn2.onclick = function() {\n",
              "          google.colab.kernel.invokeFunction('notebook.callback', ['No me gusta', 'Xavier Baumaxa'], {});\n",
              "        };\n",
              "\n",
              "        div.appendChild(btn1);\n",
              "        div.appendChild(btn2);\n",
              "        document.body.appendChild(div);\n",
              "    "
            ]
          },
          "metadata": {}
        },
        {
          "output_type": "stream",
          "name": "stdout",
          "text": [
            "Has elegido: No me gusta para Xavier Baumaxa\n",
            "Nuevo artista recomendado: Boban Marković Orkestar, score: 1.0495974677118025\n"
          ]
        },
        {
          "output_type": "display_data",
          "data": {
            "text/plain": [
              "<IPython.core.display.Javascript object>"
            ],
            "application/javascript": [
              "\n",
              "        var div = document.createElement('div');\n",
              "        var btn1 = document.createElement('button');\n",
              "        btn1.innerHTML = 'Me gusta: Boban Marković Orkestar';\n",
              "        btn1.onclick = function() {\n",
              "          google.colab.kernel.invokeFunction('notebook.callback', ['Me gusta', 'Boban Marković Orkestar'], {});\n",
              "        };\n",
              "\n",
              "        var btn2 = document.createElement('button');\n",
              "        btn2.innerHTML = 'No me gusta: Boban Marković Orkestar';\n",
              "        btn2.onclick = function() {\n",
              "          google.colab.kernel.invokeFunction('notebook.callback', ['No me gusta', 'Boban Marković Orkestar'], {});\n",
              "        };\n",
              "\n",
              "        div.appendChild(btn1);\n",
              "        div.appendChild(btn2);\n",
              "        document.body.appendChild(div);\n",
              "    "
            ]
          },
          "metadata": {}
        },
        {
          "output_type": "stream",
          "name": "stdout",
          "text": [
            "Has elegido: No me gusta para Boban Marković Orkestar\n",
            "Nuevo artista recomendado: Lori Meyers, score: 1.035813164838491\n"
          ]
        },
        {
          "output_type": "display_data",
          "data": {
            "text/plain": [
              "<IPython.core.display.Javascript object>"
            ],
            "application/javascript": [
              "\n",
              "        var div = document.createElement('div');\n",
              "        var btn1 = document.createElement('button');\n",
              "        btn1.innerHTML = 'Me gusta: Lori Meyers';\n",
              "        btn1.onclick = function() {\n",
              "          google.colab.kernel.invokeFunction('notebook.callback', ['Me gusta', 'Lori Meyers'], {});\n",
              "        };\n",
              "\n",
              "        var btn2 = document.createElement('button');\n",
              "        btn2.innerHTML = 'No me gusta: Lori Meyers';\n",
              "        btn2.onclick = function() {\n",
              "          google.colab.kernel.invokeFunction('notebook.callback', ['No me gusta', 'Lori Meyers'], {});\n",
              "        };\n",
              "\n",
              "        div.appendChild(btn1);\n",
              "        div.appendChild(btn2);\n",
              "        document.body.appendChild(div);\n",
              "    "
            ]
          },
          "metadata": {}
        },
        {
          "output_type": "stream",
          "name": "stdout",
          "text": [
            "Has elegido: No me gusta para Lori Meyers\n",
            "Nuevo artista recomendado: Cowboy Junkies, score: 1\n"
          ]
        },
        {
          "output_type": "display_data",
          "data": {
            "text/plain": [
              "<IPython.core.display.Javascript object>"
            ],
            "application/javascript": [
              "\n",
              "        var div = document.createElement('div');\n",
              "        var btn1 = document.createElement('button');\n",
              "        btn1.innerHTML = 'Me gusta: Cowboy Junkies';\n",
              "        btn1.onclick = function() {\n",
              "          google.colab.kernel.invokeFunction('notebook.callback', ['Me gusta', 'Cowboy Junkies'], {});\n",
              "        };\n",
              "\n",
              "        var btn2 = document.createElement('button');\n",
              "        btn2.innerHTML = 'No me gusta: Cowboy Junkies';\n",
              "        btn2.onclick = function() {\n",
              "          google.colab.kernel.invokeFunction('notebook.callback', ['No me gusta', 'Cowboy Junkies'], {});\n",
              "        };\n",
              "\n",
              "        div.appendChild(btn1);\n",
              "        div.appendChild(btn2);\n",
              "        document.body.appendChild(div);\n",
              "    "
            ]
          },
          "metadata": {}
        },
        {
          "output_type": "stream",
          "name": "stdout",
          "text": [
            "Has elegido: No me gusta para Cowboy Junkies\n",
            "Nuevo artista recomendado: 串田アキラ, score: 1.1185701872785918\n"
          ]
        },
        {
          "output_type": "display_data",
          "data": {
            "text/plain": [
              "<IPython.core.display.Javascript object>"
            ],
            "application/javascript": [
              "\n",
              "        var div = document.createElement('div');\n",
              "        var btn1 = document.createElement('button');\n",
              "        btn1.innerHTML = 'Me gusta: 串田アキラ';\n",
              "        btn1.onclick = function() {\n",
              "          google.colab.kernel.invokeFunction('notebook.callback', ['Me gusta', '串田アキラ'], {});\n",
              "        };\n",
              "\n",
              "        var btn2 = document.createElement('button');\n",
              "        btn2.innerHTML = 'No me gusta: 串田アキラ';\n",
              "        btn2.onclick = function() {\n",
              "          google.colab.kernel.invokeFunction('notebook.callback', ['No me gusta', '串田アキラ'], {});\n",
              "        };\n",
              "\n",
              "        div.appendChild(btn1);\n",
              "        div.appendChild(btn2);\n",
              "        document.body.appendChild(div);\n",
              "    "
            ]
          },
          "metadata": {}
        },
        {
          "output_type": "stream",
          "name": "stdout",
          "text": [
            "Has elegido: No me gusta para 串田アキラ\n",
            "Nuevo artista recomendado: Eyedea & Abilities, score: 1\n"
          ]
        },
        {
          "output_type": "display_data",
          "data": {
            "text/plain": [
              "<IPython.core.display.Javascript object>"
            ],
            "application/javascript": [
              "\n",
              "        var div = document.createElement('div');\n",
              "        var btn1 = document.createElement('button');\n",
              "        btn1.innerHTML = 'Me gusta: Eyedea & Abilities';\n",
              "        btn1.onclick = function() {\n",
              "          google.colab.kernel.invokeFunction('notebook.callback', ['Me gusta', 'Eyedea & Abilities'], {});\n",
              "        };\n",
              "\n",
              "        var btn2 = document.createElement('button');\n",
              "        btn2.innerHTML = 'No me gusta: Eyedea & Abilities';\n",
              "        btn2.onclick = function() {\n",
              "          google.colab.kernel.invokeFunction('notebook.callback', ['No me gusta', 'Eyedea & Abilities'], {});\n",
              "        };\n",
              "\n",
              "        div.appendChild(btn1);\n",
              "        div.appendChild(btn2);\n",
              "        document.body.appendChild(div);\n",
              "    "
            ]
          },
          "metadata": {}
        },
        {
          "output_type": "stream",
          "name": "stdout",
          "text": [
            "Has elegido: No me gusta para Eyedea & Abilities\n",
            "Nuevo artista recomendado: iron jesus (featuring jahlili), score: 1\n"
          ]
        },
        {
          "output_type": "display_data",
          "data": {
            "text/plain": [
              "<IPython.core.display.Javascript object>"
            ],
            "application/javascript": [
              "\n",
              "        var div = document.createElement('div');\n",
              "        var btn1 = document.createElement('button');\n",
              "        btn1.innerHTML = 'Me gusta: iron jesus (featuring jahlili)';\n",
              "        btn1.onclick = function() {\n",
              "          google.colab.kernel.invokeFunction('notebook.callback', ['Me gusta', 'iron jesus (featuring jahlili)'], {});\n",
              "        };\n",
              "\n",
              "        var btn2 = document.createElement('button');\n",
              "        btn2.innerHTML = 'No me gusta: iron jesus (featuring jahlili)';\n",
              "        btn2.onclick = function() {\n",
              "          google.colab.kernel.invokeFunction('notebook.callback', ['No me gusta', 'iron jesus (featuring jahlili)'], {});\n",
              "        };\n",
              "\n",
              "        div.appendChild(btn1);\n",
              "        div.appendChild(btn2);\n",
              "        document.body.appendChild(div);\n",
              "    "
            ]
          },
          "metadata": {}
        },
        {
          "output_type": "stream",
          "name": "stdout",
          "text": [
            "Has elegido: No me gusta para iron jesus (featuring jahlili)\n",
            "Nuevo artista recomendado: The Mothers of Invention, score: 1\n"
          ]
        },
        {
          "output_type": "display_data",
          "data": {
            "text/plain": [
              "<IPython.core.display.Javascript object>"
            ],
            "application/javascript": [
              "\n",
              "        var div = document.createElement('div');\n",
              "        var btn1 = document.createElement('button');\n",
              "        btn1.innerHTML = 'Me gusta: The Mothers of Invention';\n",
              "        btn1.onclick = function() {\n",
              "          google.colab.kernel.invokeFunction('notebook.callback', ['Me gusta', 'The Mothers of Invention'], {});\n",
              "        };\n",
              "\n",
              "        var btn2 = document.createElement('button');\n",
              "        btn2.innerHTML = 'No me gusta: The Mothers of Invention';\n",
              "        btn2.onclick = function() {\n",
              "          google.colab.kernel.invokeFunction('notebook.callback', ['No me gusta', 'The Mothers of Invention'], {});\n",
              "        };\n",
              "\n",
              "        div.appendChild(btn1);\n",
              "        div.appendChild(btn2);\n",
              "        document.body.appendChild(div);\n",
              "    "
            ]
          },
          "metadata": {}
        },
        {
          "output_type": "stream",
          "name": "stdout",
          "text": [
            "Has elegido: No me gusta para The Mothers of Invention\n",
            "Nuevo artista recomendado: Ehron Vonallen, score: 1.0124260365600175\n"
          ]
        },
        {
          "output_type": "display_data",
          "data": {
            "text/plain": [
              "<IPython.core.display.Javascript object>"
            ],
            "application/javascript": [
              "\n",
              "        var div = document.createElement('div');\n",
              "        var btn1 = document.createElement('button');\n",
              "        btn1.innerHTML = 'Me gusta: Ehron Vonallen';\n",
              "        btn1.onclick = function() {\n",
              "          google.colab.kernel.invokeFunction('notebook.callback', ['Me gusta', 'Ehron Vonallen'], {});\n",
              "        };\n",
              "\n",
              "        var btn2 = document.createElement('button');\n",
              "        btn2.innerHTML = 'No me gusta: Ehron Vonallen';\n",
              "        btn2.onclick = function() {\n",
              "          google.colab.kernel.invokeFunction('notebook.callback', ['No me gusta', 'Ehron Vonallen'], {});\n",
              "        };\n",
              "\n",
              "        div.appendChild(btn1);\n",
              "        div.appendChild(btn2);\n",
              "        document.body.appendChild(div);\n",
              "    "
            ]
          },
          "metadata": {}
        },
        {
          "output_type": "stream",
          "name": "stdout",
          "text": [
            "Has elegido: No me gusta para Ehron Vonallen\n",
            "Nuevo artista recomendado: ＰＥＲＥＳＴＲＯＩＫＡ, score: 1.1657511294340608\n"
          ]
        },
        {
          "output_type": "display_data",
          "data": {
            "text/plain": [
              "<IPython.core.display.Javascript object>"
            ],
            "application/javascript": [
              "\n",
              "        var div = document.createElement('div');\n",
              "        var btn1 = document.createElement('button');\n",
              "        btn1.innerHTML = 'Me gusta: ＰＥＲＥＳＴＲＯＩＫＡ';\n",
              "        btn1.onclick = function() {\n",
              "          google.colab.kernel.invokeFunction('notebook.callback', ['Me gusta', 'ＰＥＲＥＳＴＲＯＩＫＡ'], {});\n",
              "        };\n",
              "\n",
              "        var btn2 = document.createElement('button');\n",
              "        btn2.innerHTML = 'No me gusta: ＰＥＲＥＳＴＲＯＩＫＡ';\n",
              "        btn2.onclick = function() {\n",
              "          google.colab.kernel.invokeFunction('notebook.callback', ['No me gusta', 'ＰＥＲＥＳＴＲＯＩＫＡ'], {});\n",
              "        };\n",
              "\n",
              "        div.appendChild(btn1);\n",
              "        div.appendChild(btn2);\n",
              "        document.body.appendChild(div);\n",
              "    "
            ]
          },
          "metadata": {}
        },
        {
          "output_type": "stream",
          "name": "stdout",
          "text": [
            "Has elegido: No me gusta para ＰＥＲＥＳＴＲＯＩＫＡ\n",
            "Nuevo artista recomendado: Tribuzy, score: 1.0205907616757688\n"
          ]
        },
        {
          "output_type": "display_data",
          "data": {
            "text/plain": [
              "<IPython.core.display.Javascript object>"
            ],
            "application/javascript": [
              "\n",
              "        var div = document.createElement('div');\n",
              "        var btn1 = document.createElement('button');\n",
              "        btn1.innerHTML = 'Me gusta: Tribuzy';\n",
              "        btn1.onclick = function() {\n",
              "          google.colab.kernel.invokeFunction('notebook.callback', ['Me gusta', 'Tribuzy'], {});\n",
              "        };\n",
              "\n",
              "        var btn2 = document.createElement('button');\n",
              "        btn2.innerHTML = 'No me gusta: Tribuzy';\n",
              "        btn2.onclick = function() {\n",
              "          google.colab.kernel.invokeFunction('notebook.callback', ['No me gusta', 'Tribuzy'], {});\n",
              "        };\n",
              "\n",
              "        div.appendChild(btn1);\n",
              "        div.appendChild(btn2);\n",
              "        document.body.appendChild(div);\n",
              "    "
            ]
          },
          "metadata": {}
        },
        {
          "output_type": "stream",
          "name": "stdout",
          "text": [
            "Has elegido: No me gusta para Tribuzy\n",
            "Nuevo artista recomendado: Silence Dead, score: 1.0209707247484794\n"
          ]
        },
        {
          "output_type": "display_data",
          "data": {
            "text/plain": [
              "<IPython.core.display.Javascript object>"
            ],
            "application/javascript": [
              "\n",
              "        var div = document.createElement('div');\n",
              "        var btn1 = document.createElement('button');\n",
              "        btn1.innerHTML = 'Me gusta: Silence Dead';\n",
              "        btn1.onclick = function() {\n",
              "          google.colab.kernel.invokeFunction('notebook.callback', ['Me gusta', 'Silence Dead'], {});\n",
              "        };\n",
              "\n",
              "        var btn2 = document.createElement('button');\n",
              "        btn2.innerHTML = 'No me gusta: Silence Dead';\n",
              "        btn2.onclick = function() {\n",
              "          google.colab.kernel.invokeFunction('notebook.callback', ['No me gusta', 'Silence Dead'], {});\n",
              "        };\n",
              "\n",
              "        div.appendChild(btn1);\n",
              "        div.appendChild(btn2);\n",
              "        document.body.appendChild(div);\n",
              "    "
            ]
          },
          "metadata": {}
        },
        {
          "output_type": "stream",
          "name": "stdout",
          "text": [
            "Has elegido: No me gusta para Silence Dead\n",
            "Nuevo artista recomendado: Guilherme Zucconi, score: 1.0941284837286358\n"
          ]
        },
        {
          "output_type": "display_data",
          "data": {
            "text/plain": [
              "<IPython.core.display.Javascript object>"
            ],
            "application/javascript": [
              "\n",
              "        var div = document.createElement('div');\n",
              "        var btn1 = document.createElement('button');\n",
              "        btn1.innerHTML = 'Me gusta: Guilherme Zucconi';\n",
              "        btn1.onclick = function() {\n",
              "          google.colab.kernel.invokeFunction('notebook.callback', ['Me gusta', 'Guilherme Zucconi'], {});\n",
              "        };\n",
              "\n",
              "        var btn2 = document.createElement('button');\n",
              "        btn2.innerHTML = 'No me gusta: Guilherme Zucconi';\n",
              "        btn2.onclick = function() {\n",
              "          google.colab.kernel.invokeFunction('notebook.callback', ['No me gusta', 'Guilherme Zucconi'], {});\n",
              "        };\n",
              "\n",
              "        div.appendChild(btn1);\n",
              "        div.appendChild(btn2);\n",
              "        document.body.appendChild(div);\n",
              "    "
            ]
          },
          "metadata": {}
        },
        {
          "output_type": "stream",
          "name": "stdout",
          "text": [
            "Has elegido: No me gusta para Guilherme Zucconi\n",
            "Nuevo artista recomendado: Ian Brown, score: 1\n"
          ]
        },
        {
          "output_type": "display_data",
          "data": {
            "text/plain": [
              "<IPython.core.display.Javascript object>"
            ],
            "application/javascript": [
              "\n",
              "        var div = document.createElement('div');\n",
              "        var btn1 = document.createElement('button');\n",
              "        btn1.innerHTML = 'Me gusta: Ian Brown';\n",
              "        btn1.onclick = function() {\n",
              "          google.colab.kernel.invokeFunction('notebook.callback', ['Me gusta', 'Ian Brown'], {});\n",
              "        };\n",
              "\n",
              "        var btn2 = document.createElement('button');\n",
              "        btn2.innerHTML = 'No me gusta: Ian Brown';\n",
              "        btn2.onclick = function() {\n",
              "          google.colab.kernel.invokeFunction('notebook.callback', ['No me gusta', 'Ian Brown'], {});\n",
              "        };\n",
              "\n",
              "        div.appendChild(btn1);\n",
              "        div.appendChild(btn2);\n",
              "        document.body.appendChild(div);\n",
              "    "
            ]
          },
          "metadata": {}
        },
        {
          "output_type": "stream",
          "name": "stdout",
          "text": [
            "Has elegido: No me gusta para Ian Brown\n",
            "Nuevo artista recomendado: Слон, score: 1.0160242633971348\n"
          ]
        },
        {
          "output_type": "display_data",
          "data": {
            "text/plain": [
              "<IPython.core.display.Javascript object>"
            ],
            "application/javascript": [
              "\n",
              "        var div = document.createElement('div');\n",
              "        var btn1 = document.createElement('button');\n",
              "        btn1.innerHTML = 'Me gusta: Слон';\n",
              "        btn1.onclick = function() {\n",
              "          google.colab.kernel.invokeFunction('notebook.callback', ['Me gusta', 'Слон'], {});\n",
              "        };\n",
              "\n",
              "        var btn2 = document.createElement('button');\n",
              "        btn2.innerHTML = 'No me gusta: Слон';\n",
              "        btn2.onclick = function() {\n",
              "          google.colab.kernel.invokeFunction('notebook.callback', ['No me gusta', 'Слон'], {});\n",
              "        };\n",
              "\n",
              "        div.appendChild(btn1);\n",
              "        div.appendChild(btn2);\n",
              "        document.body.appendChild(div);\n",
              "    "
            ]
          },
          "metadata": {}
        },
        {
          "output_type": "stream",
          "name": "stdout",
          "text": [
            "Has elegido: No me gusta para Слон\n",
            "Nuevo artista recomendado: Skip James, score: 1\n"
          ]
        },
        {
          "output_type": "display_data",
          "data": {
            "text/plain": [
              "<IPython.core.display.Javascript object>"
            ],
            "application/javascript": [
              "\n",
              "        var div = document.createElement('div');\n",
              "        var btn1 = document.createElement('button');\n",
              "        btn1.innerHTML = 'Me gusta: Skip James';\n",
              "        btn1.onclick = function() {\n",
              "          google.colab.kernel.invokeFunction('notebook.callback', ['Me gusta', 'Skip James'], {});\n",
              "        };\n",
              "\n",
              "        var btn2 = document.createElement('button');\n",
              "        btn2.innerHTML = 'No me gusta: Skip James';\n",
              "        btn2.onclick = function() {\n",
              "          google.colab.kernel.invokeFunction('notebook.callback', ['No me gusta', 'Skip James'], {});\n",
              "        };\n",
              "\n",
              "        div.appendChild(btn1);\n",
              "        div.appendChild(btn2);\n",
              "        document.body.appendChild(div);\n",
              "    "
            ]
          },
          "metadata": {}
        },
        {
          "output_type": "stream",
          "name": "stdout",
          "text": [
            "Has elegido: No me gusta para Skip James\n",
            "Nuevo artista recomendado: The Perishers, score: 1\n"
          ]
        },
        {
          "output_type": "display_data",
          "data": {
            "text/plain": [
              "<IPython.core.display.Javascript object>"
            ],
            "application/javascript": [
              "\n",
              "        var div = document.createElement('div');\n",
              "        var btn1 = document.createElement('button');\n",
              "        btn1.innerHTML = 'Me gusta: The Perishers';\n",
              "        btn1.onclick = function() {\n",
              "          google.colab.kernel.invokeFunction('notebook.callback', ['Me gusta', 'The Perishers'], {});\n",
              "        };\n",
              "\n",
              "        var btn2 = document.createElement('button');\n",
              "        btn2.innerHTML = 'No me gusta: The Perishers';\n",
              "        btn2.onclick = function() {\n",
              "          google.colab.kernel.invokeFunction('notebook.callback', ['No me gusta', 'The Perishers'], {});\n",
              "        };\n",
              "\n",
              "        div.appendChild(btn1);\n",
              "        div.appendChild(btn2);\n",
              "        document.body.appendChild(div);\n",
              "    "
            ]
          },
          "metadata": {}
        },
        {
          "output_type": "stream",
          "name": "stdout",
          "text": [
            "Has elegido: No me gusta para The Perishers\n",
            "Nuevo artista recomendado: Peter Hammill, score: 1\n"
          ]
        },
        {
          "output_type": "display_data",
          "data": {
            "text/plain": [
              "<IPython.core.display.Javascript object>"
            ],
            "application/javascript": [
              "\n",
              "        var div = document.createElement('div');\n",
              "        var btn1 = document.createElement('button');\n",
              "        btn1.innerHTML = 'Me gusta: Peter Hammill';\n",
              "        btn1.onclick = function() {\n",
              "          google.colab.kernel.invokeFunction('notebook.callback', ['Me gusta', 'Peter Hammill'], {});\n",
              "        };\n",
              "\n",
              "        var btn2 = document.createElement('button');\n",
              "        btn2.innerHTML = 'No me gusta: Peter Hammill';\n",
              "        btn2.onclick = function() {\n",
              "          google.colab.kernel.invokeFunction('notebook.callback', ['No me gusta', 'Peter Hammill'], {});\n",
              "        };\n",
              "\n",
              "        div.appendChild(btn1);\n",
              "        div.appendChild(btn2);\n",
              "        document.body.appendChild(div);\n",
              "    "
            ]
          },
          "metadata": {}
        },
        {
          "output_type": "stream",
          "name": "stdout",
          "text": [
            "Has elegido: No me gusta para Peter Hammill\n",
            "Nuevo artista recomendado: art doom, score: 1.0218079648269882\n"
          ]
        },
        {
          "output_type": "display_data",
          "data": {
            "text/plain": [
              "<IPython.core.display.Javascript object>"
            ],
            "application/javascript": [
              "\n",
              "        var div = document.createElement('div');\n",
              "        var btn1 = document.createElement('button');\n",
              "        btn1.innerHTML = 'Me gusta: art doom';\n",
              "        btn1.onclick = function() {\n",
              "          google.colab.kernel.invokeFunction('notebook.callback', ['Me gusta', 'art doom'], {});\n",
              "        };\n",
              "\n",
              "        var btn2 = document.createElement('button');\n",
              "        btn2.innerHTML = 'No me gusta: art doom';\n",
              "        btn2.onclick = function() {\n",
              "          google.colab.kernel.invokeFunction('notebook.callback', ['No me gusta', 'art doom'], {});\n",
              "        };\n",
              "\n",
              "        div.appendChild(btn1);\n",
              "        div.appendChild(btn2);\n",
              "        document.body.appendChild(div);\n",
              "    "
            ]
          },
          "metadata": {}
        },
        {
          "output_type": "stream",
          "name": "stdout",
          "text": [
            "Has elegido: No me gusta para art doom\n",
            "Nuevo artista recomendado: Domantas Razauskas, score: 1.0027837624847216\n"
          ]
        },
        {
          "output_type": "display_data",
          "data": {
            "text/plain": [
              "<IPython.core.display.Javascript object>"
            ],
            "application/javascript": [
              "\n",
              "        var div = document.createElement('div');\n",
              "        var btn1 = document.createElement('button');\n",
              "        btn1.innerHTML = 'Me gusta: Domantas Razauskas';\n",
              "        btn1.onclick = function() {\n",
              "          google.colab.kernel.invokeFunction('notebook.callback', ['Me gusta', 'Domantas Razauskas'], {});\n",
              "        };\n",
              "\n",
              "        var btn2 = document.createElement('button');\n",
              "        btn2.innerHTML = 'No me gusta: Domantas Razauskas';\n",
              "        btn2.onclick = function() {\n",
              "          google.colab.kernel.invokeFunction('notebook.callback', ['No me gusta', 'Domantas Razauskas'], {});\n",
              "        };\n",
              "\n",
              "        div.appendChild(btn1);\n",
              "        div.appendChild(btn2);\n",
              "        document.body.appendChild(div);\n",
              "    "
            ]
          },
          "metadata": {}
        },
        {
          "output_type": "stream",
          "name": "stdout",
          "text": [
            "Has elegido: No me gusta para Domantas Razauskas\n",
            "Nuevo artista recomendado: Armand Amar, score: 1.067566925845202\n"
          ]
        },
        {
          "output_type": "display_data",
          "data": {
            "text/plain": [
              "<IPython.core.display.Javascript object>"
            ],
            "application/javascript": [
              "\n",
              "        var div = document.createElement('div');\n",
              "        var btn1 = document.createElement('button');\n",
              "        btn1.innerHTML = 'Me gusta: Armand Amar';\n",
              "        btn1.onclick = function() {\n",
              "          google.colab.kernel.invokeFunction('notebook.callback', ['Me gusta', 'Armand Amar'], {});\n",
              "        };\n",
              "\n",
              "        var btn2 = document.createElement('button');\n",
              "        btn2.innerHTML = 'No me gusta: Armand Amar';\n",
              "        btn2.onclick = function() {\n",
              "          google.colab.kernel.invokeFunction('notebook.callback', ['No me gusta', 'Armand Amar'], {});\n",
              "        };\n",
              "\n",
              "        div.appendChild(btn1);\n",
              "        div.appendChild(btn2);\n",
              "        document.body.appendChild(div);\n",
              "    "
            ]
          },
          "metadata": {}
        },
        {
          "output_type": "stream",
          "name": "stdout",
          "text": [
            "Has elegido: No me gusta para Armand Amar\n",
            "Nuevo artista recomendado: Cassandra Steen, score: 1.07873172351932\n"
          ]
        },
        {
          "output_type": "display_data",
          "data": {
            "text/plain": [
              "<IPython.core.display.Javascript object>"
            ],
            "application/javascript": [
              "\n",
              "        var div = document.createElement('div');\n",
              "        var btn1 = document.createElement('button');\n",
              "        btn1.innerHTML = 'Me gusta: Cassandra Steen';\n",
              "        btn1.onclick = function() {\n",
              "          google.colab.kernel.invokeFunction('notebook.callback', ['Me gusta', 'Cassandra Steen'], {});\n",
              "        };\n",
              "\n",
              "        var btn2 = document.createElement('button');\n",
              "        btn2.innerHTML = 'No me gusta: Cassandra Steen';\n",
              "        btn2.onclick = function() {\n",
              "          google.colab.kernel.invokeFunction('notebook.callback', ['No me gusta', 'Cassandra Steen'], {});\n",
              "        };\n",
              "\n",
              "        div.appendChild(btn1);\n",
              "        div.appendChild(btn2);\n",
              "        document.body.appendChild(div);\n",
              "    "
            ]
          },
          "metadata": {}
        },
        {
          "output_type": "stream",
          "name": "stdout",
          "text": [
            "Has elegido: No me gusta para Cassandra Steen\n",
            "Nuevo artista recomendado: Duran Duran, score: 1.0497481629409504\n"
          ]
        },
        {
          "output_type": "display_data",
          "data": {
            "text/plain": [
              "<IPython.core.display.Javascript object>"
            ],
            "application/javascript": [
              "\n",
              "        var div = document.createElement('div');\n",
              "        var btn1 = document.createElement('button');\n",
              "        btn1.innerHTML = 'Me gusta: Duran Duran';\n",
              "        btn1.onclick = function() {\n",
              "          google.colab.kernel.invokeFunction('notebook.callback', ['Me gusta', 'Duran Duran'], {});\n",
              "        };\n",
              "\n",
              "        var btn2 = document.createElement('button');\n",
              "        btn2.innerHTML = 'No me gusta: Duran Duran';\n",
              "        btn2.onclick = function() {\n",
              "          google.colab.kernel.invokeFunction('notebook.callback', ['No me gusta', 'Duran Duran'], {});\n",
              "        };\n",
              "\n",
              "        div.appendChild(btn1);\n",
              "        div.appendChild(btn2);\n",
              "        document.body.appendChild(div);\n",
              "    "
            ]
          },
          "metadata": {}
        },
        {
          "output_type": "stream",
          "name": "stdout",
          "text": [
            "Has elegido: Me gusta para Duran Duran\n",
            "Artista recomendado: Paquita La Del Barrio, score: 1.3695440595331982\n"
          ]
        },
        {
          "output_type": "display_data",
          "data": {
            "text/plain": [
              "<IPython.core.display.Javascript object>"
            ],
            "application/javascript": [
              "\n",
              "        var div = document.createElement('div');\n",
              "        var btn1 = document.createElement('button');\n",
              "        btn1.innerHTML = 'Me gusta: Paquita La Del Barrio';\n",
              "        btn1.onclick = function() {\n",
              "          google.colab.kernel.invokeFunction('notebook.callback', ['Me gusta', 'Paquita La Del Barrio'], {});\n",
              "        };\n",
              "\n",
              "        var btn2 = document.createElement('button');\n",
              "        btn2.innerHTML = 'No me gusta: Paquita La Del Barrio';\n",
              "        btn2.onclick = function() {\n",
              "          google.colab.kernel.invokeFunction('notebook.callback', ['No me gusta', 'Paquita La Del Barrio'], {});\n",
              "        };\n",
              "\n",
              "        div.appendChild(btn1);\n",
              "        div.appendChild(btn2);\n",
              "        document.body.appendChild(div);\n",
              "    "
            ]
          },
          "metadata": {}
        },
        {
          "output_type": "stream",
          "name": "stdout",
          "text": [
            "Has elegido: No me gusta para Paquita La Del Barrio\n",
            "Nuevo artista recomendado: Мумий Тролль, score: 1\n"
          ]
        },
        {
          "output_type": "display_data",
          "data": {
            "text/plain": [
              "<IPython.core.display.Javascript object>"
            ],
            "application/javascript": [
              "\n",
              "        var div = document.createElement('div');\n",
              "        var btn1 = document.createElement('button');\n",
              "        btn1.innerHTML = 'Me gusta: Мумий Тролль';\n",
              "        btn1.onclick = function() {\n",
              "          google.colab.kernel.invokeFunction('notebook.callback', ['Me gusta', 'Мумий Тролль'], {});\n",
              "        };\n",
              "\n",
              "        var btn2 = document.createElement('button');\n",
              "        btn2.innerHTML = 'No me gusta: Мумий Тролль';\n",
              "        btn2.onclick = function() {\n",
              "          google.colab.kernel.invokeFunction('notebook.callback', ['No me gusta', 'Мумий Тролль'], {});\n",
              "        };\n",
              "\n",
              "        div.appendChild(btn1);\n",
              "        div.appendChild(btn2);\n",
              "        document.body.appendChild(div);\n",
              "    "
            ]
          },
          "metadata": {}
        },
        {
          "output_type": "stream",
          "name": "stdout",
          "text": [
            "Has elegido: No me gusta para Мумий Тролль\n",
            "Nuevo artista recomendado: Emily Powers, score: 1\n"
          ]
        },
        {
          "output_type": "display_data",
          "data": {
            "text/plain": [
              "<IPython.core.display.Javascript object>"
            ],
            "application/javascript": [
              "\n",
              "        var div = document.createElement('div');\n",
              "        var btn1 = document.createElement('button');\n",
              "        btn1.innerHTML = 'Me gusta: Emily Powers';\n",
              "        btn1.onclick = function() {\n",
              "          google.colab.kernel.invokeFunction('notebook.callback', ['Me gusta', 'Emily Powers'], {});\n",
              "        };\n",
              "\n",
              "        var btn2 = document.createElement('button');\n",
              "        btn2.innerHTML = 'No me gusta: Emily Powers';\n",
              "        btn2.onclick = function() {\n",
              "          google.colab.kernel.invokeFunction('notebook.callback', ['No me gusta', 'Emily Powers'], {});\n",
              "        };\n",
              "\n",
              "        div.appendChild(btn1);\n",
              "        div.appendChild(btn2);\n",
              "        document.body.appendChild(div);\n",
              "    "
            ]
          },
          "metadata": {}
        },
        {
          "output_type": "stream",
          "name": "stdout",
          "text": [
            "Has elegido: No me gusta para Emily Powers\n",
            "Nuevo artista recomendado: Pete Vyler, score: 1.0724512449860035\n"
          ]
        },
        {
          "output_type": "display_data",
          "data": {
            "text/plain": [
              "<IPython.core.display.Javascript object>"
            ],
            "application/javascript": [
              "\n",
              "        var div = document.createElement('div');\n",
              "        var btn1 = document.createElement('button');\n",
              "        btn1.innerHTML = 'Me gusta: Pete Vyler';\n",
              "        btn1.onclick = function() {\n",
              "          google.colab.kernel.invokeFunction('notebook.callback', ['Me gusta', 'Pete Vyler'], {});\n",
              "        };\n",
              "\n",
              "        var btn2 = document.createElement('button');\n",
              "        btn2.innerHTML = 'No me gusta: Pete Vyler';\n",
              "        btn2.onclick = function() {\n",
              "          google.colab.kernel.invokeFunction('notebook.callback', ['No me gusta', 'Pete Vyler'], {});\n",
              "        };\n",
              "\n",
              "        div.appendChild(btn1);\n",
              "        div.appendChild(btn2);\n",
              "        document.body.appendChild(div);\n",
              "    "
            ]
          },
          "metadata": {}
        },
        {
          "output_type": "stream",
          "name": "stdout",
          "text": [
            "Has elegido: No me gusta para Pete Vyler\n",
            "Nuevo artista recomendado: Scanners, score: 1\n"
          ]
        },
        {
          "output_type": "display_data",
          "data": {
            "text/plain": [
              "<IPython.core.display.Javascript object>"
            ],
            "application/javascript": [
              "\n",
              "        var div = document.createElement('div');\n",
              "        var btn1 = document.createElement('button');\n",
              "        btn1.innerHTML = 'Me gusta: Scanners';\n",
              "        btn1.onclick = function() {\n",
              "          google.colab.kernel.invokeFunction('notebook.callback', ['Me gusta', 'Scanners'], {});\n",
              "        };\n",
              "\n",
              "        var btn2 = document.createElement('button');\n",
              "        btn2.innerHTML = 'No me gusta: Scanners';\n",
              "        btn2.onclick = function() {\n",
              "          google.colab.kernel.invokeFunction('notebook.callback', ['No me gusta', 'Scanners'], {});\n",
              "        };\n",
              "\n",
              "        div.appendChild(btn1);\n",
              "        div.appendChild(btn2);\n",
              "        document.body.appendChild(div);\n",
              "    "
            ]
          },
          "metadata": {}
        },
        {
          "output_type": "stream",
          "name": "stdout",
          "text": [
            "Has elegido: No me gusta para Scanners\n",
            "Nuevo artista recomendado: Hour of Penance, score: 1\n"
          ]
        },
        {
          "output_type": "display_data",
          "data": {
            "text/plain": [
              "<IPython.core.display.Javascript object>"
            ],
            "application/javascript": [
              "\n",
              "        var div = document.createElement('div');\n",
              "        var btn1 = document.createElement('button');\n",
              "        btn1.innerHTML = 'Me gusta: Hour of Penance';\n",
              "        btn1.onclick = function() {\n",
              "          google.colab.kernel.invokeFunction('notebook.callback', ['Me gusta', 'Hour of Penance'], {});\n",
              "        };\n",
              "\n",
              "        var btn2 = document.createElement('button');\n",
              "        btn2.innerHTML = 'No me gusta: Hour of Penance';\n",
              "        btn2.onclick = function() {\n",
              "          google.colab.kernel.invokeFunction('notebook.callback', ['No me gusta', 'Hour of Penance'], {});\n",
              "        };\n",
              "\n",
              "        div.appendChild(btn1);\n",
              "        div.appendChild(btn2);\n",
              "        document.body.appendChild(div);\n",
              "    "
            ]
          },
          "metadata": {}
        },
        {
          "output_type": "stream",
          "name": "stdout",
          "text": [
            "Has elegido: No me gusta para Hour of Penance\n",
            "Nuevo artista recomendado: Ian McCulloch, score: 1\n"
          ]
        },
        {
          "output_type": "display_data",
          "data": {
            "text/plain": [
              "<IPython.core.display.Javascript object>"
            ],
            "application/javascript": [
              "\n",
              "        var div = document.createElement('div');\n",
              "        var btn1 = document.createElement('button');\n",
              "        btn1.innerHTML = 'Me gusta: Ian McCulloch';\n",
              "        btn1.onclick = function() {\n",
              "          google.colab.kernel.invokeFunction('notebook.callback', ['Me gusta', 'Ian McCulloch'], {});\n",
              "        };\n",
              "\n",
              "        var btn2 = document.createElement('button');\n",
              "        btn2.innerHTML = 'No me gusta: Ian McCulloch';\n",
              "        btn2.onclick = function() {\n",
              "          google.colab.kernel.invokeFunction('notebook.callback', ['No me gusta', 'Ian McCulloch'], {});\n",
              "        };\n",
              "\n",
              "        div.appendChild(btn1);\n",
              "        div.appendChild(btn2);\n",
              "        document.body.appendChild(div);\n",
              "    "
            ]
          },
          "metadata": {}
        },
        {
          "output_type": "stream",
          "name": "stdout",
          "text": [
            "Has elegido: No me gusta para Ian McCulloch\n",
            "Nuevo artista recomendado: Rick Ross, score: 1.0129894329617517\n"
          ]
        },
        {
          "output_type": "display_data",
          "data": {
            "text/plain": [
              "<IPython.core.display.Javascript object>"
            ],
            "application/javascript": [
              "\n",
              "        var div = document.createElement('div');\n",
              "        var btn1 = document.createElement('button');\n",
              "        btn1.innerHTML = 'Me gusta: Rick Ross';\n",
              "        btn1.onclick = function() {\n",
              "          google.colab.kernel.invokeFunction('notebook.callback', ['Me gusta', 'Rick Ross'], {});\n",
              "        };\n",
              "\n",
              "        var btn2 = document.createElement('button');\n",
              "        btn2.innerHTML = 'No me gusta: Rick Ross';\n",
              "        btn2.onclick = function() {\n",
              "          google.colab.kernel.invokeFunction('notebook.callback', ['No me gusta', 'Rick Ross'], {});\n",
              "        };\n",
              "\n",
              "        div.appendChild(btn1);\n",
              "        div.appendChild(btn2);\n",
              "        document.body.appendChild(div);\n",
              "    "
            ]
          },
          "metadata": {}
        },
        {
          "output_type": "stream",
          "name": "stdout",
          "text": [
            "Has elegido: No me gusta para Rick Ross\n",
            "Nuevo artista recomendado: RJD2, score: 1\n"
          ]
        },
        {
          "output_type": "display_data",
          "data": {
            "text/plain": [
              "<IPython.core.display.Javascript object>"
            ],
            "application/javascript": [
              "\n",
              "        var div = document.createElement('div');\n",
              "        var btn1 = document.createElement('button');\n",
              "        btn1.innerHTML = 'Me gusta: RJD2';\n",
              "        btn1.onclick = function() {\n",
              "          google.colab.kernel.invokeFunction('notebook.callback', ['Me gusta', 'RJD2'], {});\n",
              "        };\n",
              "\n",
              "        var btn2 = document.createElement('button');\n",
              "        btn2.innerHTML = 'No me gusta: RJD2';\n",
              "        btn2.onclick = function() {\n",
              "          google.colab.kernel.invokeFunction('notebook.callback', ['No me gusta', 'RJD2'], {});\n",
              "        };\n",
              "\n",
              "        div.appendChild(btn1);\n",
              "        div.appendChild(btn2);\n",
              "        document.body.appendChild(div);\n",
              "    "
            ]
          },
          "metadata": {}
        },
        {
          "output_type": "stream",
          "name": "stdout",
          "text": [
            "Has elegido: No me gusta para RJD2\n",
            "Nuevo artista recomendado: V Factory, score: 1\n"
          ]
        },
        {
          "output_type": "display_data",
          "data": {
            "text/plain": [
              "<IPython.core.display.Javascript object>"
            ],
            "application/javascript": [
              "\n",
              "        var div = document.createElement('div');\n",
              "        var btn1 = document.createElement('button');\n",
              "        btn1.innerHTML = 'Me gusta: V Factory';\n",
              "        btn1.onclick = function() {\n",
              "          google.colab.kernel.invokeFunction('notebook.callback', ['Me gusta', 'V Factory'], {});\n",
              "        };\n",
              "\n",
              "        var btn2 = document.createElement('button');\n",
              "        btn2.innerHTML = 'No me gusta: V Factory';\n",
              "        btn2.onclick = function() {\n",
              "          google.colab.kernel.invokeFunction('notebook.callback', ['No me gusta', 'V Factory'], {});\n",
              "        };\n",
              "\n",
              "        div.appendChild(btn1);\n",
              "        div.appendChild(btn2);\n",
              "        document.body.appendChild(div);\n",
              "    "
            ]
          },
          "metadata": {}
        },
        {
          "output_type": "stream",
          "name": "stdout",
          "text": [
            "Has elegido: No me gusta para V Factory\n",
            "Nuevo artista recomendado: Judas Iscariot, score: 1\n"
          ]
        },
        {
          "output_type": "display_data",
          "data": {
            "text/plain": [
              "<IPython.core.display.Javascript object>"
            ],
            "application/javascript": [
              "\n",
              "        var div = document.createElement('div');\n",
              "        var btn1 = document.createElement('button');\n",
              "        btn1.innerHTML = 'Me gusta: Judas Iscariot';\n",
              "        btn1.onclick = function() {\n",
              "          google.colab.kernel.invokeFunction('notebook.callback', ['Me gusta', 'Judas Iscariot'], {});\n",
              "        };\n",
              "\n",
              "        var btn2 = document.createElement('button');\n",
              "        btn2.innerHTML = 'No me gusta: Judas Iscariot';\n",
              "        btn2.onclick = function() {\n",
              "          google.colab.kernel.invokeFunction('notebook.callback', ['No me gusta', 'Judas Iscariot'], {});\n",
              "        };\n",
              "\n",
              "        div.appendChild(btn1);\n",
              "        div.appendChild(btn2);\n",
              "        document.body.appendChild(div);\n",
              "    "
            ]
          },
          "metadata": {}
        },
        {
          "output_type": "stream",
          "name": "stdout",
          "text": [
            "Has elegido: No me gusta para Judas Iscariot\n",
            "Nuevo artista recomendado: Texas, score: 1\n"
          ]
        },
        {
          "output_type": "display_data",
          "data": {
            "text/plain": [
              "<IPython.core.display.Javascript object>"
            ],
            "application/javascript": [
              "\n",
              "        var div = document.createElement('div');\n",
              "        var btn1 = document.createElement('button');\n",
              "        btn1.innerHTML = 'Me gusta: Texas';\n",
              "        btn1.onclick = function() {\n",
              "          google.colab.kernel.invokeFunction('notebook.callback', ['Me gusta', 'Texas'], {});\n",
              "        };\n",
              "\n",
              "        var btn2 = document.createElement('button');\n",
              "        btn2.innerHTML = 'No me gusta: Texas';\n",
              "        btn2.onclick = function() {\n",
              "          google.colab.kernel.invokeFunction('notebook.callback', ['No me gusta', 'Texas'], {});\n",
              "        };\n",
              "\n",
              "        div.appendChild(btn1);\n",
              "        div.appendChild(btn2);\n",
              "        document.body.appendChild(div);\n",
              "    "
            ]
          },
          "metadata": {}
        },
        {
          "output_type": "stream",
          "name": "stdout",
          "text": [
            "Has elegido: Me gusta para Texas\n",
            "Artista recomendado: Matt Willis, score: 1.3165365973337226\n"
          ]
        },
        {
          "output_type": "display_data",
          "data": {
            "text/plain": [
              "<IPython.core.display.Javascript object>"
            ],
            "application/javascript": [
              "\n",
              "        var div = document.createElement('div');\n",
              "        var btn1 = document.createElement('button');\n",
              "        btn1.innerHTML = 'Me gusta: Matt Willis';\n",
              "        btn1.onclick = function() {\n",
              "          google.colab.kernel.invokeFunction('notebook.callback', ['Me gusta', 'Matt Willis'], {});\n",
              "        };\n",
              "\n",
              "        var btn2 = document.createElement('button');\n",
              "        btn2.innerHTML = 'No me gusta: Matt Willis';\n",
              "        btn2.onclick = function() {\n",
              "          google.colab.kernel.invokeFunction('notebook.callback', ['No me gusta', 'Matt Willis'], {});\n",
              "        };\n",
              "\n",
              "        div.appendChild(btn1);\n",
              "        div.appendChild(btn2);\n",
              "        document.body.appendChild(div);\n",
              "    "
            ]
          },
          "metadata": {}
        },
        {
          "output_type": "stream",
          "name": "stdout",
          "text": [
            "Has elegido: No me gusta para Matt Willis\n",
            "Nuevo artista recomendado: The Good, the Bad & the Queen, score: 1.1313230107689132\n"
          ]
        },
        {
          "output_type": "display_data",
          "data": {
            "text/plain": [
              "<IPython.core.display.Javascript object>"
            ],
            "application/javascript": [
              "\n",
              "        var div = document.createElement('div');\n",
              "        var btn1 = document.createElement('button');\n",
              "        btn1.innerHTML = 'Me gusta: The Good, the Bad & the Queen';\n",
              "        btn1.onclick = function() {\n",
              "          google.colab.kernel.invokeFunction('notebook.callback', ['Me gusta', 'The Good, the Bad & the Queen'], {});\n",
              "        };\n",
              "\n",
              "        var btn2 = document.createElement('button');\n",
              "        btn2.innerHTML = 'No me gusta: The Good, the Bad & the Queen';\n",
              "        btn2.onclick = function() {\n",
              "          google.colab.kernel.invokeFunction('notebook.callback', ['No me gusta', 'The Good, the Bad & the Queen'], {});\n",
              "        };\n",
              "\n",
              "        div.appendChild(btn1);\n",
              "        div.appendChild(btn2);\n",
              "        document.body.appendChild(div);\n",
              "    "
            ]
          },
          "metadata": {}
        },
        {
          "output_type": "stream",
          "name": "stdout",
          "text": [
            "Has elegido: No me gusta para The Good, the Bad & the Queen\n",
            "Nuevo artista recomendado: This Romantic Tragedy, score: 1.0273503960851997\n"
          ]
        },
        {
          "output_type": "display_data",
          "data": {
            "text/plain": [
              "<IPython.core.display.Javascript object>"
            ],
            "application/javascript": [
              "\n",
              "        var div = document.createElement('div');\n",
              "        var btn1 = document.createElement('button');\n",
              "        btn1.innerHTML = 'Me gusta: This Romantic Tragedy';\n",
              "        btn1.onclick = function() {\n",
              "          google.colab.kernel.invokeFunction('notebook.callback', ['Me gusta', 'This Romantic Tragedy'], {});\n",
              "        };\n",
              "\n",
              "        var btn2 = document.createElement('button');\n",
              "        btn2.innerHTML = 'No me gusta: This Romantic Tragedy';\n",
              "        btn2.onclick = function() {\n",
              "          google.colab.kernel.invokeFunction('notebook.callback', ['No me gusta', 'This Romantic Tragedy'], {});\n",
              "        };\n",
              "\n",
              "        div.appendChild(btn1);\n",
              "        div.appendChild(btn2);\n",
              "        document.body.appendChild(div);\n",
              "    "
            ]
          },
          "metadata": {}
        },
        {
          "output_type": "stream",
          "name": "stdout",
          "text": [
            "Has elegido: No me gusta para This Romantic Tragedy\n",
            "Nuevo artista recomendado: DaizyStripper, score: 1.0940949381923346\n"
          ]
        },
        {
          "output_type": "display_data",
          "data": {
            "text/plain": [
              "<IPython.core.display.Javascript object>"
            ],
            "application/javascript": [
              "\n",
              "        var div = document.createElement('div');\n",
              "        var btn1 = document.createElement('button');\n",
              "        btn1.innerHTML = 'Me gusta: DaizyStripper';\n",
              "        btn1.onclick = function() {\n",
              "          google.colab.kernel.invokeFunction('notebook.callback', ['Me gusta', 'DaizyStripper'], {});\n",
              "        };\n",
              "\n",
              "        var btn2 = document.createElement('button');\n",
              "        btn2.innerHTML = 'No me gusta: DaizyStripper';\n",
              "        btn2.onclick = function() {\n",
              "          google.colab.kernel.invokeFunction('notebook.callback', ['No me gusta', 'DaizyStripper'], {});\n",
              "        };\n",
              "\n",
              "        div.appendChild(btn1);\n",
              "        div.appendChild(btn2);\n",
              "        document.body.appendChild(div);\n",
              "    "
            ]
          },
          "metadata": {}
        },
        {
          "output_type": "stream",
          "name": "stdout",
          "text": [
            "Has elegido: No me gusta para DaizyStripper\n",
            "Nuevo artista recomendado: Pan.Thy.Monium, score: 1.046720781503817\n"
          ]
        },
        {
          "output_type": "display_data",
          "data": {
            "text/plain": [
              "<IPython.core.display.Javascript object>"
            ],
            "application/javascript": [
              "\n",
              "        var div = document.createElement('div');\n",
              "        var btn1 = document.createElement('button');\n",
              "        btn1.innerHTML = 'Me gusta: Pan.Thy.Monium';\n",
              "        btn1.onclick = function() {\n",
              "          google.colab.kernel.invokeFunction('notebook.callback', ['Me gusta', 'Pan.Thy.Monium'], {});\n",
              "        };\n",
              "\n",
              "        var btn2 = document.createElement('button');\n",
              "        btn2.innerHTML = 'No me gusta: Pan.Thy.Monium';\n",
              "        btn2.onclick = function() {\n",
              "          google.colab.kernel.invokeFunction('notebook.callback', ['No me gusta', 'Pan.Thy.Monium'], {});\n",
              "        };\n",
              "\n",
              "        div.appendChild(btn1);\n",
              "        div.appendChild(btn2);\n",
              "        document.body.appendChild(div);\n",
              "    "
            ]
          },
          "metadata": {}
        },
        {
          "output_type": "stream",
          "name": "stdout",
          "text": [
            "Has elegido: No me gusta para Pan.Thy.Monium\n",
            "Nuevo artista recomendado: BOAT, score: 1\n"
          ]
        },
        {
          "output_type": "display_data",
          "data": {
            "text/plain": [
              "<IPython.core.display.Javascript object>"
            ],
            "application/javascript": [
              "\n",
              "        var div = document.createElement('div');\n",
              "        var btn1 = document.createElement('button');\n",
              "        btn1.innerHTML = 'Me gusta: BOAT';\n",
              "        btn1.onclick = function() {\n",
              "          google.colab.kernel.invokeFunction('notebook.callback', ['Me gusta', 'BOAT'], {});\n",
              "        };\n",
              "\n",
              "        var btn2 = document.createElement('button');\n",
              "        btn2.innerHTML = 'No me gusta: BOAT';\n",
              "        btn2.onclick = function() {\n",
              "          google.colab.kernel.invokeFunction('notebook.callback', ['No me gusta', 'BOAT'], {});\n",
              "        };\n",
              "\n",
              "        div.appendChild(btn1);\n",
              "        div.appendChild(btn2);\n",
              "        document.body.appendChild(div);\n",
              "    "
            ]
          },
          "metadata": {}
        },
        {
          "output_type": "stream",
          "name": "stdout",
          "text": [
            "Has elegido: No me gusta para BOAT\n",
            "Nuevo artista recomendado: Sleep Parade, score: 1.0077929309238043\n"
          ]
        },
        {
          "output_type": "display_data",
          "data": {
            "text/plain": [
              "<IPython.core.display.Javascript object>"
            ],
            "application/javascript": [
              "\n",
              "        var div = document.createElement('div');\n",
              "        var btn1 = document.createElement('button');\n",
              "        btn1.innerHTML = 'Me gusta: Sleep Parade';\n",
              "        btn1.onclick = function() {\n",
              "          google.colab.kernel.invokeFunction('notebook.callback', ['Me gusta', 'Sleep Parade'], {});\n",
              "        };\n",
              "\n",
              "        var btn2 = document.createElement('button');\n",
              "        btn2.innerHTML = 'No me gusta: Sleep Parade';\n",
              "        btn2.onclick = function() {\n",
              "          google.colab.kernel.invokeFunction('notebook.callback', ['No me gusta', 'Sleep Parade'], {});\n",
              "        };\n",
              "\n",
              "        div.appendChild(btn1);\n",
              "        div.appendChild(btn2);\n",
              "        document.body.appendChild(div);\n",
              "    "
            ]
          },
          "metadata": {}
        },
        {
          "output_type": "stream",
          "name": "stdout",
          "text": [
            "Has elegido: No me gusta para Sleep Parade\n",
            "Nuevo artista recomendado: The Murmurs, score: 1.0202167265492244\n"
          ]
        },
        {
          "output_type": "display_data",
          "data": {
            "text/plain": [
              "<IPython.core.display.Javascript object>"
            ],
            "application/javascript": [
              "\n",
              "        var div = document.createElement('div');\n",
              "        var btn1 = document.createElement('button');\n",
              "        btn1.innerHTML = 'Me gusta: The Murmurs';\n",
              "        btn1.onclick = function() {\n",
              "          google.colab.kernel.invokeFunction('notebook.callback', ['Me gusta', 'The Murmurs'], {});\n",
              "        };\n",
              "\n",
              "        var btn2 = document.createElement('button');\n",
              "        btn2.innerHTML = 'No me gusta: The Murmurs';\n",
              "        btn2.onclick = function() {\n",
              "          google.colab.kernel.invokeFunction('notebook.callback', ['No me gusta', 'The Murmurs'], {});\n",
              "        };\n",
              "\n",
              "        div.appendChild(btn1);\n",
              "        div.appendChild(btn2);\n",
              "        document.body.appendChild(div);\n",
              "    "
            ]
          },
          "metadata": {}
        },
        {
          "output_type": "stream",
          "name": "stdout",
          "text": [
            "Has elegido: No me gusta para The Murmurs\n",
            "Nuevo artista recomendado: Red Mountain Church, score: 1\n"
          ]
        },
        {
          "output_type": "display_data",
          "data": {
            "text/plain": [
              "<IPython.core.display.Javascript object>"
            ],
            "application/javascript": [
              "\n",
              "        var div = document.createElement('div');\n",
              "        var btn1 = document.createElement('button');\n",
              "        btn1.innerHTML = 'Me gusta: Red Mountain Church';\n",
              "        btn1.onclick = function() {\n",
              "          google.colab.kernel.invokeFunction('notebook.callback', ['Me gusta', 'Red Mountain Church'], {});\n",
              "        };\n",
              "\n",
              "        var btn2 = document.createElement('button');\n",
              "        btn2.innerHTML = 'No me gusta: Red Mountain Church';\n",
              "        btn2.onclick = function() {\n",
              "          google.colab.kernel.invokeFunction('notebook.callback', ['No me gusta', 'Red Mountain Church'], {});\n",
              "        };\n",
              "\n",
              "        div.appendChild(btn1);\n",
              "        div.appendChild(btn2);\n",
              "        document.body.appendChild(div);\n",
              "    "
            ]
          },
          "metadata": {}
        },
        {
          "output_type": "stream",
          "name": "stdout",
          "text": [
            "Has elegido: No me gusta para Red Mountain Church\n",
            "Nuevo artista recomendado: Angels and Airwaves, score: 1.0649150219531123\n"
          ]
        },
        {
          "output_type": "display_data",
          "data": {
            "text/plain": [
              "<IPython.core.display.Javascript object>"
            ],
            "application/javascript": [
              "\n",
              "        var div = document.createElement('div');\n",
              "        var btn1 = document.createElement('button');\n",
              "        btn1.innerHTML = 'Me gusta: Angels and Airwaves';\n",
              "        btn1.onclick = function() {\n",
              "          google.colab.kernel.invokeFunction('notebook.callback', ['Me gusta', 'Angels and Airwaves'], {});\n",
              "        };\n",
              "\n",
              "        var btn2 = document.createElement('button');\n",
              "        btn2.innerHTML = 'No me gusta: Angels and Airwaves';\n",
              "        btn2.onclick = function() {\n",
              "          google.colab.kernel.invokeFunction('notebook.callback', ['No me gusta', 'Angels and Airwaves'], {});\n",
              "        };\n",
              "\n",
              "        div.appendChild(btn1);\n",
              "        div.appendChild(btn2);\n",
              "        document.body.appendChild(div);\n",
              "    "
            ]
          },
          "metadata": {}
        },
        {
          "output_type": "stream",
          "name": "stdout",
          "text": [
            "Has elegido: No me gusta para Angels and Airwaves\n",
            "Nuevo artista recomendado: Hot Hot Heat, score: 1.0306697883031721\n"
          ]
        },
        {
          "output_type": "display_data",
          "data": {
            "text/plain": [
              "<IPython.core.display.Javascript object>"
            ],
            "application/javascript": [
              "\n",
              "        var div = document.createElement('div');\n",
              "        var btn1 = document.createElement('button');\n",
              "        btn1.innerHTML = 'Me gusta: Hot Hot Heat';\n",
              "        btn1.onclick = function() {\n",
              "          google.colab.kernel.invokeFunction('notebook.callback', ['Me gusta', 'Hot Hot Heat'], {});\n",
              "        };\n",
              "\n",
              "        var btn2 = document.createElement('button');\n",
              "        btn2.innerHTML = 'No me gusta: Hot Hot Heat';\n",
              "        btn2.onclick = function() {\n",
              "          google.colab.kernel.invokeFunction('notebook.callback', ['No me gusta', 'Hot Hot Heat'], {});\n",
              "        };\n",
              "\n",
              "        div.appendChild(btn1);\n",
              "        div.appendChild(btn2);\n",
              "        document.body.appendChild(div);\n",
              "    "
            ]
          },
          "metadata": {}
        },
        {
          "output_type": "stream",
          "name": "stdout",
          "text": [
            "Has elegido: No me gusta para Hot Hot Heat\n",
            "Nuevo artista recomendado: Angel Taylor, score: 1\n"
          ]
        },
        {
          "output_type": "display_data",
          "data": {
            "text/plain": [
              "<IPython.core.display.Javascript object>"
            ],
            "application/javascript": [
              "\n",
              "        var div = document.createElement('div');\n",
              "        var btn1 = document.createElement('button');\n",
              "        btn1.innerHTML = 'Me gusta: Angel Taylor';\n",
              "        btn1.onclick = function() {\n",
              "          google.colab.kernel.invokeFunction('notebook.callback', ['Me gusta', 'Angel Taylor'], {});\n",
              "        };\n",
              "\n",
              "        var btn2 = document.createElement('button');\n",
              "        btn2.innerHTML = 'No me gusta: Angel Taylor';\n",
              "        btn2.onclick = function() {\n",
              "          google.colab.kernel.invokeFunction('notebook.callback', ['No me gusta', 'Angel Taylor'], {});\n",
              "        };\n",
              "\n",
              "        div.appendChild(btn1);\n",
              "        div.appendChild(btn2);\n",
              "        document.body.appendChild(div);\n",
              "    "
            ]
          },
          "metadata": {}
        },
        {
          "output_type": "stream",
          "name": "stdout",
          "text": [
            "Has elegido: No me gusta para Angel Taylor\n",
            "Nuevo artista recomendado: Buraka Som Sistema, score: 1\n"
          ]
        },
        {
          "output_type": "display_data",
          "data": {
            "text/plain": [
              "<IPython.core.display.Javascript object>"
            ],
            "application/javascript": [
              "\n",
              "        var div = document.createElement('div');\n",
              "        var btn1 = document.createElement('button');\n",
              "        btn1.innerHTML = 'Me gusta: Buraka Som Sistema';\n",
              "        btn1.onclick = function() {\n",
              "          google.colab.kernel.invokeFunction('notebook.callback', ['Me gusta', 'Buraka Som Sistema'], {});\n",
              "        };\n",
              "\n",
              "        var btn2 = document.createElement('button');\n",
              "        btn2.innerHTML = 'No me gusta: Buraka Som Sistema';\n",
              "        btn2.onclick = function() {\n",
              "          google.colab.kernel.invokeFunction('notebook.callback', ['No me gusta', 'Buraka Som Sistema'], {});\n",
              "        };\n",
              "\n",
              "        div.appendChild(btn1);\n",
              "        div.appendChild(btn2);\n",
              "        document.body.appendChild(div);\n",
              "    "
            ]
          },
          "metadata": {}
        },
        {
          "output_type": "stream",
          "name": "stdout",
          "text": [
            "Has elegido: No me gusta para Buraka Som Sistema\n",
            "Nuevo artista recomendado: Zeplin, score: 1.033648721421261\n"
          ]
        },
        {
          "output_type": "display_data",
          "data": {
            "text/plain": [
              "<IPython.core.display.Javascript object>"
            ],
            "application/javascript": [
              "\n",
              "        var div = document.createElement('div');\n",
              "        var btn1 = document.createElement('button');\n",
              "        btn1.innerHTML = 'Me gusta: Zeplin';\n",
              "        btn1.onclick = function() {\n",
              "          google.colab.kernel.invokeFunction('notebook.callback', ['Me gusta', 'Zeplin'], {});\n",
              "        };\n",
              "\n",
              "        var btn2 = document.createElement('button');\n",
              "        btn2.innerHTML = 'No me gusta: Zeplin';\n",
              "        btn2.onclick = function() {\n",
              "          google.colab.kernel.invokeFunction('notebook.callback', ['No me gusta', 'Zeplin'], {});\n",
              "        };\n",
              "\n",
              "        div.appendChild(btn1);\n",
              "        div.appendChild(btn2);\n",
              "        document.body.appendChild(div);\n",
              "    "
            ]
          },
          "metadata": {}
        },
        {
          "output_type": "stream",
          "name": "stdout",
          "text": [
            "Has elegido: Me gusta para Zeplin\n",
            "Artista recomendado: Data 80, score: 1.316144888128583\n"
          ]
        },
        {
          "output_type": "display_data",
          "data": {
            "text/plain": [
              "<IPython.core.display.Javascript object>"
            ],
            "application/javascript": [
              "\n",
              "        var div = document.createElement('div');\n",
              "        var btn1 = document.createElement('button');\n",
              "        btn1.innerHTML = 'Me gusta: Data 80';\n",
              "        btn1.onclick = function() {\n",
              "          google.colab.kernel.invokeFunction('notebook.callback', ['Me gusta', 'Data 80'], {});\n",
              "        };\n",
              "\n",
              "        var btn2 = document.createElement('button');\n",
              "        btn2.innerHTML = 'No me gusta: Data 80';\n",
              "        btn2.onclick = function() {\n",
              "          google.colab.kernel.invokeFunction('notebook.callback', ['No me gusta', 'Data 80'], {});\n",
              "        };\n",
              "\n",
              "        div.appendChild(btn1);\n",
              "        div.appendChild(btn2);\n",
              "        document.body.appendChild(div);\n",
              "    "
            ]
          },
          "metadata": {}
        },
        {
          "output_type": "stream",
          "name": "stdout",
          "text": [
            "Has elegido: No me gusta para Data 80\n",
            "Nuevo artista recomendado: Pontiak, score: 1\n"
          ]
        },
        {
          "output_type": "display_data",
          "data": {
            "text/plain": [
              "<IPython.core.display.Javascript object>"
            ],
            "application/javascript": [
              "\n",
              "        var div = document.createElement('div');\n",
              "        var btn1 = document.createElement('button');\n",
              "        btn1.innerHTML = 'Me gusta: Pontiak';\n",
              "        btn1.onclick = function() {\n",
              "          google.colab.kernel.invokeFunction('notebook.callback', ['Me gusta', 'Pontiak'], {});\n",
              "        };\n",
              "\n",
              "        var btn2 = document.createElement('button');\n",
              "        btn2.innerHTML = 'No me gusta: Pontiak';\n",
              "        btn2.onclick = function() {\n",
              "          google.colab.kernel.invokeFunction('notebook.callback', ['No me gusta', 'Pontiak'], {});\n",
              "        };\n",
              "\n",
              "        div.appendChild(btn1);\n",
              "        div.appendChild(btn2);\n",
              "        document.body.appendChild(div);\n",
              "    "
            ]
          },
          "metadata": {}
        },
        {
          "output_type": "stream",
          "name": "stdout",
          "text": [
            "Has elegido: No me gusta para Pontiak\n",
            "Nuevo artista recomendado: The Peacocks, score: 1.170342843139836\n"
          ]
        },
        {
          "output_type": "display_data",
          "data": {
            "text/plain": [
              "<IPython.core.display.Javascript object>"
            ],
            "application/javascript": [
              "\n",
              "        var div = document.createElement('div');\n",
              "        var btn1 = document.createElement('button');\n",
              "        btn1.innerHTML = 'Me gusta: The Peacocks';\n",
              "        btn1.onclick = function() {\n",
              "          google.colab.kernel.invokeFunction('notebook.callback', ['Me gusta', 'The Peacocks'], {});\n",
              "        };\n",
              "\n",
              "        var btn2 = document.createElement('button');\n",
              "        btn2.innerHTML = 'No me gusta: The Peacocks';\n",
              "        btn2.onclick = function() {\n",
              "          google.colab.kernel.invokeFunction('notebook.callback', ['No me gusta', 'The Peacocks'], {});\n",
              "        };\n",
              "\n",
              "        div.appendChild(btn1);\n",
              "        div.appendChild(btn2);\n",
              "        document.body.appendChild(div);\n",
              "    "
            ]
          },
          "metadata": {}
        },
        {
          "output_type": "stream",
          "name": "stdout",
          "text": [
            "Has elegido: Me gusta para The Peacocks\n",
            "Artista recomendado: 川井憲次, score: 1.31019131964761\n"
          ]
        },
        {
          "output_type": "display_data",
          "data": {
            "text/plain": [
              "<IPython.core.display.Javascript object>"
            ],
            "application/javascript": [
              "\n",
              "        var div = document.createElement('div');\n",
              "        var btn1 = document.createElement('button');\n",
              "        btn1.innerHTML = 'Me gusta: 川井憲次';\n",
              "        btn1.onclick = function() {\n",
              "          google.colab.kernel.invokeFunction('notebook.callback', ['Me gusta', '川井憲次'], {});\n",
              "        };\n",
              "\n",
              "        var btn2 = document.createElement('button');\n",
              "        btn2.innerHTML = 'No me gusta: 川井憲次';\n",
              "        btn2.onclick = function() {\n",
              "          google.colab.kernel.invokeFunction('notebook.callback', ['No me gusta', '川井憲次'], {});\n",
              "        };\n",
              "\n",
              "        div.appendChild(btn1);\n",
              "        div.appendChild(btn2);\n",
              "        document.body.appendChild(div);\n",
              "    "
            ]
          },
          "metadata": {}
        },
        {
          "output_type": "stream",
          "name": "stdout",
          "text": [
            "Has elegido: No me gusta para 川井憲次\n",
            "Nuevo artista recomendado: Cybophonia, score: 1.0616399297148282\n"
          ]
        },
        {
          "output_type": "display_data",
          "data": {
            "text/plain": [
              "<IPython.core.display.Javascript object>"
            ],
            "application/javascript": [
              "\n",
              "        var div = document.createElement('div');\n",
              "        var btn1 = document.createElement('button');\n",
              "        btn1.innerHTML = 'Me gusta: Cybophonia';\n",
              "        btn1.onclick = function() {\n",
              "          google.colab.kernel.invokeFunction('notebook.callback', ['Me gusta', 'Cybophonia'], {});\n",
              "        };\n",
              "\n",
              "        var btn2 = document.createElement('button');\n",
              "        btn2.innerHTML = 'No me gusta: Cybophonia';\n",
              "        btn2.onclick = function() {\n",
              "          google.colab.kernel.invokeFunction('notebook.callback', ['No me gusta', 'Cybophonia'], {});\n",
              "        };\n",
              "\n",
              "        div.appendChild(btn1);\n",
              "        div.appendChild(btn2);\n",
              "        document.body.appendChild(div);\n",
              "    "
            ]
          },
          "metadata": {}
        },
        {
          "output_type": "stream",
          "name": "stdout",
          "text": [
            "Has elegido: No me gusta para Cybophonia\n",
            "Nuevo artista recomendado: I Am Robot and Proud, score: 1\n"
          ]
        },
        {
          "output_type": "display_data",
          "data": {
            "text/plain": [
              "<IPython.core.display.Javascript object>"
            ],
            "application/javascript": [
              "\n",
              "        var div = document.createElement('div');\n",
              "        var btn1 = document.createElement('button');\n",
              "        btn1.innerHTML = 'Me gusta: I Am Robot and Proud';\n",
              "        btn1.onclick = function() {\n",
              "          google.colab.kernel.invokeFunction('notebook.callback', ['Me gusta', 'I Am Robot and Proud'], {});\n",
              "        };\n",
              "\n",
              "        var btn2 = document.createElement('button');\n",
              "        btn2.innerHTML = 'No me gusta: I Am Robot and Proud';\n",
              "        btn2.onclick = function() {\n",
              "          google.colab.kernel.invokeFunction('notebook.callback', ['No me gusta', 'I Am Robot and Proud'], {});\n",
              "        };\n",
              "\n",
              "        div.appendChild(btn1);\n",
              "        div.appendChild(btn2);\n",
              "        document.body.appendChild(div);\n",
              "    "
            ]
          },
          "metadata": {}
        },
        {
          "output_type": "stream",
          "name": "stdout",
          "text": [
            "Has elegido: No me gusta para I Am Robot and Proud\n",
            "Nuevo artista recomendado: Marine Research, score: 1.007034306604562\n"
          ]
        },
        {
          "output_type": "display_data",
          "data": {
            "text/plain": [
              "<IPython.core.display.Javascript object>"
            ],
            "application/javascript": [
              "\n",
              "        var div = document.createElement('div');\n",
              "        var btn1 = document.createElement('button');\n",
              "        btn1.innerHTML = 'Me gusta: Marine Research';\n",
              "        btn1.onclick = function() {\n",
              "          google.colab.kernel.invokeFunction('notebook.callback', ['Me gusta', 'Marine Research'], {});\n",
              "        };\n",
              "\n",
              "        var btn2 = document.createElement('button');\n",
              "        btn2.innerHTML = 'No me gusta: Marine Research';\n",
              "        btn2.onclick = function() {\n",
              "          google.colab.kernel.invokeFunction('notebook.callback', ['No me gusta', 'Marine Research'], {});\n",
              "        };\n",
              "\n",
              "        div.appendChild(btn1);\n",
              "        div.appendChild(btn2);\n",
              "        document.body.appendChild(div);\n",
              "    "
            ]
          },
          "metadata": {}
        },
        {
          "output_type": "stream",
          "name": "stdout",
          "text": [
            "Has elegido: No me gusta para Marine Research\n",
            "Nuevo artista recomendado: Bend and Break, score: 1\n"
          ]
        },
        {
          "output_type": "display_data",
          "data": {
            "text/plain": [
              "<IPython.core.display.Javascript object>"
            ],
            "application/javascript": [
              "\n",
              "        var div = document.createElement('div');\n",
              "        var btn1 = document.createElement('button');\n",
              "        btn1.innerHTML = 'Me gusta: Bend and Break';\n",
              "        btn1.onclick = function() {\n",
              "          google.colab.kernel.invokeFunction('notebook.callback', ['Me gusta', 'Bend and Break'], {});\n",
              "        };\n",
              "\n",
              "        var btn2 = document.createElement('button');\n",
              "        btn2.innerHTML = 'No me gusta: Bend and Break';\n",
              "        btn2.onclick = function() {\n",
              "          google.colab.kernel.invokeFunction('notebook.callback', ['No me gusta', 'Bend and Break'], {});\n",
              "        };\n",
              "\n",
              "        div.appendChild(btn1);\n",
              "        div.appendChild(btn2);\n",
              "        document.body.appendChild(div);\n",
              "    "
            ]
          },
          "metadata": {}
        },
        {
          "output_type": "stream",
          "name": "stdout",
          "text": [
            "Has elegido: No me gusta para Bend and Break\n",
            "Nuevo artista recomendado: Julio Sosa, score: 1\n"
          ]
        },
        {
          "output_type": "display_data",
          "data": {
            "text/plain": [
              "<IPython.core.display.Javascript object>"
            ],
            "application/javascript": [
              "\n",
              "        var div = document.createElement('div');\n",
              "        var btn1 = document.createElement('button');\n",
              "        btn1.innerHTML = 'Me gusta: Julio Sosa';\n",
              "        btn1.onclick = function() {\n",
              "          google.colab.kernel.invokeFunction('notebook.callback', ['Me gusta', 'Julio Sosa'], {});\n",
              "        };\n",
              "\n",
              "        var btn2 = document.createElement('button');\n",
              "        btn2.innerHTML = 'No me gusta: Julio Sosa';\n",
              "        btn2.onclick = function() {\n",
              "          google.colab.kernel.invokeFunction('notebook.callback', ['No me gusta', 'Julio Sosa'], {});\n",
              "        };\n",
              "\n",
              "        div.appendChild(btn1);\n",
              "        div.appendChild(btn2);\n",
              "        document.body.appendChild(div);\n",
              "    "
            ]
          },
          "metadata": {}
        },
        {
          "output_type": "stream",
          "name": "stdout",
          "text": [
            "Has elegido: Me gusta para Julio Sosa\n",
            "No hay más artistas en la lista de recomendaciones. Seleccionando un nuevo usuario.\n",
            "Nuevo usuario seleccionado. Artista recomendado: The Band, score: 1.3868361639099158\n"
          ]
        },
        {
          "output_type": "display_data",
          "data": {
            "text/plain": [
              "<IPython.core.display.Javascript object>"
            ],
            "application/javascript": [
              "\n",
              "        var div = document.createElement('div');\n",
              "        var btn1 = document.createElement('button');\n",
              "        btn1.innerHTML = 'Me gusta: The Band';\n",
              "        btn1.onclick = function() {\n",
              "          google.colab.kernel.invokeFunction('notebook.callback', ['Me gusta', 'The Band'], {});\n",
              "        };\n",
              "\n",
              "        var btn2 = document.createElement('button');\n",
              "        btn2.innerHTML = 'No me gusta: The Band';\n",
              "        btn2.onclick = function() {\n",
              "          google.colab.kernel.invokeFunction('notebook.callback', ['No me gusta', 'The Band'], {});\n",
              "        };\n",
              "\n",
              "        div.appendChild(btn1);\n",
              "        div.appendChild(btn2);\n",
              "        document.body.appendChild(div);\n",
              "    "
            ]
          },
          "metadata": {}
        },
        {
          "output_type": "stream",
          "name": "stdout",
          "text": [
            "Has elegido: No me gusta para The Band\n",
            "Nuevo artista recomendado: Amy Diamond, score: 1\n"
          ]
        },
        {
          "output_type": "display_data",
          "data": {
            "text/plain": [
              "<IPython.core.display.Javascript object>"
            ],
            "application/javascript": [
              "\n",
              "        var div = document.createElement('div');\n",
              "        var btn1 = document.createElement('button');\n",
              "        btn1.innerHTML = 'Me gusta: Amy Diamond';\n",
              "        btn1.onclick = function() {\n",
              "          google.colab.kernel.invokeFunction('notebook.callback', ['Me gusta', 'Amy Diamond'], {});\n",
              "        };\n",
              "\n",
              "        var btn2 = document.createElement('button');\n",
              "        btn2.innerHTML = 'No me gusta: Amy Diamond';\n",
              "        btn2.onclick = function() {\n",
              "          google.colab.kernel.invokeFunction('notebook.callback', ['No me gusta', 'Amy Diamond'], {});\n",
              "        };\n",
              "\n",
              "        div.appendChild(btn1);\n",
              "        div.appendChild(btn2);\n",
              "        document.body.appendChild(div);\n",
              "    "
            ]
          },
          "metadata": {}
        },
        {
          "output_type": "stream",
          "name": "stdout",
          "text": [
            "Has elegido: No me gusta para Amy Diamond\n",
            "Nuevo artista recomendado: Turbo, score: 1.0238903037604519\n"
          ]
        },
        {
          "output_type": "display_data",
          "data": {
            "text/plain": [
              "<IPython.core.display.Javascript object>"
            ],
            "application/javascript": [
              "\n",
              "        var div = document.createElement('div');\n",
              "        var btn1 = document.createElement('button');\n",
              "        btn1.innerHTML = 'Me gusta: Turbo';\n",
              "        btn1.onclick = function() {\n",
              "          google.colab.kernel.invokeFunction('notebook.callback', ['Me gusta', 'Turbo'], {});\n",
              "        };\n",
              "\n",
              "        var btn2 = document.createElement('button');\n",
              "        btn2.innerHTML = 'No me gusta: Turbo';\n",
              "        btn2.onclick = function() {\n",
              "          google.colab.kernel.invokeFunction('notebook.callback', ['No me gusta', 'Turbo'], {});\n",
              "        };\n",
              "\n",
              "        div.appendChild(btn1);\n",
              "        div.appendChild(btn2);\n",
              "        document.body.appendChild(div);\n",
              "    "
            ]
          },
          "metadata": {}
        },
        {
          "output_type": "stream",
          "name": "stdout",
          "text": [
            "Has elegido: No me gusta para Turbo\n",
            "Nuevo artista recomendado: Fuel, score: 1.0823849051982333\n"
          ]
        },
        {
          "output_type": "display_data",
          "data": {
            "text/plain": [
              "<IPython.core.display.Javascript object>"
            ],
            "application/javascript": [
              "\n",
              "        var div = document.createElement('div');\n",
              "        var btn1 = document.createElement('button');\n",
              "        btn1.innerHTML = 'Me gusta: Fuel';\n",
              "        btn1.onclick = function() {\n",
              "          google.colab.kernel.invokeFunction('notebook.callback', ['Me gusta', 'Fuel'], {});\n",
              "        };\n",
              "\n",
              "        var btn2 = document.createElement('button');\n",
              "        btn2.innerHTML = 'No me gusta: Fuel';\n",
              "        btn2.onclick = function() {\n",
              "          google.colab.kernel.invokeFunction('notebook.callback', ['No me gusta', 'Fuel'], {});\n",
              "        };\n",
              "\n",
              "        div.appendChild(btn1);\n",
              "        div.appendChild(btn2);\n",
              "        document.body.appendChild(div);\n",
              "    "
            ]
          },
          "metadata": {}
        },
        {
          "output_type": "stream",
          "name": "stdout",
          "text": [
            "Has elegido: Me gusta para Fuel\n"
          ]
        },
        {
          "output_type": "display_data",
          "data": {
            "text/plain": [
              "<IPython.core.display.HTML object>"
            ],
            "text/html": [
              "<h2 style='color: red;'>Te gustan los siguientes artistas:</h2><ul><li style='color: red;'>Duran Duran - new wave</li><li style='color: red;'>Texas - pop</li><li style='color: red;'>Zeplin - classic rock</li><li style='color: red;'>The Peacocks - psychobilly</li><li style='color: red;'>Julio Sosa - Desconocido</li><li style='color: red;'>Fuel - rock</li></ul><h3 style='color: yellow;'>Tu estilo de música preferido es: new wave</h3>"
            ]
          },
          "metadata": {}
        },
        {
          "output_type": "stream",
          "name": "stdout",
          "text": [
            "Has elegido: No me gusta para Fuel\n",
            "Nuevo artista recomendado: Iron Fire, score: 1\n"
          ]
        },
        {
          "output_type": "display_data",
          "data": {
            "text/plain": [
              "<IPython.core.display.Javascript object>"
            ],
            "application/javascript": [
              "\n",
              "        var div = document.createElement('div');\n",
              "        var btn1 = document.createElement('button');\n",
              "        btn1.innerHTML = 'Me gusta: Iron Fire';\n",
              "        btn1.onclick = function() {\n",
              "          google.colab.kernel.invokeFunction('notebook.callback', ['Me gusta', 'Iron Fire'], {});\n",
              "        };\n",
              "\n",
              "        var btn2 = document.createElement('button');\n",
              "        btn2.innerHTML = 'No me gusta: Iron Fire';\n",
              "        btn2.onclick = function() {\n",
              "          google.colab.kernel.invokeFunction('notebook.callback', ['No me gusta', 'Iron Fire'], {});\n",
              "        };\n",
              "\n",
              "        div.appendChild(btn1);\n",
              "        div.appendChild(btn2);\n",
              "        document.body.appendChild(div);\n",
              "    "
            ]
          },
          "metadata": {}
        },
        {
          "output_type": "stream",
          "name": "stdout",
          "text": [
            "Has elegido: No me gusta para Iron Fire\n",
            "Nuevo artista recomendado: Dert Floyd, score: 1\n"
          ]
        },
        {
          "output_type": "display_data",
          "data": {
            "text/plain": [
              "<IPython.core.display.Javascript object>"
            ],
            "application/javascript": [
              "\n",
              "        var div = document.createElement('div');\n",
              "        var btn1 = document.createElement('button');\n",
              "        btn1.innerHTML = 'Me gusta: Dert Floyd';\n",
              "        btn1.onclick = function() {\n",
              "          google.colab.kernel.invokeFunction('notebook.callback', ['Me gusta', 'Dert Floyd'], {});\n",
              "        };\n",
              "\n",
              "        var btn2 = document.createElement('button');\n",
              "        btn2.innerHTML = 'No me gusta: Dert Floyd';\n",
              "        btn2.onclick = function() {\n",
              "          google.colab.kernel.invokeFunction('notebook.callback', ['No me gusta', 'Dert Floyd'], {});\n",
              "        };\n",
              "\n",
              "        div.appendChild(btn1);\n",
              "        div.appendChild(btn2);\n",
              "        document.body.appendChild(div);\n",
              "    "
            ]
          },
          "metadata": {}
        },
        {
          "output_type": "stream",
          "name": "stdout",
          "text": [
            "Has elegido: No me gusta para Dert Floyd\n",
            "Nuevo artista recomendado: Tom Jones, score: 1\n"
          ]
        },
        {
          "output_type": "display_data",
          "data": {
            "text/plain": [
              "<IPython.core.display.Javascript object>"
            ],
            "application/javascript": [
              "\n",
              "        var div = document.createElement('div');\n",
              "        var btn1 = document.createElement('button');\n",
              "        btn1.innerHTML = 'Me gusta: Tom Jones';\n",
              "        btn1.onclick = function() {\n",
              "          google.colab.kernel.invokeFunction('notebook.callback', ['Me gusta', 'Tom Jones'], {});\n",
              "        };\n",
              "\n",
              "        var btn2 = document.createElement('button');\n",
              "        btn2.innerHTML = 'No me gusta: Tom Jones';\n",
              "        btn2.onclick = function() {\n",
              "          google.colab.kernel.invokeFunction('notebook.callback', ['No me gusta', 'Tom Jones'], {});\n",
              "        };\n",
              "\n",
              "        div.appendChild(btn1);\n",
              "        div.appendChild(btn2);\n",
              "        document.body.appendChild(div);\n",
              "    "
            ]
          },
          "metadata": {}
        },
        {
          "output_type": "stream",
          "name": "stdout",
          "text": [
            "Has elegido: Me gusta para Tom Jones\n"
          ]
        },
        {
          "output_type": "display_data",
          "data": {
            "text/plain": [
              "<IPython.core.display.HTML object>"
            ],
            "text/html": [
              "<h2 style='color: red;'>Te gustan los siguientes artistas:</h2><ul><li style='color: red;'>Duran Duran - new wave</li><li style='color: red;'>Texas - pop</li><li style='color: red;'>Zeplin - classic rock</li><li style='color: red;'>The Peacocks - psychobilly</li><li style='color: red;'>Julio Sosa - Desconocido</li><li style='color: red;'>Fuel - rock</li><li style='color: red;'>Tom Jones - guilty pleasures</li></ul><h3 style='color: yellow;'>Tu estilo de música preferido es: new wave</h3>"
            ]
          },
          "metadata": {}
        }
      ]
    }
  ]
}